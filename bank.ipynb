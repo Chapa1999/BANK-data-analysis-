{
 "cells": [
  {
   "cell_type": "markdown",
   "id": "42fd3250",
   "metadata": {},
   "source": [
    "# IMPORT LYBERIES"
   ]
  },
  {
   "cell_type": "code",
   "execution_count": 1,
   "id": "29c393c8",
   "metadata": {},
   "outputs": [],
   "source": [
    "import numpy as np\n",
    "import pandas as pd\n",
    "import matplotlib.pyplot as plt\n",
    "import seaborn as sns\n",
    "import missingno as msno\n",
    "from scipy import stats\n",
    "import warnings\n",
    "warnings.simplefilter(action = \"ignore\")\n",
    "from tabulate import tabulate\n",
    "from termcolor import colored"
   ]
  },
  {
   "cell_type": "markdown",
   "id": "b0e33d36",
   "metadata": {},
   "source": [
    "## LOADING DATASET"
   ]
  },
  {
   "cell_type": "code",
   "execution_count": 2,
   "id": "d23d6327",
   "metadata": {},
   "outputs": [
    {
     "data": {
      "text/html": [
       "<div>\n",
       "<style scoped>\n",
       "    .dataframe tbody tr th:only-of-type {\n",
       "        vertical-align: middle;\n",
       "    }\n",
       "\n",
       "    .dataframe tbody tr th {\n",
       "        vertical-align: top;\n",
       "    }\n",
       "\n",
       "    .dataframe thead th {\n",
       "        text-align: right;\n",
       "    }\n",
       "</style>\n",
       "<table border=\"1\" class=\"dataframe\">\n",
       "  <thead>\n",
       "    <tr style=\"text-align: right;\">\n",
       "      <th></th>\n",
       "      <th>customerid</th>\n",
       "      <th>age</th>\n",
       "      <th>salary</th>\n",
       "      <th>balance</th>\n",
       "      <th>marital</th>\n",
       "      <th>jobedu</th>\n",
       "      <th>targeted</th>\n",
       "      <th>default</th>\n",
       "      <th>housing</th>\n",
       "      <th>loan</th>\n",
       "      <th>contact</th>\n",
       "      <th>day</th>\n",
       "      <th>month</th>\n",
       "      <th>duration</th>\n",
       "      <th>campaign</th>\n",
       "      <th>pdays</th>\n",
       "      <th>previous</th>\n",
       "      <th>poutcome</th>\n",
       "      <th>response</th>\n",
       "    </tr>\n",
       "  </thead>\n",
       "  <tbody>\n",
       "    <tr>\n",
       "      <th>0</th>\n",
       "      <td>1</td>\n",
       "      <td>58.0</td>\n",
       "      <td>100000</td>\n",
       "      <td>2143</td>\n",
       "      <td>married</td>\n",
       "      <td>management,tertiary</td>\n",
       "      <td>yes</td>\n",
       "      <td>no</td>\n",
       "      <td>yes</td>\n",
       "      <td>no</td>\n",
       "      <td>unknown</td>\n",
       "      <td>5</td>\n",
       "      <td>may, 2017</td>\n",
       "      <td>261 sec</td>\n",
       "      <td>1</td>\n",
       "      <td>-1</td>\n",
       "      <td>0</td>\n",
       "      <td>unknown</td>\n",
       "      <td>no</td>\n",
       "    </tr>\n",
       "    <tr>\n",
       "      <th>1</th>\n",
       "      <td>2</td>\n",
       "      <td>44.0</td>\n",
       "      <td>60000</td>\n",
       "      <td>29</td>\n",
       "      <td>single</td>\n",
       "      <td>technician,secondary</td>\n",
       "      <td>yes</td>\n",
       "      <td>no</td>\n",
       "      <td>yes</td>\n",
       "      <td>no</td>\n",
       "      <td>unknown</td>\n",
       "      <td>5</td>\n",
       "      <td>may, 2017</td>\n",
       "      <td>151 sec</td>\n",
       "      <td>1</td>\n",
       "      <td>-1</td>\n",
       "      <td>0</td>\n",
       "      <td>unknown</td>\n",
       "      <td>no</td>\n",
       "    </tr>\n",
       "    <tr>\n",
       "      <th>2</th>\n",
       "      <td>3</td>\n",
       "      <td>33.0</td>\n",
       "      <td>120000</td>\n",
       "      <td>2</td>\n",
       "      <td>married</td>\n",
       "      <td>entrepreneur,secondary</td>\n",
       "      <td>yes</td>\n",
       "      <td>no</td>\n",
       "      <td>yes</td>\n",
       "      <td>yes</td>\n",
       "      <td>unknown</td>\n",
       "      <td>5</td>\n",
       "      <td>may, 2017</td>\n",
       "      <td>76 sec</td>\n",
       "      <td>1</td>\n",
       "      <td>-1</td>\n",
       "      <td>0</td>\n",
       "      <td>unknown</td>\n",
       "      <td>no</td>\n",
       "    </tr>\n",
       "    <tr>\n",
       "      <th>3</th>\n",
       "      <td>4</td>\n",
       "      <td>47.0</td>\n",
       "      <td>20000</td>\n",
       "      <td>1506</td>\n",
       "      <td>married</td>\n",
       "      <td>blue-collar,unknown</td>\n",
       "      <td>no</td>\n",
       "      <td>no</td>\n",
       "      <td>yes</td>\n",
       "      <td>no</td>\n",
       "      <td>unknown</td>\n",
       "      <td>5</td>\n",
       "      <td>may, 2017</td>\n",
       "      <td>92 sec</td>\n",
       "      <td>1</td>\n",
       "      <td>-1</td>\n",
       "      <td>0</td>\n",
       "      <td>unknown</td>\n",
       "      <td>no</td>\n",
       "    </tr>\n",
       "    <tr>\n",
       "      <th>4</th>\n",
       "      <td>5</td>\n",
       "      <td>33.0</td>\n",
       "      <td>0</td>\n",
       "      <td>1</td>\n",
       "      <td>single</td>\n",
       "      <td>unknown,unknown</td>\n",
       "      <td>no</td>\n",
       "      <td>no</td>\n",
       "      <td>no</td>\n",
       "      <td>no</td>\n",
       "      <td>unknown</td>\n",
       "      <td>5</td>\n",
       "      <td>may, 2017</td>\n",
       "      <td>198 sec</td>\n",
       "      <td>1</td>\n",
       "      <td>-1</td>\n",
       "      <td>0</td>\n",
       "      <td>unknown</td>\n",
       "      <td>no</td>\n",
       "    </tr>\n",
       "    <tr>\n",
       "      <th>...</th>\n",
       "      <td>...</td>\n",
       "      <td>...</td>\n",
       "      <td>...</td>\n",
       "      <td>...</td>\n",
       "      <td>...</td>\n",
       "      <td>...</td>\n",
       "      <td>...</td>\n",
       "      <td>...</td>\n",
       "      <td>...</td>\n",
       "      <td>...</td>\n",
       "      <td>...</td>\n",
       "      <td>...</td>\n",
       "      <td>...</td>\n",
       "      <td>...</td>\n",
       "      <td>...</td>\n",
       "      <td>...</td>\n",
       "      <td>...</td>\n",
       "      <td>...</td>\n",
       "      <td>...</td>\n",
       "    </tr>\n",
       "    <tr>\n",
       "      <th>45206</th>\n",
       "      <td>45207</td>\n",
       "      <td>51.0</td>\n",
       "      <td>60000</td>\n",
       "      <td>825</td>\n",
       "      <td>married</td>\n",
       "      <td>technician,tertiary</td>\n",
       "      <td>yes</td>\n",
       "      <td>no</td>\n",
       "      <td>no</td>\n",
       "      <td>no</td>\n",
       "      <td>cellular</td>\n",
       "      <td>17</td>\n",
       "      <td>nov, 2017</td>\n",
       "      <td>16.2833333333333 min</td>\n",
       "      <td>3</td>\n",
       "      <td>-1</td>\n",
       "      <td>0</td>\n",
       "      <td>unknown</td>\n",
       "      <td>yes</td>\n",
       "    </tr>\n",
       "    <tr>\n",
       "      <th>45207</th>\n",
       "      <td>45208</td>\n",
       "      <td>71.0</td>\n",
       "      <td>55000</td>\n",
       "      <td>1729</td>\n",
       "      <td>divorced</td>\n",
       "      <td>retired,primary</td>\n",
       "      <td>yes</td>\n",
       "      <td>no</td>\n",
       "      <td>no</td>\n",
       "      <td>no</td>\n",
       "      <td>cellular</td>\n",
       "      <td>17</td>\n",
       "      <td>nov, 2017</td>\n",
       "      <td>7.6 min</td>\n",
       "      <td>2</td>\n",
       "      <td>-1</td>\n",
       "      <td>0</td>\n",
       "      <td>unknown</td>\n",
       "      <td>yes</td>\n",
       "    </tr>\n",
       "    <tr>\n",
       "      <th>45208</th>\n",
       "      <td>45209</td>\n",
       "      <td>72.0</td>\n",
       "      <td>55000</td>\n",
       "      <td>5715</td>\n",
       "      <td>married</td>\n",
       "      <td>retired,secondary</td>\n",
       "      <td>yes</td>\n",
       "      <td>no</td>\n",
       "      <td>no</td>\n",
       "      <td>no</td>\n",
       "      <td>cellular</td>\n",
       "      <td>17</td>\n",
       "      <td>nov, 2017</td>\n",
       "      <td>18.7833333333333 min</td>\n",
       "      <td>5</td>\n",
       "      <td>184</td>\n",
       "      <td>3</td>\n",
       "      <td>success</td>\n",
       "      <td>yes</td>\n",
       "    </tr>\n",
       "    <tr>\n",
       "      <th>45209</th>\n",
       "      <td>45210</td>\n",
       "      <td>57.0</td>\n",
       "      <td>20000</td>\n",
       "      <td>668</td>\n",
       "      <td>married</td>\n",
       "      <td>blue-collar,secondary</td>\n",
       "      <td>yes</td>\n",
       "      <td>no</td>\n",
       "      <td>no</td>\n",
       "      <td>no</td>\n",
       "      <td>telephone</td>\n",
       "      <td>17</td>\n",
       "      <td>nov, 2017</td>\n",
       "      <td>8.46666666666667 min</td>\n",
       "      <td>4</td>\n",
       "      <td>-1</td>\n",
       "      <td>0</td>\n",
       "      <td>unknown</td>\n",
       "      <td>no</td>\n",
       "    </tr>\n",
       "    <tr>\n",
       "      <th>45210</th>\n",
       "      <td>45211</td>\n",
       "      <td>37.0</td>\n",
       "      <td>120000</td>\n",
       "      <td>2971</td>\n",
       "      <td>married</td>\n",
       "      <td>entrepreneur,secondary</td>\n",
       "      <td>yes</td>\n",
       "      <td>no</td>\n",
       "      <td>no</td>\n",
       "      <td>no</td>\n",
       "      <td>cellular</td>\n",
       "      <td>17</td>\n",
       "      <td>nov, 2017</td>\n",
       "      <td>6.01666666666667 min</td>\n",
       "      <td>2</td>\n",
       "      <td>188</td>\n",
       "      <td>11</td>\n",
       "      <td>other</td>\n",
       "      <td>no</td>\n",
       "    </tr>\n",
       "  </tbody>\n",
       "</table>\n",
       "<p>45211 rows × 19 columns</p>\n",
       "</div>"
      ],
      "text/plain": [
       "       customerid   age  salary  balance   marital                  jobedu  \\\n",
       "0               1  58.0  100000     2143   married     management,tertiary   \n",
       "1               2  44.0   60000       29    single    technician,secondary   \n",
       "2               3  33.0  120000        2   married  entrepreneur,secondary   \n",
       "3               4  47.0   20000     1506   married     blue-collar,unknown   \n",
       "4               5  33.0       0        1    single         unknown,unknown   \n",
       "...           ...   ...     ...      ...       ...                     ...   \n",
       "45206       45207  51.0   60000      825   married     technician,tertiary   \n",
       "45207       45208  71.0   55000     1729  divorced         retired,primary   \n",
       "45208       45209  72.0   55000     5715   married       retired,secondary   \n",
       "45209       45210  57.0   20000      668   married   blue-collar,secondary   \n",
       "45210       45211  37.0  120000     2971   married  entrepreneur,secondary   \n",
       "\n",
       "      targeted default housing loan    contact  day      month  \\\n",
       "0          yes      no     yes   no    unknown    5  may, 2017   \n",
       "1          yes      no     yes   no    unknown    5  may, 2017   \n",
       "2          yes      no     yes  yes    unknown    5  may, 2017   \n",
       "3           no      no     yes   no    unknown    5  may, 2017   \n",
       "4           no      no      no   no    unknown    5  may, 2017   \n",
       "...        ...     ...     ...  ...        ...  ...        ...   \n",
       "45206      yes      no      no   no   cellular   17  nov, 2017   \n",
       "45207      yes      no      no   no   cellular   17  nov, 2017   \n",
       "45208      yes      no      no   no   cellular   17  nov, 2017   \n",
       "45209      yes      no      no   no  telephone   17  nov, 2017   \n",
       "45210      yes      no      no   no   cellular   17  nov, 2017   \n",
       "\n",
       "                   duration  campaign  pdays  previous poutcome response  \n",
       "0                   261 sec         1     -1         0  unknown       no  \n",
       "1                   151 sec         1     -1         0  unknown       no  \n",
       "2                    76 sec         1     -1         0  unknown       no  \n",
       "3                    92 sec         1     -1         0  unknown       no  \n",
       "4                   198 sec         1     -1         0  unknown       no  \n",
       "...                     ...       ...    ...       ...      ...      ...  \n",
       "45206  16.2833333333333 min         3     -1         0  unknown      yes  \n",
       "45207               7.6 min         2     -1         0  unknown      yes  \n",
       "45208  18.7833333333333 min         5    184         3  success      yes  \n",
       "45209  8.46666666666667 min         4     -1         0  unknown       no  \n",
       "45210  6.01666666666667 min         2    188        11    other       no  \n",
       "\n",
       "[45211 rows x 19 columns]"
      ]
     },
     "execution_count": 2,
     "metadata": {},
     "output_type": "execute_result"
    }
   ],
   "source": [
    "data = pd.read_excel(\"Data.xlsx\",skiprows=2)\n",
    "data"
   ]
  },
  {
   "cell_type": "markdown",
   "id": "44a57419",
   "metadata": {},
   "source": [
    "## DATA DESCRIPTION"
   ]
  },
  {
   "cell_type": "code",
   "execution_count": 3,
   "id": "950afa3c",
   "metadata": {},
   "outputs": [
    {
     "data": {
      "text/html": [
       "<div>\n",
       "<style scoped>\n",
       "    .dataframe tbody tr th:only-of-type {\n",
       "        vertical-align: middle;\n",
       "    }\n",
       "\n",
       "    .dataframe tbody tr th {\n",
       "        vertical-align: top;\n",
       "    }\n",
       "\n",
       "    .dataframe thead th {\n",
       "        text-align: right;\n",
       "    }\n",
       "</style>\n",
       "<table border=\"1\" class=\"dataframe\">\n",
       "  <thead>\n",
       "    <tr style=\"text-align: right;\">\n",
       "      <th></th>\n",
       "      <th>customerid</th>\n",
       "      <th>age</th>\n",
       "      <th>salary</th>\n",
       "      <th>balance</th>\n",
       "      <th>marital</th>\n",
       "      <th>jobedu</th>\n",
       "      <th>targeted</th>\n",
       "      <th>default</th>\n",
       "      <th>housing</th>\n",
       "      <th>loan</th>\n",
       "      <th>contact</th>\n",
       "      <th>day</th>\n",
       "      <th>month</th>\n",
       "      <th>duration</th>\n",
       "      <th>campaign</th>\n",
       "      <th>pdays</th>\n",
       "      <th>previous</th>\n",
       "      <th>poutcome</th>\n",
       "      <th>response</th>\n",
       "    </tr>\n",
       "  </thead>\n",
       "  <tbody>\n",
       "    <tr>\n",
       "      <th>0</th>\n",
       "      <td>1</td>\n",
       "      <td>58.0</td>\n",
       "      <td>100000</td>\n",
       "      <td>2143</td>\n",
       "      <td>married</td>\n",
       "      <td>management,tertiary</td>\n",
       "      <td>yes</td>\n",
       "      <td>no</td>\n",
       "      <td>yes</td>\n",
       "      <td>no</td>\n",
       "      <td>unknown</td>\n",
       "      <td>5</td>\n",
       "      <td>may, 2017</td>\n",
       "      <td>261 sec</td>\n",
       "      <td>1</td>\n",
       "      <td>-1</td>\n",
       "      <td>0</td>\n",
       "      <td>unknown</td>\n",
       "      <td>no</td>\n",
       "    </tr>\n",
       "    <tr>\n",
       "      <th>1</th>\n",
       "      <td>2</td>\n",
       "      <td>44.0</td>\n",
       "      <td>60000</td>\n",
       "      <td>29</td>\n",
       "      <td>single</td>\n",
       "      <td>technician,secondary</td>\n",
       "      <td>yes</td>\n",
       "      <td>no</td>\n",
       "      <td>yes</td>\n",
       "      <td>no</td>\n",
       "      <td>unknown</td>\n",
       "      <td>5</td>\n",
       "      <td>may, 2017</td>\n",
       "      <td>151 sec</td>\n",
       "      <td>1</td>\n",
       "      <td>-1</td>\n",
       "      <td>0</td>\n",
       "      <td>unknown</td>\n",
       "      <td>no</td>\n",
       "    </tr>\n",
       "    <tr>\n",
       "      <th>2</th>\n",
       "      <td>3</td>\n",
       "      <td>33.0</td>\n",
       "      <td>120000</td>\n",
       "      <td>2</td>\n",
       "      <td>married</td>\n",
       "      <td>entrepreneur,secondary</td>\n",
       "      <td>yes</td>\n",
       "      <td>no</td>\n",
       "      <td>yes</td>\n",
       "      <td>yes</td>\n",
       "      <td>unknown</td>\n",
       "      <td>5</td>\n",
       "      <td>may, 2017</td>\n",
       "      <td>76 sec</td>\n",
       "      <td>1</td>\n",
       "      <td>-1</td>\n",
       "      <td>0</td>\n",
       "      <td>unknown</td>\n",
       "      <td>no</td>\n",
       "    </tr>\n",
       "  </tbody>\n",
       "</table>\n",
       "</div>"
      ],
      "text/plain": [
       "   customerid   age  salary  balance  marital                  jobedu  \\\n",
       "0           1  58.0  100000     2143  married     management,tertiary   \n",
       "1           2  44.0   60000       29   single    technician,secondary   \n",
       "2           3  33.0  120000        2  married  entrepreneur,secondary   \n",
       "\n",
       "  targeted default housing loan  contact  day      month duration  campaign  \\\n",
       "0      yes      no     yes   no  unknown    5  may, 2017  261 sec         1   \n",
       "1      yes      no     yes   no  unknown    5  may, 2017  151 sec         1   \n",
       "2      yes      no     yes  yes  unknown    5  may, 2017   76 sec         1   \n",
       "\n",
       "   pdays  previous poutcome response  \n",
       "0     -1         0  unknown       no  \n",
       "1     -1         0  unknown       no  \n",
       "2     -1         0  unknown       no  "
      ]
     },
     "execution_count": 3,
     "metadata": {},
     "output_type": "execute_result"
    }
   ],
   "source": [
    "data.head(3)"
   ]
  },
  {
   "cell_type": "code",
   "execution_count": 4,
   "id": "e879f69c",
   "metadata": {},
   "outputs": [
    {
     "data": {
      "text/plain": [
       "customerid      int64\n",
       "age           float64\n",
       "salary         object\n",
       "balance         int64\n",
       "marital        object\n",
       "jobedu         object\n",
       "targeted       object\n",
       "default        object\n",
       "housing        object\n",
       "loan           object\n",
       "contact        object\n",
       "day             int64\n",
       "month          object\n",
       "duration       object\n",
       "campaign        int64\n",
       "pdays           int64\n",
       "previous        int64\n",
       "poutcome       object\n",
       "response       object\n",
       "dtype: object"
      ]
     },
     "execution_count": 4,
     "metadata": {},
     "output_type": "execute_result"
    }
   ],
   "source": [
    "data.dtypes"
   ]
  },
  {
   "cell_type": "code",
   "execution_count": 5,
   "id": "aa3b0cad",
   "metadata": {},
   "outputs": [
    {
     "data": {
      "text/plain": [
       "(45211, 19)"
      ]
     },
     "execution_count": 5,
     "metadata": {},
     "output_type": "execute_result"
    }
   ],
   "source": [
    "# shape\n",
    "data.shape"
   ]
  },
  {
   "cell_type": "code",
   "execution_count": 6,
   "id": "13322e0a",
   "metadata": {},
   "outputs": [
    {
     "data": {
      "text/html": [
       "<div>\n",
       "<style scoped>\n",
       "    .dataframe tbody tr th:only-of-type {\n",
       "        vertical-align: middle;\n",
       "    }\n",
       "\n",
       "    .dataframe tbody tr th {\n",
       "        vertical-align: top;\n",
       "    }\n",
       "\n",
       "    .dataframe thead th {\n",
       "        text-align: right;\n",
       "    }\n",
       "</style>\n",
       "<table border=\"1\" class=\"dataframe\">\n",
       "  <thead>\n",
       "    <tr style=\"text-align: right;\">\n",
       "      <th></th>\n",
       "      <th>customerid</th>\n",
       "      <th>age</th>\n",
       "      <th>balance</th>\n",
       "      <th>day</th>\n",
       "      <th>campaign</th>\n",
       "      <th>pdays</th>\n",
       "      <th>previous</th>\n",
       "    </tr>\n",
       "  </thead>\n",
       "  <tbody>\n",
       "    <tr>\n",
       "      <th>count</th>\n",
       "      <td>45211.000000</td>\n",
       "      <td>45191.000000</td>\n",
       "      <td>45211.000000</td>\n",
       "      <td>45211.000000</td>\n",
       "      <td>45211.000000</td>\n",
       "      <td>45211.000000</td>\n",
       "      <td>45211.000000</td>\n",
       "    </tr>\n",
       "    <tr>\n",
       "      <th>mean</th>\n",
       "      <td>22606.000000</td>\n",
       "      <td>40.935651</td>\n",
       "      <td>1362.272058</td>\n",
       "      <td>15.806419</td>\n",
       "      <td>2.763841</td>\n",
       "      <td>40.197828</td>\n",
       "      <td>0.580323</td>\n",
       "    </tr>\n",
       "    <tr>\n",
       "      <th>std</th>\n",
       "      <td>13051.435847</td>\n",
       "      <td>10.619198</td>\n",
       "      <td>3044.765829</td>\n",
       "      <td>8.322476</td>\n",
       "      <td>3.098021</td>\n",
       "      <td>100.128746</td>\n",
       "      <td>2.303441</td>\n",
       "    </tr>\n",
       "    <tr>\n",
       "      <th>min</th>\n",
       "      <td>1.000000</td>\n",
       "      <td>18.000000</td>\n",
       "      <td>-8019.000000</td>\n",
       "      <td>1.000000</td>\n",
       "      <td>1.000000</td>\n",
       "      <td>-1.000000</td>\n",
       "      <td>0.000000</td>\n",
       "    </tr>\n",
       "    <tr>\n",
       "      <th>25%</th>\n",
       "      <td>11303.500000</td>\n",
       "      <td>33.000000</td>\n",
       "      <td>72.000000</td>\n",
       "      <td>8.000000</td>\n",
       "      <td>1.000000</td>\n",
       "      <td>-1.000000</td>\n",
       "      <td>0.000000</td>\n",
       "    </tr>\n",
       "    <tr>\n",
       "      <th>50%</th>\n",
       "      <td>22606.000000</td>\n",
       "      <td>39.000000</td>\n",
       "      <td>448.000000</td>\n",
       "      <td>16.000000</td>\n",
       "      <td>2.000000</td>\n",
       "      <td>-1.000000</td>\n",
       "      <td>0.000000</td>\n",
       "    </tr>\n",
       "    <tr>\n",
       "      <th>75%</th>\n",
       "      <td>33908.500000</td>\n",
       "      <td>48.000000</td>\n",
       "      <td>1428.000000</td>\n",
       "      <td>21.000000</td>\n",
       "      <td>3.000000</td>\n",
       "      <td>-1.000000</td>\n",
       "      <td>0.000000</td>\n",
       "    </tr>\n",
       "    <tr>\n",
       "      <th>max</th>\n",
       "      <td>45211.000000</td>\n",
       "      <td>95.000000</td>\n",
       "      <td>102127.000000</td>\n",
       "      <td>31.000000</td>\n",
       "      <td>63.000000</td>\n",
       "      <td>871.000000</td>\n",
       "      <td>275.000000</td>\n",
       "    </tr>\n",
       "  </tbody>\n",
       "</table>\n",
       "</div>"
      ],
      "text/plain": [
       "         customerid           age        balance           day      campaign  \\\n",
       "count  45211.000000  45191.000000   45211.000000  45211.000000  45211.000000   \n",
       "mean   22606.000000     40.935651    1362.272058     15.806419      2.763841   \n",
       "std    13051.435847     10.619198    3044.765829      8.322476      3.098021   \n",
       "min        1.000000     18.000000   -8019.000000      1.000000      1.000000   \n",
       "25%    11303.500000     33.000000      72.000000      8.000000      1.000000   \n",
       "50%    22606.000000     39.000000     448.000000     16.000000      2.000000   \n",
       "75%    33908.500000     48.000000    1428.000000     21.000000      3.000000   \n",
       "max    45211.000000     95.000000  102127.000000     31.000000     63.000000   \n",
       "\n",
       "              pdays      previous  \n",
       "count  45211.000000  45211.000000  \n",
       "mean      40.197828      0.580323  \n",
       "std      100.128746      2.303441  \n",
       "min       -1.000000      0.000000  \n",
       "25%       -1.000000      0.000000  \n",
       "50%       -1.000000      0.000000  \n",
       "75%       -1.000000      0.000000  \n",
       "max      871.000000    275.000000  "
      ]
     },
     "execution_count": 6,
     "metadata": {},
     "output_type": "execute_result"
    }
   ],
   "source": [
    "# descriptions\n",
    "data.describe()"
   ]
  },
  {
   "cell_type": "code",
   "execution_count": 7,
   "id": "712c2e43",
   "metadata": {},
   "outputs": [
    {
     "name": "stdout",
     "output_type": "stream",
     "text": [
      "<class 'pandas.core.frame.DataFrame'>\n",
      "RangeIndex: 45211 entries, 0 to 45210\n",
      "Data columns (total 19 columns):\n",
      " #   Column      Non-Null Count  Dtype  \n",
      "---  ------      --------------  -----  \n",
      " 0   customerid  45211 non-null  int64  \n",
      " 1   age         45191 non-null  float64\n",
      " 2   salary      45211 non-null  object \n",
      " 3   balance     45211 non-null  int64  \n",
      " 4   marital     45211 non-null  object \n",
      " 5   jobedu      45211 non-null  object \n",
      " 6   targeted    45211 non-null  object \n",
      " 7   default     45211 non-null  object \n",
      " 8   housing     45211 non-null  object \n",
      " 9   loan        45211 non-null  object \n",
      " 10  contact     45211 non-null  object \n",
      " 11  day         45211 non-null  int64  \n",
      " 12  month       45161 non-null  object \n",
      " 13  duration    45211 non-null  object \n",
      " 14  campaign    45211 non-null  int64  \n",
      " 15  pdays       45211 non-null  int64  \n",
      " 16  previous    45211 non-null  int64  \n",
      " 17  poutcome    45211 non-null  object \n",
      " 18  response    45181 non-null  object \n",
      "dtypes: float64(1), int64(6), object(12)\n",
      "memory usage: 6.6+ MB\n"
     ]
    }
   ],
   "source": [
    "data.info()"
   ]
  },
  {
   "cell_type": "code",
   "execution_count": 8,
   "id": "d4d359cf",
   "metadata": {},
   "outputs": [
    {
     "data": {
      "text/html": [
       "<div>\n",
       "<style scoped>\n",
       "    .dataframe tbody tr th:only-of-type {\n",
       "        vertical-align: middle;\n",
       "    }\n",
       "\n",
       "    .dataframe tbody tr th {\n",
       "        vertical-align: top;\n",
       "    }\n",
       "\n",
       "    .dataframe thead th {\n",
       "        text-align: right;\n",
       "    }\n",
       "</style>\n",
       "<table border=\"1\" class=\"dataframe\">\n",
       "  <thead>\n",
       "    <tr style=\"text-align: right;\">\n",
       "      <th></th>\n",
       "      <th>Unnamed: 0</th>\n",
       "      <th>customerid</th>\n",
       "      <th>age</th>\n",
       "      <th>salary</th>\n",
       "      <th>balance</th>\n",
       "      <th>marital</th>\n",
       "      <th>jobedu</th>\n",
       "      <th>targeted</th>\n",
       "      <th>default</th>\n",
       "      <th>housing</th>\n",
       "      <th>loan</th>\n",
       "      <th>contact</th>\n",
       "      <th>day</th>\n",
       "      <th>month</th>\n",
       "      <th>duration</th>\n",
       "      <th>campaign</th>\n",
       "      <th>pdays</th>\n",
       "      <th>previous</th>\n",
       "      <th>poutcome</th>\n",
       "      <th>response</th>\n",
       "    </tr>\n",
       "  </thead>\n",
       "  <tbody>\n",
       "    <tr>\n",
       "      <th>0</th>\n",
       "      <td>0</td>\n",
       "      <td>1</td>\n",
       "      <td>58.0</td>\n",
       "      <td>100000</td>\n",
       "      <td>2143</td>\n",
       "      <td>married</td>\n",
       "      <td>management,tertiary</td>\n",
       "      <td>yes</td>\n",
       "      <td>no</td>\n",
       "      <td>yes</td>\n",
       "      <td>no</td>\n",
       "      <td>unknown</td>\n",
       "      <td>5</td>\n",
       "      <td>may, 2017</td>\n",
       "      <td>261 sec</td>\n",
       "      <td>1</td>\n",
       "      <td>-1</td>\n",
       "      <td>0</td>\n",
       "      <td>unknown</td>\n",
       "      <td>no</td>\n",
       "    </tr>\n",
       "    <tr>\n",
       "      <th>1</th>\n",
       "      <td>1</td>\n",
       "      <td>2</td>\n",
       "      <td>44.0</td>\n",
       "      <td>60000</td>\n",
       "      <td>29</td>\n",
       "      <td>single</td>\n",
       "      <td>technician,secondary</td>\n",
       "      <td>yes</td>\n",
       "      <td>no</td>\n",
       "      <td>yes</td>\n",
       "      <td>no</td>\n",
       "      <td>unknown</td>\n",
       "      <td>5</td>\n",
       "      <td>may, 2017</td>\n",
       "      <td>151 sec</td>\n",
       "      <td>1</td>\n",
       "      <td>-1</td>\n",
       "      <td>0</td>\n",
       "      <td>unknown</td>\n",
       "      <td>no</td>\n",
       "    </tr>\n",
       "    <tr>\n",
       "      <th>2</th>\n",
       "      <td>2</td>\n",
       "      <td>3</td>\n",
       "      <td>33.0</td>\n",
       "      <td>120000</td>\n",
       "      <td>2</td>\n",
       "      <td>married</td>\n",
       "      <td>entrepreneur,secondary</td>\n",
       "      <td>yes</td>\n",
       "      <td>no</td>\n",
       "      <td>yes</td>\n",
       "      <td>yes</td>\n",
       "      <td>unknown</td>\n",
       "      <td>5</td>\n",
       "      <td>may, 2017</td>\n",
       "      <td>76 sec</td>\n",
       "      <td>1</td>\n",
       "      <td>-1</td>\n",
       "      <td>0</td>\n",
       "      <td>unknown</td>\n",
       "      <td>no</td>\n",
       "    </tr>\n",
       "    <tr>\n",
       "      <th>3</th>\n",
       "      <td>3</td>\n",
       "      <td>4</td>\n",
       "      <td>47.0</td>\n",
       "      <td>20000</td>\n",
       "      <td>1506</td>\n",
       "      <td>married</td>\n",
       "      <td>blue-collar,unknown</td>\n",
       "      <td>no</td>\n",
       "      <td>no</td>\n",
       "      <td>yes</td>\n",
       "      <td>no</td>\n",
       "      <td>unknown</td>\n",
       "      <td>5</td>\n",
       "      <td>may, 2017</td>\n",
       "      <td>92 sec</td>\n",
       "      <td>1</td>\n",
       "      <td>-1</td>\n",
       "      <td>0</td>\n",
       "      <td>unknown</td>\n",
       "      <td>no</td>\n",
       "    </tr>\n",
       "    <tr>\n",
       "      <th>4</th>\n",
       "      <td>4</td>\n",
       "      <td>5</td>\n",
       "      <td>33.0</td>\n",
       "      <td>0</td>\n",
       "      <td>1</td>\n",
       "      <td>single</td>\n",
       "      <td>unknown,unknown</td>\n",
       "      <td>no</td>\n",
       "      <td>no</td>\n",
       "      <td>no</td>\n",
       "      <td>no</td>\n",
       "      <td>unknown</td>\n",
       "      <td>5</td>\n",
       "      <td>may, 2017</td>\n",
       "      <td>198 sec</td>\n",
       "      <td>1</td>\n",
       "      <td>-1</td>\n",
       "      <td>0</td>\n",
       "      <td>unknown</td>\n",
       "      <td>no</td>\n",
       "    </tr>\n",
       "    <tr>\n",
       "      <th>...</th>\n",
       "      <td>...</td>\n",
       "      <td>...</td>\n",
       "      <td>...</td>\n",
       "      <td>...</td>\n",
       "      <td>...</td>\n",
       "      <td>...</td>\n",
       "      <td>...</td>\n",
       "      <td>...</td>\n",
       "      <td>...</td>\n",
       "      <td>...</td>\n",
       "      <td>...</td>\n",
       "      <td>...</td>\n",
       "      <td>...</td>\n",
       "      <td>...</td>\n",
       "      <td>...</td>\n",
       "      <td>...</td>\n",
       "      <td>...</td>\n",
       "      <td>...</td>\n",
       "      <td>...</td>\n",
       "      <td>...</td>\n",
       "    </tr>\n",
       "    <tr>\n",
       "      <th>45206</th>\n",
       "      <td>45206</td>\n",
       "      <td>45207</td>\n",
       "      <td>51.0</td>\n",
       "      <td>60000</td>\n",
       "      <td>825</td>\n",
       "      <td>married</td>\n",
       "      <td>technician,tertiary</td>\n",
       "      <td>yes</td>\n",
       "      <td>no</td>\n",
       "      <td>no</td>\n",
       "      <td>no</td>\n",
       "      <td>cellular</td>\n",
       "      <td>17</td>\n",
       "      <td>nov, 2017</td>\n",
       "      <td>16.2833333333333 min</td>\n",
       "      <td>3</td>\n",
       "      <td>-1</td>\n",
       "      <td>0</td>\n",
       "      <td>unknown</td>\n",
       "      <td>yes</td>\n",
       "    </tr>\n",
       "    <tr>\n",
       "      <th>45207</th>\n",
       "      <td>45207</td>\n",
       "      <td>45208</td>\n",
       "      <td>71.0</td>\n",
       "      <td>55000</td>\n",
       "      <td>1729</td>\n",
       "      <td>divorced</td>\n",
       "      <td>retired,primary</td>\n",
       "      <td>yes</td>\n",
       "      <td>no</td>\n",
       "      <td>no</td>\n",
       "      <td>no</td>\n",
       "      <td>cellular</td>\n",
       "      <td>17</td>\n",
       "      <td>nov, 2017</td>\n",
       "      <td>7.6 min</td>\n",
       "      <td>2</td>\n",
       "      <td>-1</td>\n",
       "      <td>0</td>\n",
       "      <td>unknown</td>\n",
       "      <td>yes</td>\n",
       "    </tr>\n",
       "    <tr>\n",
       "      <th>45208</th>\n",
       "      <td>45208</td>\n",
       "      <td>45209</td>\n",
       "      <td>72.0</td>\n",
       "      <td>55000</td>\n",
       "      <td>5715</td>\n",
       "      <td>married</td>\n",
       "      <td>retired,secondary</td>\n",
       "      <td>yes</td>\n",
       "      <td>no</td>\n",
       "      <td>no</td>\n",
       "      <td>no</td>\n",
       "      <td>cellular</td>\n",
       "      <td>17</td>\n",
       "      <td>nov, 2017</td>\n",
       "      <td>18.7833333333333 min</td>\n",
       "      <td>5</td>\n",
       "      <td>184</td>\n",
       "      <td>3</td>\n",
       "      <td>success</td>\n",
       "      <td>yes</td>\n",
       "    </tr>\n",
       "    <tr>\n",
       "      <th>45209</th>\n",
       "      <td>45209</td>\n",
       "      <td>45210</td>\n",
       "      <td>57.0</td>\n",
       "      <td>20000</td>\n",
       "      <td>668</td>\n",
       "      <td>married</td>\n",
       "      <td>blue-collar,secondary</td>\n",
       "      <td>yes</td>\n",
       "      <td>no</td>\n",
       "      <td>no</td>\n",
       "      <td>no</td>\n",
       "      <td>telephone</td>\n",
       "      <td>17</td>\n",
       "      <td>nov, 2017</td>\n",
       "      <td>8.46666666666667 min</td>\n",
       "      <td>4</td>\n",
       "      <td>-1</td>\n",
       "      <td>0</td>\n",
       "      <td>unknown</td>\n",
       "      <td>no</td>\n",
       "    </tr>\n",
       "    <tr>\n",
       "      <th>45210</th>\n",
       "      <td>45210</td>\n",
       "      <td>45211</td>\n",
       "      <td>37.0</td>\n",
       "      <td>120000</td>\n",
       "      <td>2971</td>\n",
       "      <td>married</td>\n",
       "      <td>entrepreneur,secondary</td>\n",
       "      <td>yes</td>\n",
       "      <td>no</td>\n",
       "      <td>no</td>\n",
       "      <td>no</td>\n",
       "      <td>cellular</td>\n",
       "      <td>17</td>\n",
       "      <td>nov, 2017</td>\n",
       "      <td>6.01666666666667 min</td>\n",
       "      <td>2</td>\n",
       "      <td>188</td>\n",
       "      <td>11</td>\n",
       "      <td>other</td>\n",
       "      <td>no</td>\n",
       "    </tr>\n",
       "  </tbody>\n",
       "</table>\n",
       "<p>45211 rows × 20 columns</p>\n",
       "</div>"
      ],
      "text/plain": [
       "       Unnamed: 0  customerid   age  salary  balance   marital  \\\n",
       "0               0           1  58.0  100000     2143   married   \n",
       "1               1           2  44.0   60000       29    single   \n",
       "2               2           3  33.0  120000        2   married   \n",
       "3               3           4  47.0   20000     1506   married   \n",
       "4               4           5  33.0       0        1    single   \n",
       "...           ...         ...   ...     ...      ...       ...   \n",
       "45206       45206       45207  51.0   60000      825   married   \n",
       "45207       45207       45208  71.0   55000     1729  divorced   \n",
       "45208       45208       45209  72.0   55000     5715   married   \n",
       "45209       45209       45210  57.0   20000      668   married   \n",
       "45210       45210       45211  37.0  120000     2971   married   \n",
       "\n",
       "                       jobedu targeted default housing loan    contact  day  \\\n",
       "0         management,tertiary      yes      no     yes   no    unknown    5   \n",
       "1        technician,secondary      yes      no     yes   no    unknown    5   \n",
       "2      entrepreneur,secondary      yes      no     yes  yes    unknown    5   \n",
       "3         blue-collar,unknown       no      no     yes   no    unknown    5   \n",
       "4             unknown,unknown       no      no      no   no    unknown    5   \n",
       "...                       ...      ...     ...     ...  ...        ...  ...   \n",
       "45206     technician,tertiary      yes      no      no   no   cellular   17   \n",
       "45207         retired,primary      yes      no      no   no   cellular   17   \n",
       "45208       retired,secondary      yes      no      no   no   cellular   17   \n",
       "45209   blue-collar,secondary      yes      no      no   no  telephone   17   \n",
       "45210  entrepreneur,secondary      yes      no      no   no   cellular   17   \n",
       "\n",
       "           month              duration  campaign  pdays  previous poutcome  \\\n",
       "0      may, 2017               261 sec         1     -1         0  unknown   \n",
       "1      may, 2017               151 sec         1     -1         0  unknown   \n",
       "2      may, 2017                76 sec         1     -1         0  unknown   \n",
       "3      may, 2017                92 sec         1     -1         0  unknown   \n",
       "4      may, 2017               198 sec         1     -1         0  unknown   \n",
       "...          ...                   ...       ...    ...       ...      ...   \n",
       "45206  nov, 2017  16.2833333333333 min         3     -1         0  unknown   \n",
       "45207  nov, 2017               7.6 min         2     -1         0  unknown   \n",
       "45208  nov, 2017  18.7833333333333 min         5    184         3  success   \n",
       "45209  nov, 2017  8.46666666666667 min         4     -1         0  unknown   \n",
       "45210  nov, 2017  6.01666666666667 min         2    188        11    other   \n",
       "\n",
       "      response  \n",
       "0           no  \n",
       "1           no  \n",
       "2           no  \n",
       "3           no  \n",
       "4           no  \n",
       "...        ...  \n",
       "45206      yes  \n",
       "45207      yes  \n",
       "45208      yes  \n",
       "45209       no  \n",
       "45210       no  \n",
       "\n",
       "[45211 rows x 20 columns]"
      ]
     },
     "execution_count": 8,
     "metadata": {},
     "output_type": "execute_result"
    }
   ],
   "source": [
    "#convert csv file.\n",
    "data.to_csv(\"bank_data.csv\")\n",
    "data = pd.read_csv(\"bank_data.csv\")\n",
    "data"
   ]
  },
  {
   "cell_type": "markdown",
   "id": "2ed75d5f",
   "metadata": {},
   "source": [
    "## DATA CLEANING"
   ]
  },
  {
   "cell_type": "code",
   "execution_count": 9,
   "id": "29e71ee3",
   "metadata": {},
   "outputs": [
    {
     "data": {
      "text/plain": [
       "['100000',\n",
       " '60000',\n",
       " '120000',\n",
       " '20000',\n",
       " '0',\n",
       " '100000',\n",
       " '100000',\n",
       " '120000',\n",
       " '55000',\n",
       " '60000',\n",
       " '50000',\n",
       " '50000',\n",
       " '60000',\n",
       " '60000',\n",
       " '70000',\n",
       " '55000',\n",
       " '50000',\n",
       " '20000',\n",
       " '55000',\n",
       " '70000',\n",
       " '20000',\n",
       " '100000',\n",
       " '20000',\n",
       " '70000',\n",
       " '55000',\n",
       " '50000',\n",
       " '100000',\n",
       " '120000',\n",
       " '100000',\n",
       " '60000',\n",
       " '60000',\n",
       " '100000',\n",
       " '50000',\n",
       " '20000',\n",
       " '100000',\n",
       " '60000',\n",
       " '20000',\n",
       " '60000',\n",
       " '50000',\n",
       " '50000',\n",
       " '70000',\n",
       " '100000',\n",
       " '20000',\n",
       " '55000',\n",
       " '55000',\n",
       " '50000',\n",
       " '60000',\n",
       " '60000',\n",
       " '60000',\n",
       " '100000',\n",
       " '20000',\n",
       " '100000',\n",
       " '100000',\n",
       " '50000',\n",
       " '60000',\n",
       " '120000',\n",
       " '100000',\n",
       " '20000',\n",
       " '20000',\n",
       " '70000',\n",
       " '50000',\n",
       " '60000',\n",
       " '20000',\n",
       " '70000',\n",
       " '20000',\n",
       " '100000',\n",
       " '55000',\n",
       " '100000',\n",
       " '60000',\n",
       " '20000',\n",
       " '20000',\n",
       " '70000',\n",
       " '100000',\n",
       " '20000',\n",
       " '60000',\n",
       " '60000',\n",
       " '20000',\n",
       " '70000',\n",
       " '70000',\n",
       " '70000',\n",
       " '50000',\n",
       " '70000',\n",
       " '60000',\n",
       " '50000',\n",
       " '60000',\n",
       " '20000',\n",
       " '50000',\n",
       " '60000',\n",
       " '100000',\n",
       " '55000',\n",
       " '100000',\n",
       " '60000',\n",
       " '50000',\n",
       " '20000',\n",
       " '120000',\n",
       " '100000',\n",
       " '20000',\n",
       " '55000',\n",
       " '60000',\n",
       " '100000',\n",
       " '20000',\n",
       " '20000',\n",
       " '20000',\n",
       " '20000',\n",
       " '60000',\n",
       " '20000',\n",
       " '60000',\n",
       " '50000',\n",
       " '55000',\n",
       " '100000',\n",
       " '70000',\n",
       " '60000',\n",
       " '60000',\n",
       " '20000',\n",
       " '55000',\n",
       " '20000',\n",
       " '50000',\n",
       " '100000',\n",
       " '100000',\n",
       " '60000',\n",
       " '60000',\n",
       " '20000',\n",
       " '50000',\n",
       " '70000',\n",
       " '60000',\n",
       " '60000',\n",
       " '50000',\n",
       " '70000',\n",
       " '20000',\n",
       " '70000',\n",
       " '100000',\n",
       " '50000',\n",
       " '60000',\n",
       " '50000',\n",
       " '8000',\n",
       " '20000',\n",
       " '60000',\n",
       " '70000',\n",
       " '20000',\n",
       " '20000',\n",
       " '16000',\n",
       " '60000',\n",
       " '8000',\n",
       " '20000',\n",
       " '20000',\n",
       " '70000',\n",
       " '20000',\n",
       " '8000',\n",
       " '70000',\n",
       " '20000',\n",
       " '20000',\n",
       " '4000',\n",
       " '100000',\n",
       " '100000',\n",
       " '60000',\n",
       " '70000',\n",
       " '20000',\n",
       " '55000',\n",
       " '20000',\n",
       " '20000',\n",
       " '70000',\n",
       " '60000',\n",
       " '70000',\n",
       " '20000',\n",
       " '60000',\n",
       " '50000',\n",
       " '100000',\n",
       " '60000',\n",
       " '50000',\n",
       " '20000',\n",
       " '20000',\n",
       " '70000',\n",
       " '120000',\n",
       " '55000',\n",
       " '50000',\n",
       " '50000',\n",
       " '8000',\n",
       " '60000',\n",
       " '70000',\n",
       " '100000',\n",
       " '70000',\n",
       " '60000',\n",
       " '70000',\n",
       " '60000',\n",
       " '50000',\n",
       " '55000',\n",
       " '70000',\n",
       " '100000',\n",
       " '20000',\n",
       " '100000',\n",
       " '55000',\n",
       " '100000',\n",
       " '100000',\n",
       " '50000',\n",
       " '20000',\n",
       " '20000',\n",
       " '70000',\n",
       " '60000',\n",
       " '100000',\n",
       " '20000',\n",
       " '50000',\n",
       " '60000',\n",
       " '20000',\n",
       " '4000',\n",
       " '70000',\n",
       " '70000',\n",
       " '100000',\n",
       " '100000',\n",
       " '70000',\n",
       " '55000',\n",
       " '20000',\n",
       " '55000',\n",
       " '16000',\n",
       " '70000',\n",
       " '20000',\n",
       " '60000',\n",
       " '0',\n",
       " '8000',\n",
       " '16000',\n",
       " '100000',\n",
       " '8000',\n",
       " '20000',\n",
       " '120000',\n",
       " '55000',\n",
       " '60000',\n",
       " '20000',\n",
       " '100000',\n",
       " '100000',\n",
       " '20000',\n",
       " '70000',\n",
       " '20000',\n",
       " '70000',\n",
       " '120000',\n",
       " '20000',\n",
       " '20000',\n",
       " '20000',\n",
       " '50000',\n",
       " '20000',\n",
       " '50000',\n",
       " '20000',\n",
       " '60000',\n",
       " '120000',\n",
       " '50000',\n",
       " '60000',\n",
       " '100000',\n",
       " '100000',\n",
       " '20000',\n",
       " '100000',\n",
       " '20000',\n",
       " '70000',\n",
       " '50000',\n",
       " '20000',\n",
       " '70000',\n",
       " '60000',\n",
       " '100000',\n",
       " '20000',\n",
       " '120000',\n",
       " '60000',\n",
       " '70000',\n",
       " '20000',\n",
       " '20000',\n",
       " '100000',\n",
       " '60000',\n",
       " '100000',\n",
       " '120000',\n",
       " '4000',\n",
       " '100000',\n",
       " '50000',\n",
       " '20000',\n",
       " '20000',\n",
       " '100000',\n",
       " '20000',\n",
       " '60000',\n",
       " '120000',\n",
       " '50000',\n",
       " '55000',\n",
       " '70000',\n",
       " '70000',\n",
       " '70000',\n",
       " '60000',\n",
       " '20000',\n",
       " '50000',\n",
       " '60000',\n",
       " '20000',\n",
       " '20000',\n",
       " '50000',\n",
       " '50000',\n",
       " '60000',\n",
       " '20000',\n",
       " '60000',\n",
       " '100000',\n",
       " '60000',\n",
       " '4000',\n",
       " '100000',\n",
       " '60000',\n",
       " '60000',\n",
       " '20000',\n",
       " '4000',\n",
       " '20000',\n",
       " '60000',\n",
       " '20000',\n",
       " '50000',\n",
       " '55000',\n",
       " '70000',\n",
       " '70000',\n",
       " '60000',\n",
       " '100000',\n",
       " '20000',\n",
       " '20000',\n",
       " '100000',\n",
       " '50000',\n",
       " '60000',\n",
       " '70000',\n",
       " '70000',\n",
       " '50000',\n",
       " '50000',\n",
       " '20000',\n",
       " '60000',\n",
       " '55000',\n",
       " '20000',\n",
       " '20000',\n",
       " '20000',\n",
       " '100000',\n",
       " '60000',\n",
       " '50000',\n",
       " '100000',\n",
       " '20000',\n",
       " '60000',\n",
       " '60000',\n",
       " '20000',\n",
       " '20000',\n",
       " '20000',\n",
       " '20000',\n",
       " '100000',\n",
       " '100000',\n",
       " '20000',\n",
       " '50000',\n",
       " '60000',\n",
       " '50000',\n",
       " '70000',\n",
       " '20000',\n",
       " '100000',\n",
       " '20000',\n",
       " '20000',\n",
       " '100000',\n",
       " '70000',\n",
       " '60000',\n",
       " '20000',\n",
       " '70000',\n",
       " '100000',\n",
       " '100000',\n",
       " '20000',\n",
       " '50000',\n",
       " '20000',\n",
       " '0',\n",
       " '50000',\n",
       " '20000',\n",
       " '120000',\n",
       " '20000',\n",
       " '50000',\n",
       " '100000',\n",
       " '70000',\n",
       " '70000',\n",
       " '50000',\n",
       " '50000',\n",
       " '60000',\n",
       " '50000',\n",
       " '100000',\n",
       " '50000',\n",
       " '4000',\n",
       " '70000',\n",
       " '50000',\n",
       " '20000',\n",
       " '50000',\n",
       " '20000',\n",
       " '20000',\n",
       " '50000',\n",
       " '20000',\n",
       " '100000',\n",
       " '20000',\n",
       " '20000',\n",
       " '70000',\n",
       " '100000',\n",
       " '50000',\n",
       " '20000',\n",
       " '70000',\n",
       " '60000',\n",
       " '8000',\n",
       " '100000',\n",
       " '20000',\n",
       " '55000',\n",
       " '60000',\n",
       " '60000',\n",
       " '50000',\n",
       " '20000',\n",
       " '60000',\n",
       " '50000',\n",
       " '50000',\n",
       " '20000',\n",
       " '20000',\n",
       " '16000',\n",
       " '60000',\n",
       " '60000',\n",
       " '70000',\n",
       " '60000',\n",
       " '100000',\n",
       " '55000',\n",
       " '20000',\n",
       " '60000',\n",
       " '20000',\n",
       " '70000',\n",
       " '20000',\n",
       " '50000',\n",
       " '50000',\n",
       " '120000',\n",
       " '50000',\n",
       " '60000',\n",
       " '8000',\n",
       " '20000',\n",
       " '60000',\n",
       " '100000',\n",
       " '100000',\n",
       " '50000',\n",
       " '20000',\n",
       " '60000',\n",
       " '100000',\n",
       " '70000',\n",
       " '20000',\n",
       " '60000',\n",
       " '20000',\n",
       " '50000',\n",
       " '100000',\n",
       " '20000',\n",
       " '20000',\n",
       " '20000',\n",
       " '50000',\n",
       " '20000',\n",
       " '100000',\n",
       " '60000',\n",
       " '50000',\n",
       " '70000',\n",
       " '60000',\n",
       " '20000',\n",
       " '60000',\n",
       " '60000',\n",
       " '50000',\n",
       " '60000',\n",
       " '60000',\n",
       " '70000',\n",
       " '20000',\n",
       " '60000',\n",
       " '70000',\n",
       " '100000',\n",
       " '100000',\n",
       " '20000',\n",
       " '20000',\n",
       " '50000',\n",
       " '60000',\n",
       " '20000',\n",
       " '20000',\n",
       " '20000',\n",
       " '20000',\n",
       " '20000',\n",
       " '8000',\n",
       " '70000',\n",
       " '55000',\n",
       " '50000',\n",
       " '20000',\n",
       " '20000',\n",
       " '60000',\n",
       " '70000',\n",
       " '16000',\n",
       " '20000',\n",
       " '20000',\n",
       " '50000',\n",
       " '20000',\n",
       " '100000',\n",
       " '100000',\n",
       " '50000',\n",
       " '100000',\n",
       " '20000',\n",
       " '60000',\n",
       " '60000',\n",
       " '20000',\n",
       " '70000',\n",
       " '100000',\n",
       " '20000',\n",
       " '100000',\n",
       " '60000',\n",
       " '20000',\n",
       " '60000',\n",
       " '20000',\n",
       " '20000',\n",
       " '8000',\n",
       " '20000',\n",
       " '50000',\n",
       " '20000',\n",
       " '20000',\n",
       " '20000',\n",
       " '60000',\n",
       " '50000',\n",
       " '60000',\n",
       " '100000',\n",
       " '20000',\n",
       " '20000',\n",
       " '20000',\n",
       " '55000',\n",
       " '20000',\n",
       " '55000',\n",
       " '50000',\n",
       " '55000',\n",
       " '50000',\n",
       " '8000',\n",
       " '20000',\n",
       " '100000',\n",
       " '120000',\n",
       " '50000',\n",
       " '20000',\n",
       " '60000',\n",
       " '20000',\n",
       " '100000',\n",
       " '100000',\n",
       " '50000',\n",
       " '100000',\n",
       " '55000',\n",
       " '20000',\n",
       " '100000',\n",
       " '100000',\n",
       " '100000',\n",
       " '50000',\n",
       " '20000',\n",
       " '16000',\n",
       " '70000',\n",
       " '100000',\n",
       " '50000',\n",
       " '20000',\n",
       " '20000',\n",
       " '20000',\n",
       " '20000',\n",
       " '20000',\n",
       " '20000',\n",
       " '70000',\n",
       " '60000',\n",
       " '50000',\n",
       " '8000',\n",
       " '50000',\n",
       " '20000',\n",
       " '20000',\n",
       " '60000',\n",
       " '70000',\n",
       " '70000',\n",
       " '50000',\n",
       " '4000',\n",
       " '60000',\n",
       " '20000',\n",
       " '50000',\n",
       " '70000',\n",
       " '50000',\n",
       " '20000',\n",
       " '60000',\n",
       " '20000',\n",
       " '50000',\n",
       " '120000',\n",
       " '60000',\n",
       " '70000',\n",
       " '20000',\n",
       " '100000',\n",
       " '8000',\n",
       " '20000',\n",
       " '70000',\n",
       " '60000',\n",
       " '20000',\n",
       " '20000',\n",
       " '60000',\n",
       " '70000',\n",
       " '55000',\n",
       " '120000',\n",
       " '60000',\n",
       " '20000',\n",
       " '70000',\n",
       " '20000',\n",
       " '60000',\n",
       " '70000',\n",
       " '100000',\n",
       " '60000',\n",
       " '20000',\n",
       " '20000',\n",
       " '70000',\n",
       " '60000',\n",
       " '20000',\n",
       " '60000',\n",
       " '60000',\n",
       " '50000',\n",
       " '55000',\n",
       " '70000',\n",
       " '70000',\n",
       " '70000',\n",
       " '20000',\n",
       " '60000',\n",
       " '60000',\n",
       " '20000',\n",
       " '20000',\n",
       " '70000',\n",
       " '20000',\n",
       " '20000',\n",
       " '20000',\n",
       " '60000',\n",
       " '20000',\n",
       " '60000',\n",
       " '70000',\n",
       " '60000',\n",
       " '100000',\n",
       " '70000',\n",
       " '20000',\n",
       " '60000',\n",
       " '100000',\n",
       " '20000',\n",
       " '20000',\n",
       " '20000',\n",
       " '60000',\n",
       " '60000',\n",
       " '60000',\n",
       " '60000',\n",
       " '55000',\n",
       " '60000',\n",
       " '100000',\n",
       " '8000',\n",
       " '60000',\n",
       " '50000',\n",
       " '60000',\n",
       " '50000',\n",
       " '50000',\n",
       " '20000',\n",
       " '70000',\n",
       " '120000',\n",
       " '70000',\n",
       " '20000',\n",
       " '8000',\n",
       " '70000',\n",
       " '50000',\n",
       " '100000',\n",
       " '20000',\n",
       " '20000',\n",
       " '60000',\n",
       " '8000',\n",
       " '120000',\n",
       " '60000',\n",
       " '4000',\n",
       " '100000',\n",
       " '60000',\n",
       " '4000',\n",
       " '50000',\n",
       " '60000',\n",
       " '50000',\n",
       " '60000',\n",
       " '20000',\n",
       " '70000',\n",
       " '20000',\n",
       " '50000',\n",
       " '100000',\n",
       " '50000',\n",
       " '70000',\n",
       " '50000',\n",
       " '20000',\n",
       " '120000',\n",
       " '20000',\n",
       " '50000',\n",
       " '60000',\n",
       " '60000',\n",
       " '70000',\n",
       " '20000',\n",
       " '20000',\n",
       " '60000',\n",
       " '20000',\n",
       " '100000',\n",
       " '100000',\n",
       " '20000',\n",
       " '60000',\n",
       " '100000',\n",
       " '50000',\n",
       " '70000',\n",
       " '70000',\n",
       " '50000',\n",
       " '50000',\n",
       " '100000',\n",
       " '70000',\n",
       " '100000',\n",
       " '50000',\n",
       " '100000',\n",
       " '20000',\n",
       " '4000',\n",
       " '20000',\n",
       " '60000',\n",
       " '70000',\n",
       " '60000',\n",
       " '120000',\n",
       " '50000',\n",
       " '20000',\n",
       " '60000',\n",
       " '100000',\n",
       " '70000',\n",
       " '20000',\n",
       " '50000',\n",
       " '70000',\n",
       " '50000',\n",
       " '20000',\n",
       " '60000',\n",
       " '60000',\n",
       " '60000',\n",
       " '20000',\n",
       " '50000',\n",
       " '20000',\n",
       " '120000',\n",
       " '55000',\n",
       " '50000',\n",
       " '50000',\n",
       " '55000',\n",
       " '20000',\n",
       " '20000',\n",
       " '50000',\n",
       " '60000',\n",
       " '100000',\n",
       " '20000',\n",
       " '50000',\n",
       " '20000',\n",
       " '55000',\n",
       " '70000',\n",
       " '50000',\n",
       " '100000',\n",
       " '20000',\n",
       " '20000',\n",
       " '120000',\n",
       " '20000',\n",
       " '100000',\n",
       " '70000',\n",
       " '20000',\n",
       " '20000',\n",
       " '60000',\n",
       " '55000',\n",
       " '100000',\n",
       " '20000',\n",
       " '100000',\n",
       " '20000',\n",
       " '20000',\n",
       " '20000',\n",
       " '20000',\n",
       " '60000',\n",
       " '120000',\n",
       " '20000',\n",
       " '100000',\n",
       " '50000',\n",
       " '20000',\n",
       " '100000',\n",
       " '8000',\n",
       " '50000',\n",
       " '16000',\n",
       " '50000',\n",
       " '16000',\n",
       " '70000',\n",
       " '60000',\n",
       " '20000',\n",
       " '20000',\n",
       " '60000',\n",
       " '60000',\n",
       " '60000',\n",
       " '20000',\n",
       " '50000',\n",
       " '60000',\n",
       " '4000',\n",
       " '20000',\n",
       " '70000',\n",
       " '20000',\n",
       " '60000',\n",
       " '50000',\n",
       " '60000',\n",
       " '70000',\n",
       " '20000',\n",
       " '100000',\n",
       " '20000',\n",
       " '50000',\n",
       " '50000',\n",
       " '20000',\n",
       " '70000',\n",
       " '60000',\n",
       " '60000',\n",
       " '100000',\n",
       " '60000',\n",
       " '100000',\n",
       " '4000',\n",
       " '55000',\n",
       " '20000',\n",
       " '20000',\n",
       " '55000',\n",
       " '20000',\n",
       " '60000',\n",
       " '100000',\n",
       " '70000',\n",
       " '100000',\n",
       " '20000',\n",
       " '55000',\n",
       " '60000',\n",
       " '20000',\n",
       " '70000',\n",
       " '20000',\n",
       " '50000',\n",
       " '20000',\n",
       " '70000',\n",
       " '70000',\n",
       " '55000',\n",
       " '60000',\n",
       " '20000',\n",
       " '60000',\n",
       " '20000',\n",
       " '60000',\n",
       " '70000',\n",
       " '20000',\n",
       " '20000',\n",
       " '100000',\n",
       " '60000',\n",
       " '60000',\n",
       " '70000',\n",
       " '70000',\n",
       " '20000',\n",
       " '20000',\n",
       " '70000',\n",
       " '70000',\n",
       " '70000',\n",
       " '20000',\n",
       " '55000',\n",
       " '100000',\n",
       " '100000',\n",
       " '20000',\n",
       " '20000',\n",
       " '100000',\n",
       " '60000',\n",
       " '60000',\n",
       " '70000',\n",
       " '120000',\n",
       " '20000',\n",
       " '50000',\n",
       " '20000',\n",
       " '20000',\n",
       " '60000',\n",
       " '20000',\n",
       " '70000',\n",
       " '20000',\n",
       " '100000',\n",
       " '70000',\n",
       " '20000',\n",
       " '50000',\n",
       " '70000',\n",
       " '60000',\n",
       " '100000',\n",
       " '20000',\n",
       " '20000',\n",
       " '50000',\n",
       " '20000',\n",
       " '70000',\n",
       " '20000',\n",
       " '70000',\n",
       " '55000',\n",
       " '50000',\n",
       " '70000',\n",
       " '100000',\n",
       " '20000',\n",
       " '60000',\n",
       " '20000',\n",
       " '20000',\n",
       " '100000',\n",
       " '60000',\n",
       " '70000',\n",
       " '50000',\n",
       " '20000',\n",
       " '20000',\n",
       " '100000',\n",
       " '20000',\n",
       " '0',\n",
       " '20000',\n",
       " '60000',\n",
       " '50000',\n",
       " '70000',\n",
       " '20000',\n",
       " '16000',\n",
       " '20000',\n",
       " '100000',\n",
       " '8000',\n",
       " '100000',\n",
       " '20000',\n",
       " '100000',\n",
       " '100000',\n",
       " '4000',\n",
       " '70000',\n",
       " '70000',\n",
       " '20000',\n",
       " '120000',\n",
       " '20000',\n",
       " '20000',\n",
       " '50000',\n",
       " '50000',\n",
       " '20000',\n",
       " '50000',\n",
       " '50000',\n",
       " '70000',\n",
       " '50000',\n",
       " '100000',\n",
       " '100000',\n",
       " '70000',\n",
       " '20000',\n",
       " '55000',\n",
       " '60000',\n",
       " '20000',\n",
       " '50000',\n",
       " '100000',\n",
       " '50000',\n",
       " '60000',\n",
       " '50000',\n",
       " '70000',\n",
       " '20000',\n",
       " '20000',\n",
       " '8000',\n",
       " '50000',\n",
       " '60000',\n",
       " '60000',\n",
       " '70000',\n",
       " '20000',\n",
       " '100000',\n",
       " '70000',\n",
       " '20000',\n",
       " '20000',\n",
       " '50000',\n",
       " '55000',\n",
       " '20000',\n",
       " '20000',\n",
       " '20000',\n",
       " '20000',\n",
       " '20000',\n",
       " '20000',\n",
       " '50000',\n",
       " '100000',\n",
       " '70000',\n",
       " '20000',\n",
       " '20000',\n",
       " '70000',\n",
       " '20000',\n",
       " '70000',\n",
       " '50000',\n",
       " '70000',\n",
       " '120000',\n",
       " '100000',\n",
       " '60000',\n",
       " '100000',\n",
       " '60000',\n",
       " '20000',\n",
       " '100000',\n",
       " '50000',\n",
       " '60000',\n",
       " '20000',\n",
       " '55000',\n",
       " '70000',\n",
       " '20000',\n",
       " '60000',\n",
       " '55000',\n",
       " '100000',\n",
       " '70000',\n",
       " '20000',\n",
       " '50000',\n",
       " '70000',\n",
       " '70000',\n",
       " '20000',\n",
       " '70000',\n",
       " '100000',\n",
       " '60000',\n",
       " '20000',\n",
       " '55000',\n",
       " '8000',\n",
       " '50000',\n",
       " '55000',\n",
       " '100000',\n",
       " '8000',\n",
       " '50000',\n",
       " '20000',\n",
       " '60000',\n",
       " '120000',\n",
       " '50000',\n",
       " '20000',\n",
       " '8000',\n",
       " '50000',\n",
       " '120000',\n",
       " '60000',\n",
       " '50000',\n",
       " '8000',\n",
       " '100000',\n",
       " '20000',\n",
       " '20000',\n",
       " '20000',\n",
       " '20000',\n",
       " '50000',\n",
       " '20000',\n",
       " '70000',\n",
       " '60000',\n",
       " ...]"
      ]
     },
     "execution_count": 9,
     "metadata": {},
     "output_type": "execute_result"
    }
   ],
   "source": [
    "sal=[]\n",
    "for i in data[\"salary\"]:\n",
    "    if i==\"?\":\n",
    "        sal.append(np.nan)\n",
    "    else:\n",
    "        sal.append(i)\n",
    "sal"
   ]
  },
  {
   "cell_type": "code",
   "execution_count": 10,
   "id": "09a53410",
   "metadata": {},
   "outputs": [],
   "source": [
    "data[\"salary\"]=sal"
   ]
  },
  {
   "cell_type": "code",
   "execution_count": 11,
   "id": "682cf51a",
   "metadata": {},
   "outputs": [
    {
     "data": {
      "text/html": [
       "<div>\n",
       "<style scoped>\n",
       "    .dataframe tbody tr th:only-of-type {\n",
       "        vertical-align: middle;\n",
       "    }\n",
       "\n",
       "    .dataframe tbody tr th {\n",
       "        vertical-align: top;\n",
       "    }\n",
       "\n",
       "    .dataframe thead th {\n",
       "        text-align: right;\n",
       "    }\n",
       "</style>\n",
       "<table border=\"1\" class=\"dataframe\">\n",
       "  <thead>\n",
       "    <tr style=\"text-align: right;\">\n",
       "      <th></th>\n",
       "      <th>Unnamed: 0</th>\n",
       "      <th>customerid</th>\n",
       "      <th>age</th>\n",
       "      <th>salary</th>\n",
       "      <th>balance</th>\n",
       "      <th>marital</th>\n",
       "      <th>jobedu</th>\n",
       "      <th>targeted</th>\n",
       "      <th>default</th>\n",
       "      <th>housing</th>\n",
       "      <th>loan</th>\n",
       "      <th>contact</th>\n",
       "      <th>day</th>\n",
       "      <th>month</th>\n",
       "      <th>duration</th>\n",
       "      <th>campaign</th>\n",
       "      <th>pdays</th>\n",
       "      <th>previous</th>\n",
       "      <th>poutcome</th>\n",
       "      <th>response</th>\n",
       "    </tr>\n",
       "  </thead>\n",
       "  <tbody>\n",
       "    <tr>\n",
       "      <th>0</th>\n",
       "      <td>0</td>\n",
       "      <td>1</td>\n",
       "      <td>58.0</td>\n",
       "      <td>100000</td>\n",
       "      <td>2143</td>\n",
       "      <td>married</td>\n",
       "      <td>management,tertiary</td>\n",
       "      <td>yes</td>\n",
       "      <td>no</td>\n",
       "      <td>yes</td>\n",
       "      <td>no</td>\n",
       "      <td>unknown</td>\n",
       "      <td>5</td>\n",
       "      <td>may, 2017</td>\n",
       "      <td>261 sec</td>\n",
       "      <td>1</td>\n",
       "      <td>-1</td>\n",
       "      <td>0</td>\n",
       "      <td>unknown</td>\n",
       "      <td>no</td>\n",
       "    </tr>\n",
       "    <tr>\n",
       "      <th>1</th>\n",
       "      <td>1</td>\n",
       "      <td>2</td>\n",
       "      <td>44.0</td>\n",
       "      <td>60000</td>\n",
       "      <td>29</td>\n",
       "      <td>single</td>\n",
       "      <td>technician,secondary</td>\n",
       "      <td>yes</td>\n",
       "      <td>no</td>\n",
       "      <td>yes</td>\n",
       "      <td>no</td>\n",
       "      <td>unknown</td>\n",
       "      <td>5</td>\n",
       "      <td>may, 2017</td>\n",
       "      <td>151 sec</td>\n",
       "      <td>1</td>\n",
       "      <td>-1</td>\n",
       "      <td>0</td>\n",
       "      <td>unknown</td>\n",
       "      <td>no</td>\n",
       "    </tr>\n",
       "    <tr>\n",
       "      <th>2</th>\n",
       "      <td>2</td>\n",
       "      <td>3</td>\n",
       "      <td>33.0</td>\n",
       "      <td>120000</td>\n",
       "      <td>2</td>\n",
       "      <td>married</td>\n",
       "      <td>entrepreneur,secondary</td>\n",
       "      <td>yes</td>\n",
       "      <td>no</td>\n",
       "      <td>yes</td>\n",
       "      <td>yes</td>\n",
       "      <td>unknown</td>\n",
       "      <td>5</td>\n",
       "      <td>may, 2017</td>\n",
       "      <td>76 sec</td>\n",
       "      <td>1</td>\n",
       "      <td>-1</td>\n",
       "      <td>0</td>\n",
       "      <td>unknown</td>\n",
       "      <td>no</td>\n",
       "    </tr>\n",
       "    <tr>\n",
       "      <th>3</th>\n",
       "      <td>3</td>\n",
       "      <td>4</td>\n",
       "      <td>47.0</td>\n",
       "      <td>20000</td>\n",
       "      <td>1506</td>\n",
       "      <td>married</td>\n",
       "      <td>blue-collar,unknown</td>\n",
       "      <td>no</td>\n",
       "      <td>no</td>\n",
       "      <td>yes</td>\n",
       "      <td>no</td>\n",
       "      <td>unknown</td>\n",
       "      <td>5</td>\n",
       "      <td>may, 2017</td>\n",
       "      <td>92 sec</td>\n",
       "      <td>1</td>\n",
       "      <td>-1</td>\n",
       "      <td>0</td>\n",
       "      <td>unknown</td>\n",
       "      <td>no</td>\n",
       "    </tr>\n",
       "    <tr>\n",
       "      <th>4</th>\n",
       "      <td>4</td>\n",
       "      <td>5</td>\n",
       "      <td>33.0</td>\n",
       "      <td>0</td>\n",
       "      <td>1</td>\n",
       "      <td>single</td>\n",
       "      <td>unknown,unknown</td>\n",
       "      <td>no</td>\n",
       "      <td>no</td>\n",
       "      <td>no</td>\n",
       "      <td>no</td>\n",
       "      <td>unknown</td>\n",
       "      <td>5</td>\n",
       "      <td>may, 2017</td>\n",
       "      <td>198 sec</td>\n",
       "      <td>1</td>\n",
       "      <td>-1</td>\n",
       "      <td>0</td>\n",
       "      <td>unknown</td>\n",
       "      <td>no</td>\n",
       "    </tr>\n",
       "    <tr>\n",
       "      <th>...</th>\n",
       "      <td>...</td>\n",
       "      <td>...</td>\n",
       "      <td>...</td>\n",
       "      <td>...</td>\n",
       "      <td>...</td>\n",
       "      <td>...</td>\n",
       "      <td>...</td>\n",
       "      <td>...</td>\n",
       "      <td>...</td>\n",
       "      <td>...</td>\n",
       "      <td>...</td>\n",
       "      <td>...</td>\n",
       "      <td>...</td>\n",
       "      <td>...</td>\n",
       "      <td>...</td>\n",
       "      <td>...</td>\n",
       "      <td>...</td>\n",
       "      <td>...</td>\n",
       "      <td>...</td>\n",
       "      <td>...</td>\n",
       "    </tr>\n",
       "    <tr>\n",
       "      <th>45206</th>\n",
       "      <td>45206</td>\n",
       "      <td>45207</td>\n",
       "      <td>51.0</td>\n",
       "      <td>60000</td>\n",
       "      <td>825</td>\n",
       "      <td>married</td>\n",
       "      <td>technician,tertiary</td>\n",
       "      <td>yes</td>\n",
       "      <td>no</td>\n",
       "      <td>no</td>\n",
       "      <td>no</td>\n",
       "      <td>cellular</td>\n",
       "      <td>17</td>\n",
       "      <td>nov, 2017</td>\n",
       "      <td>16.2833333333333 min</td>\n",
       "      <td>3</td>\n",
       "      <td>-1</td>\n",
       "      <td>0</td>\n",
       "      <td>unknown</td>\n",
       "      <td>yes</td>\n",
       "    </tr>\n",
       "    <tr>\n",
       "      <th>45207</th>\n",
       "      <td>45207</td>\n",
       "      <td>45208</td>\n",
       "      <td>71.0</td>\n",
       "      <td>55000</td>\n",
       "      <td>1729</td>\n",
       "      <td>divorced</td>\n",
       "      <td>retired,primary</td>\n",
       "      <td>yes</td>\n",
       "      <td>no</td>\n",
       "      <td>no</td>\n",
       "      <td>no</td>\n",
       "      <td>cellular</td>\n",
       "      <td>17</td>\n",
       "      <td>nov, 2017</td>\n",
       "      <td>7.6 min</td>\n",
       "      <td>2</td>\n",
       "      <td>-1</td>\n",
       "      <td>0</td>\n",
       "      <td>unknown</td>\n",
       "      <td>yes</td>\n",
       "    </tr>\n",
       "    <tr>\n",
       "      <th>45208</th>\n",
       "      <td>45208</td>\n",
       "      <td>45209</td>\n",
       "      <td>72.0</td>\n",
       "      <td>55000</td>\n",
       "      <td>5715</td>\n",
       "      <td>married</td>\n",
       "      <td>retired,secondary</td>\n",
       "      <td>yes</td>\n",
       "      <td>no</td>\n",
       "      <td>no</td>\n",
       "      <td>no</td>\n",
       "      <td>cellular</td>\n",
       "      <td>17</td>\n",
       "      <td>nov, 2017</td>\n",
       "      <td>18.7833333333333 min</td>\n",
       "      <td>5</td>\n",
       "      <td>184</td>\n",
       "      <td>3</td>\n",
       "      <td>success</td>\n",
       "      <td>yes</td>\n",
       "    </tr>\n",
       "    <tr>\n",
       "      <th>45209</th>\n",
       "      <td>45209</td>\n",
       "      <td>45210</td>\n",
       "      <td>57.0</td>\n",
       "      <td>20000</td>\n",
       "      <td>668</td>\n",
       "      <td>married</td>\n",
       "      <td>blue-collar,secondary</td>\n",
       "      <td>yes</td>\n",
       "      <td>no</td>\n",
       "      <td>no</td>\n",
       "      <td>no</td>\n",
       "      <td>telephone</td>\n",
       "      <td>17</td>\n",
       "      <td>nov, 2017</td>\n",
       "      <td>8.46666666666667 min</td>\n",
       "      <td>4</td>\n",
       "      <td>-1</td>\n",
       "      <td>0</td>\n",
       "      <td>unknown</td>\n",
       "      <td>no</td>\n",
       "    </tr>\n",
       "    <tr>\n",
       "      <th>45210</th>\n",
       "      <td>45210</td>\n",
       "      <td>45211</td>\n",
       "      <td>37.0</td>\n",
       "      <td>120000</td>\n",
       "      <td>2971</td>\n",
       "      <td>married</td>\n",
       "      <td>entrepreneur,secondary</td>\n",
       "      <td>yes</td>\n",
       "      <td>no</td>\n",
       "      <td>no</td>\n",
       "      <td>no</td>\n",
       "      <td>cellular</td>\n",
       "      <td>17</td>\n",
       "      <td>nov, 2017</td>\n",
       "      <td>6.01666666666667 min</td>\n",
       "      <td>2</td>\n",
       "      <td>188</td>\n",
       "      <td>11</td>\n",
       "      <td>other</td>\n",
       "      <td>no</td>\n",
       "    </tr>\n",
       "  </tbody>\n",
       "</table>\n",
       "<p>45211 rows × 20 columns</p>\n",
       "</div>"
      ],
      "text/plain": [
       "       Unnamed: 0  customerid   age  salary  balance   marital  \\\n",
       "0               0           1  58.0  100000     2143   married   \n",
       "1               1           2  44.0   60000       29    single   \n",
       "2               2           3  33.0  120000        2   married   \n",
       "3               3           4  47.0   20000     1506   married   \n",
       "4               4           5  33.0       0        1    single   \n",
       "...           ...         ...   ...     ...      ...       ...   \n",
       "45206       45206       45207  51.0   60000      825   married   \n",
       "45207       45207       45208  71.0   55000     1729  divorced   \n",
       "45208       45208       45209  72.0   55000     5715   married   \n",
       "45209       45209       45210  57.0   20000      668   married   \n",
       "45210       45210       45211  37.0  120000     2971   married   \n",
       "\n",
       "                       jobedu targeted default housing loan    contact  day  \\\n",
       "0         management,tertiary      yes      no     yes   no    unknown    5   \n",
       "1        technician,secondary      yes      no     yes   no    unknown    5   \n",
       "2      entrepreneur,secondary      yes      no     yes  yes    unknown    5   \n",
       "3         blue-collar,unknown       no      no     yes   no    unknown    5   \n",
       "4             unknown,unknown       no      no      no   no    unknown    5   \n",
       "...                       ...      ...     ...     ...  ...        ...  ...   \n",
       "45206     technician,tertiary      yes      no      no   no   cellular   17   \n",
       "45207         retired,primary      yes      no      no   no   cellular   17   \n",
       "45208       retired,secondary      yes      no      no   no   cellular   17   \n",
       "45209   blue-collar,secondary      yes      no      no   no  telephone   17   \n",
       "45210  entrepreneur,secondary      yes      no      no   no   cellular   17   \n",
       "\n",
       "           month              duration  campaign  pdays  previous poutcome  \\\n",
       "0      may, 2017               261 sec         1     -1         0  unknown   \n",
       "1      may, 2017               151 sec         1     -1         0  unknown   \n",
       "2      may, 2017                76 sec         1     -1         0  unknown   \n",
       "3      may, 2017                92 sec         1     -1         0  unknown   \n",
       "4      may, 2017               198 sec         1     -1         0  unknown   \n",
       "...          ...                   ...       ...    ...       ...      ...   \n",
       "45206  nov, 2017  16.2833333333333 min         3     -1         0  unknown   \n",
       "45207  nov, 2017               7.6 min         2     -1         0  unknown   \n",
       "45208  nov, 2017  18.7833333333333 min         5    184         3  success   \n",
       "45209  nov, 2017  8.46666666666667 min         4     -1         0  unknown   \n",
       "45210  nov, 2017  6.01666666666667 min         2    188        11    other   \n",
       "\n",
       "      response  \n",
       "0           no  \n",
       "1           no  \n",
       "2           no  \n",
       "3           no  \n",
       "4           no  \n",
       "...        ...  \n",
       "45206      yes  \n",
       "45207      yes  \n",
       "45208      yes  \n",
       "45209       no  \n",
       "45210       no  \n",
       "\n",
       "[45211 rows x 20 columns]"
      ]
     },
     "execution_count": 11,
     "metadata": {},
     "output_type": "execute_result"
    }
   ],
   "source": [
    "data"
   ]
  },
  {
   "cell_type": "code",
   "execution_count": 12,
   "id": "13df13e9",
   "metadata": {},
   "outputs": [],
   "source": [
    "data[\"salary\"]=data[\"salary\"].astype(\"float\")"
   ]
  },
  {
   "cell_type": "code",
   "execution_count": 13,
   "id": "4e5e1cc9",
   "metadata": {},
   "outputs": [],
   "source": [
    "salary_mean=data[\"salary\"].mean()\n",
    "age_mean=data[\"age\"].mean()"
   ]
  },
  {
   "cell_type": "code",
   "execution_count": 14,
   "id": "f4dfe2e0",
   "metadata": {},
   "outputs": [],
   "source": [
    "data[\"age\"].fillna(age_mean,inplace=True)   # replacing the null value of age and salary column by their mean value\n",
    "data[\"salary\"].fillna(salary_mean,inplace=True)\n",
    "data.fillna( method ='ffill', inplace = True) # replacing the other null valur using fioward fill method"
   ]
  },
  {
   "cell_type": "code",
   "execution_count": 15,
   "id": "70d2cfb1",
   "metadata": {},
   "outputs": [],
   "source": [
    "data.drop(\"Unnamed: 0\",inplace=True,axis=1 )"
   ]
  },
  {
   "cell_type": "code",
   "execution_count": 16,
   "id": "37e6941b",
   "metadata": {},
   "outputs": [
    {
     "data": {
      "text/html": [
       "<div>\n",
       "<style scoped>\n",
       "    .dataframe tbody tr th:only-of-type {\n",
       "        vertical-align: middle;\n",
       "    }\n",
       "\n",
       "    .dataframe tbody tr th {\n",
       "        vertical-align: top;\n",
       "    }\n",
       "\n",
       "    .dataframe thead th {\n",
       "        text-align: right;\n",
       "    }\n",
       "</style>\n",
       "<table border=\"1\" class=\"dataframe\">\n",
       "  <thead>\n",
       "    <tr style=\"text-align: right;\">\n",
       "      <th></th>\n",
       "      <th>customerid</th>\n",
       "      <th>age</th>\n",
       "      <th>salary</th>\n",
       "      <th>balance</th>\n",
       "      <th>marital</th>\n",
       "      <th>jobedu</th>\n",
       "      <th>targeted</th>\n",
       "      <th>default</th>\n",
       "      <th>housing</th>\n",
       "      <th>loan</th>\n",
       "      <th>contact</th>\n",
       "      <th>day</th>\n",
       "      <th>month</th>\n",
       "      <th>duration</th>\n",
       "      <th>campaign</th>\n",
       "      <th>pdays</th>\n",
       "      <th>previous</th>\n",
       "      <th>poutcome</th>\n",
       "      <th>response</th>\n",
       "    </tr>\n",
       "  </thead>\n",
       "  <tbody>\n",
       "    <tr>\n",
       "      <th>0</th>\n",
       "      <td>1</td>\n",
       "      <td>58.0</td>\n",
       "      <td>100000.0</td>\n",
       "      <td>2143</td>\n",
       "      <td>married</td>\n",
       "      <td>management,tertiary</td>\n",
       "      <td>yes</td>\n",
       "      <td>no</td>\n",
       "      <td>yes</td>\n",
       "      <td>no</td>\n",
       "      <td>unknown</td>\n",
       "      <td>5</td>\n",
       "      <td>may, 2017</td>\n",
       "      <td>261 sec</td>\n",
       "      <td>1</td>\n",
       "      <td>-1</td>\n",
       "      <td>0</td>\n",
       "      <td>unknown</td>\n",
       "      <td>no</td>\n",
       "    </tr>\n",
       "    <tr>\n",
       "      <th>1</th>\n",
       "      <td>2</td>\n",
       "      <td>44.0</td>\n",
       "      <td>60000.0</td>\n",
       "      <td>29</td>\n",
       "      <td>single</td>\n",
       "      <td>technician,secondary</td>\n",
       "      <td>yes</td>\n",
       "      <td>no</td>\n",
       "      <td>yes</td>\n",
       "      <td>no</td>\n",
       "      <td>unknown</td>\n",
       "      <td>5</td>\n",
       "      <td>may, 2017</td>\n",
       "      <td>151 sec</td>\n",
       "      <td>1</td>\n",
       "      <td>-1</td>\n",
       "      <td>0</td>\n",
       "      <td>unknown</td>\n",
       "      <td>no</td>\n",
       "    </tr>\n",
       "    <tr>\n",
       "      <th>2</th>\n",
       "      <td>3</td>\n",
       "      <td>33.0</td>\n",
       "      <td>120000.0</td>\n",
       "      <td>2</td>\n",
       "      <td>married</td>\n",
       "      <td>entrepreneur,secondary</td>\n",
       "      <td>yes</td>\n",
       "      <td>no</td>\n",
       "      <td>yes</td>\n",
       "      <td>yes</td>\n",
       "      <td>unknown</td>\n",
       "      <td>5</td>\n",
       "      <td>may, 2017</td>\n",
       "      <td>76 sec</td>\n",
       "      <td>1</td>\n",
       "      <td>-1</td>\n",
       "      <td>0</td>\n",
       "      <td>unknown</td>\n",
       "      <td>no</td>\n",
       "    </tr>\n",
       "    <tr>\n",
       "      <th>3</th>\n",
       "      <td>4</td>\n",
       "      <td>47.0</td>\n",
       "      <td>20000.0</td>\n",
       "      <td>1506</td>\n",
       "      <td>married</td>\n",
       "      <td>blue-collar,unknown</td>\n",
       "      <td>no</td>\n",
       "      <td>no</td>\n",
       "      <td>yes</td>\n",
       "      <td>no</td>\n",
       "      <td>unknown</td>\n",
       "      <td>5</td>\n",
       "      <td>may, 2017</td>\n",
       "      <td>92 sec</td>\n",
       "      <td>1</td>\n",
       "      <td>-1</td>\n",
       "      <td>0</td>\n",
       "      <td>unknown</td>\n",
       "      <td>no</td>\n",
       "    </tr>\n",
       "    <tr>\n",
       "      <th>4</th>\n",
       "      <td>5</td>\n",
       "      <td>33.0</td>\n",
       "      <td>0.0</td>\n",
       "      <td>1</td>\n",
       "      <td>single</td>\n",
       "      <td>unknown,unknown</td>\n",
       "      <td>no</td>\n",
       "      <td>no</td>\n",
       "      <td>no</td>\n",
       "      <td>no</td>\n",
       "      <td>unknown</td>\n",
       "      <td>5</td>\n",
       "      <td>may, 2017</td>\n",
       "      <td>198 sec</td>\n",
       "      <td>1</td>\n",
       "      <td>-1</td>\n",
       "      <td>0</td>\n",
       "      <td>unknown</td>\n",
       "      <td>no</td>\n",
       "    </tr>\n",
       "    <tr>\n",
       "      <th>...</th>\n",
       "      <td>...</td>\n",
       "      <td>...</td>\n",
       "      <td>...</td>\n",
       "      <td>...</td>\n",
       "      <td>...</td>\n",
       "      <td>...</td>\n",
       "      <td>...</td>\n",
       "      <td>...</td>\n",
       "      <td>...</td>\n",
       "      <td>...</td>\n",
       "      <td>...</td>\n",
       "      <td>...</td>\n",
       "      <td>...</td>\n",
       "      <td>...</td>\n",
       "      <td>...</td>\n",
       "      <td>...</td>\n",
       "      <td>...</td>\n",
       "      <td>...</td>\n",
       "      <td>...</td>\n",
       "    </tr>\n",
       "    <tr>\n",
       "      <th>45206</th>\n",
       "      <td>45207</td>\n",
       "      <td>51.0</td>\n",
       "      <td>60000.0</td>\n",
       "      <td>825</td>\n",
       "      <td>married</td>\n",
       "      <td>technician,tertiary</td>\n",
       "      <td>yes</td>\n",
       "      <td>no</td>\n",
       "      <td>no</td>\n",
       "      <td>no</td>\n",
       "      <td>cellular</td>\n",
       "      <td>17</td>\n",
       "      <td>nov, 2017</td>\n",
       "      <td>16.2833333333333 min</td>\n",
       "      <td>3</td>\n",
       "      <td>-1</td>\n",
       "      <td>0</td>\n",
       "      <td>unknown</td>\n",
       "      <td>yes</td>\n",
       "    </tr>\n",
       "    <tr>\n",
       "      <th>45207</th>\n",
       "      <td>45208</td>\n",
       "      <td>71.0</td>\n",
       "      <td>55000.0</td>\n",
       "      <td>1729</td>\n",
       "      <td>divorced</td>\n",
       "      <td>retired,primary</td>\n",
       "      <td>yes</td>\n",
       "      <td>no</td>\n",
       "      <td>no</td>\n",
       "      <td>no</td>\n",
       "      <td>cellular</td>\n",
       "      <td>17</td>\n",
       "      <td>nov, 2017</td>\n",
       "      <td>7.6 min</td>\n",
       "      <td>2</td>\n",
       "      <td>-1</td>\n",
       "      <td>0</td>\n",
       "      <td>unknown</td>\n",
       "      <td>yes</td>\n",
       "    </tr>\n",
       "    <tr>\n",
       "      <th>45208</th>\n",
       "      <td>45209</td>\n",
       "      <td>72.0</td>\n",
       "      <td>55000.0</td>\n",
       "      <td>5715</td>\n",
       "      <td>married</td>\n",
       "      <td>retired,secondary</td>\n",
       "      <td>yes</td>\n",
       "      <td>no</td>\n",
       "      <td>no</td>\n",
       "      <td>no</td>\n",
       "      <td>cellular</td>\n",
       "      <td>17</td>\n",
       "      <td>nov, 2017</td>\n",
       "      <td>18.7833333333333 min</td>\n",
       "      <td>5</td>\n",
       "      <td>184</td>\n",
       "      <td>3</td>\n",
       "      <td>success</td>\n",
       "      <td>yes</td>\n",
       "    </tr>\n",
       "    <tr>\n",
       "      <th>45209</th>\n",
       "      <td>45210</td>\n",
       "      <td>57.0</td>\n",
       "      <td>20000.0</td>\n",
       "      <td>668</td>\n",
       "      <td>married</td>\n",
       "      <td>blue-collar,secondary</td>\n",
       "      <td>yes</td>\n",
       "      <td>no</td>\n",
       "      <td>no</td>\n",
       "      <td>no</td>\n",
       "      <td>telephone</td>\n",
       "      <td>17</td>\n",
       "      <td>nov, 2017</td>\n",
       "      <td>8.46666666666667 min</td>\n",
       "      <td>4</td>\n",
       "      <td>-1</td>\n",
       "      <td>0</td>\n",
       "      <td>unknown</td>\n",
       "      <td>no</td>\n",
       "    </tr>\n",
       "    <tr>\n",
       "      <th>45210</th>\n",
       "      <td>45211</td>\n",
       "      <td>37.0</td>\n",
       "      <td>120000.0</td>\n",
       "      <td>2971</td>\n",
       "      <td>married</td>\n",
       "      <td>entrepreneur,secondary</td>\n",
       "      <td>yes</td>\n",
       "      <td>no</td>\n",
       "      <td>no</td>\n",
       "      <td>no</td>\n",
       "      <td>cellular</td>\n",
       "      <td>17</td>\n",
       "      <td>nov, 2017</td>\n",
       "      <td>6.01666666666667 min</td>\n",
       "      <td>2</td>\n",
       "      <td>188</td>\n",
       "      <td>11</td>\n",
       "      <td>other</td>\n",
       "      <td>no</td>\n",
       "    </tr>\n",
       "  </tbody>\n",
       "</table>\n",
       "<p>45211 rows × 19 columns</p>\n",
       "</div>"
      ],
      "text/plain": [
       "       customerid   age    salary  balance   marital                  jobedu  \\\n",
       "0               1  58.0  100000.0     2143   married     management,tertiary   \n",
       "1               2  44.0   60000.0       29    single    technician,secondary   \n",
       "2               3  33.0  120000.0        2   married  entrepreneur,secondary   \n",
       "3               4  47.0   20000.0     1506   married     blue-collar,unknown   \n",
       "4               5  33.0       0.0        1    single         unknown,unknown   \n",
       "...           ...   ...       ...      ...       ...                     ...   \n",
       "45206       45207  51.0   60000.0      825   married     technician,tertiary   \n",
       "45207       45208  71.0   55000.0     1729  divorced         retired,primary   \n",
       "45208       45209  72.0   55000.0     5715   married       retired,secondary   \n",
       "45209       45210  57.0   20000.0      668   married   blue-collar,secondary   \n",
       "45210       45211  37.0  120000.0     2971   married  entrepreneur,secondary   \n",
       "\n",
       "      targeted default housing loan    contact  day      month  \\\n",
       "0          yes      no     yes   no    unknown    5  may, 2017   \n",
       "1          yes      no     yes   no    unknown    5  may, 2017   \n",
       "2          yes      no     yes  yes    unknown    5  may, 2017   \n",
       "3           no      no     yes   no    unknown    5  may, 2017   \n",
       "4           no      no      no   no    unknown    5  may, 2017   \n",
       "...        ...     ...     ...  ...        ...  ...        ...   \n",
       "45206      yes      no      no   no   cellular   17  nov, 2017   \n",
       "45207      yes      no      no   no   cellular   17  nov, 2017   \n",
       "45208      yes      no      no   no   cellular   17  nov, 2017   \n",
       "45209      yes      no      no   no  telephone   17  nov, 2017   \n",
       "45210      yes      no      no   no   cellular   17  nov, 2017   \n",
       "\n",
       "                   duration  campaign  pdays  previous poutcome response  \n",
       "0                   261 sec         1     -1         0  unknown       no  \n",
       "1                   151 sec         1     -1         0  unknown       no  \n",
       "2                    76 sec         1     -1         0  unknown       no  \n",
       "3                    92 sec         1     -1         0  unknown       no  \n",
       "4                   198 sec         1     -1         0  unknown       no  \n",
       "...                     ...       ...    ...       ...      ...      ...  \n",
       "45206  16.2833333333333 min         3     -1         0  unknown      yes  \n",
       "45207               7.6 min         2     -1         0  unknown      yes  \n",
       "45208  18.7833333333333 min         5    184         3  success      yes  \n",
       "45209  8.46666666666667 min         4     -1         0  unknown       no  \n",
       "45210  6.01666666666667 min         2    188        11    other       no  \n",
       "\n",
       "[45211 rows x 19 columns]"
      ]
     },
     "execution_count": 16,
     "metadata": {},
     "output_type": "execute_result"
    }
   ],
   "source": [
    "data"
   ]
  },
  {
   "cell_type": "code",
   "execution_count": 17,
   "id": "62107923",
   "metadata": {},
   "outputs": [],
   "source": [
    "df = data['jobedu'].str.split(',', expand=True)\n",
    "df.rename(columns = {0:\"job\",1:\"education\"}, inplace = True)\n",
    "data[\"job\"] = df[\"job\"]\n",
    "data[\"education\"] = df[\"education\"]\n",
    "import math\n",
    "new_duration = []\n",
    "for i in data.duration:\n",
    "    x = (i.split())\n",
    "    #print(x)\n",
    "    if x[0].isalnum() and x[1] == \"sec\":\n",
    "        #print(\"seconds\")\n",
    "        sec = i.split(\" \")[0]\n",
    "        #print(sec)\n",
    "        h1 = math.ceil((float(sec)/60))\n",
    "        new_duration.append(h1)\n",
    "        #pass\n",
    "    else:\n",
    "        num2 = float(i.split(\" \")[0])\n",
    "        h2 = math.ceil(num2)\n",
    "        new_duration.append(h2)\n",
    "\n",
    "#print(len(new_duration))\n",
    "data[\"Duration\"] = new_duration\n",
    "df1 = data['month'].str.split(',', expand=True)\n",
    "df1.rename(columns = {0:\"months\",1:\"year\"}, inplace = True)\n",
    "data[\"months\"] = df1[\"months\"]\n",
    "data[\"year\"] = df1[\"year\"]"
   ]
  },
  {
   "cell_type": "code",
   "execution_count": 18,
   "id": "ef2ae2e5",
   "metadata": {},
   "outputs": [
    {
     "data": {
      "text/html": [
       "<div>\n",
       "<style scoped>\n",
       "    .dataframe tbody tr th:only-of-type {\n",
       "        vertical-align: middle;\n",
       "    }\n",
       "\n",
       "    .dataframe tbody tr th {\n",
       "        vertical-align: top;\n",
       "    }\n",
       "\n",
       "    .dataframe thead th {\n",
       "        text-align: right;\n",
       "    }\n",
       "</style>\n",
       "<table border=\"1\" class=\"dataframe\">\n",
       "  <thead>\n",
       "    <tr style=\"text-align: right;\">\n",
       "      <th></th>\n",
       "      <th>customerid</th>\n",
       "      <th>age</th>\n",
       "      <th>salary</th>\n",
       "      <th>balance</th>\n",
       "      <th>marital</th>\n",
       "      <th>jobedu</th>\n",
       "      <th>targeted</th>\n",
       "      <th>default</th>\n",
       "      <th>housing</th>\n",
       "      <th>loan</th>\n",
       "      <th>...</th>\n",
       "      <th>campaign</th>\n",
       "      <th>pdays</th>\n",
       "      <th>previous</th>\n",
       "      <th>poutcome</th>\n",
       "      <th>response</th>\n",
       "      <th>job</th>\n",
       "      <th>education</th>\n",
       "      <th>Duration</th>\n",
       "      <th>months</th>\n",
       "      <th>year</th>\n",
       "    </tr>\n",
       "  </thead>\n",
       "  <tbody>\n",
       "    <tr>\n",
       "      <th>0</th>\n",
       "      <td>1</td>\n",
       "      <td>58.0</td>\n",
       "      <td>100000.0</td>\n",
       "      <td>2143</td>\n",
       "      <td>married</td>\n",
       "      <td>management,tertiary</td>\n",
       "      <td>yes</td>\n",
       "      <td>no</td>\n",
       "      <td>yes</td>\n",
       "      <td>no</td>\n",
       "      <td>...</td>\n",
       "      <td>1</td>\n",
       "      <td>-1</td>\n",
       "      <td>0</td>\n",
       "      <td>unknown</td>\n",
       "      <td>no</td>\n",
       "      <td>management</td>\n",
       "      <td>tertiary</td>\n",
       "      <td>5</td>\n",
       "      <td>may</td>\n",
       "      <td>2017</td>\n",
       "    </tr>\n",
       "    <tr>\n",
       "      <th>1</th>\n",
       "      <td>2</td>\n",
       "      <td>44.0</td>\n",
       "      <td>60000.0</td>\n",
       "      <td>29</td>\n",
       "      <td>single</td>\n",
       "      <td>technician,secondary</td>\n",
       "      <td>yes</td>\n",
       "      <td>no</td>\n",
       "      <td>yes</td>\n",
       "      <td>no</td>\n",
       "      <td>...</td>\n",
       "      <td>1</td>\n",
       "      <td>-1</td>\n",
       "      <td>0</td>\n",
       "      <td>unknown</td>\n",
       "      <td>no</td>\n",
       "      <td>technician</td>\n",
       "      <td>secondary</td>\n",
       "      <td>3</td>\n",
       "      <td>may</td>\n",
       "      <td>2017</td>\n",
       "    </tr>\n",
       "    <tr>\n",
       "      <th>2</th>\n",
       "      <td>3</td>\n",
       "      <td>33.0</td>\n",
       "      <td>120000.0</td>\n",
       "      <td>2</td>\n",
       "      <td>married</td>\n",
       "      <td>entrepreneur,secondary</td>\n",
       "      <td>yes</td>\n",
       "      <td>no</td>\n",
       "      <td>yes</td>\n",
       "      <td>yes</td>\n",
       "      <td>...</td>\n",
       "      <td>1</td>\n",
       "      <td>-1</td>\n",
       "      <td>0</td>\n",
       "      <td>unknown</td>\n",
       "      <td>no</td>\n",
       "      <td>entrepreneur</td>\n",
       "      <td>secondary</td>\n",
       "      <td>2</td>\n",
       "      <td>may</td>\n",
       "      <td>2017</td>\n",
       "    </tr>\n",
       "    <tr>\n",
       "      <th>3</th>\n",
       "      <td>4</td>\n",
       "      <td>47.0</td>\n",
       "      <td>20000.0</td>\n",
       "      <td>1506</td>\n",
       "      <td>married</td>\n",
       "      <td>blue-collar,unknown</td>\n",
       "      <td>no</td>\n",
       "      <td>no</td>\n",
       "      <td>yes</td>\n",
       "      <td>no</td>\n",
       "      <td>...</td>\n",
       "      <td>1</td>\n",
       "      <td>-1</td>\n",
       "      <td>0</td>\n",
       "      <td>unknown</td>\n",
       "      <td>no</td>\n",
       "      <td>blue-collar</td>\n",
       "      <td>unknown</td>\n",
       "      <td>2</td>\n",
       "      <td>may</td>\n",
       "      <td>2017</td>\n",
       "    </tr>\n",
       "    <tr>\n",
       "      <th>4</th>\n",
       "      <td>5</td>\n",
       "      <td>33.0</td>\n",
       "      <td>0.0</td>\n",
       "      <td>1</td>\n",
       "      <td>single</td>\n",
       "      <td>unknown,unknown</td>\n",
       "      <td>no</td>\n",
       "      <td>no</td>\n",
       "      <td>no</td>\n",
       "      <td>no</td>\n",
       "      <td>...</td>\n",
       "      <td>1</td>\n",
       "      <td>-1</td>\n",
       "      <td>0</td>\n",
       "      <td>unknown</td>\n",
       "      <td>no</td>\n",
       "      <td>unknown</td>\n",
       "      <td>unknown</td>\n",
       "      <td>4</td>\n",
       "      <td>may</td>\n",
       "      <td>2017</td>\n",
       "    </tr>\n",
       "    <tr>\n",
       "      <th>...</th>\n",
       "      <td>...</td>\n",
       "      <td>...</td>\n",
       "      <td>...</td>\n",
       "      <td>...</td>\n",
       "      <td>...</td>\n",
       "      <td>...</td>\n",
       "      <td>...</td>\n",
       "      <td>...</td>\n",
       "      <td>...</td>\n",
       "      <td>...</td>\n",
       "      <td>...</td>\n",
       "      <td>...</td>\n",
       "      <td>...</td>\n",
       "      <td>...</td>\n",
       "      <td>...</td>\n",
       "      <td>...</td>\n",
       "      <td>...</td>\n",
       "      <td>...</td>\n",
       "      <td>...</td>\n",
       "      <td>...</td>\n",
       "      <td>...</td>\n",
       "    </tr>\n",
       "    <tr>\n",
       "      <th>45206</th>\n",
       "      <td>45207</td>\n",
       "      <td>51.0</td>\n",
       "      <td>60000.0</td>\n",
       "      <td>825</td>\n",
       "      <td>married</td>\n",
       "      <td>technician,tertiary</td>\n",
       "      <td>yes</td>\n",
       "      <td>no</td>\n",
       "      <td>no</td>\n",
       "      <td>no</td>\n",
       "      <td>...</td>\n",
       "      <td>3</td>\n",
       "      <td>-1</td>\n",
       "      <td>0</td>\n",
       "      <td>unknown</td>\n",
       "      <td>yes</td>\n",
       "      <td>technician</td>\n",
       "      <td>tertiary</td>\n",
       "      <td>17</td>\n",
       "      <td>nov</td>\n",
       "      <td>2017</td>\n",
       "    </tr>\n",
       "    <tr>\n",
       "      <th>45207</th>\n",
       "      <td>45208</td>\n",
       "      <td>71.0</td>\n",
       "      <td>55000.0</td>\n",
       "      <td>1729</td>\n",
       "      <td>divorced</td>\n",
       "      <td>retired,primary</td>\n",
       "      <td>yes</td>\n",
       "      <td>no</td>\n",
       "      <td>no</td>\n",
       "      <td>no</td>\n",
       "      <td>...</td>\n",
       "      <td>2</td>\n",
       "      <td>-1</td>\n",
       "      <td>0</td>\n",
       "      <td>unknown</td>\n",
       "      <td>yes</td>\n",
       "      <td>retired</td>\n",
       "      <td>primary</td>\n",
       "      <td>8</td>\n",
       "      <td>nov</td>\n",
       "      <td>2017</td>\n",
       "    </tr>\n",
       "    <tr>\n",
       "      <th>45208</th>\n",
       "      <td>45209</td>\n",
       "      <td>72.0</td>\n",
       "      <td>55000.0</td>\n",
       "      <td>5715</td>\n",
       "      <td>married</td>\n",
       "      <td>retired,secondary</td>\n",
       "      <td>yes</td>\n",
       "      <td>no</td>\n",
       "      <td>no</td>\n",
       "      <td>no</td>\n",
       "      <td>...</td>\n",
       "      <td>5</td>\n",
       "      <td>184</td>\n",
       "      <td>3</td>\n",
       "      <td>success</td>\n",
       "      <td>yes</td>\n",
       "      <td>retired</td>\n",
       "      <td>secondary</td>\n",
       "      <td>19</td>\n",
       "      <td>nov</td>\n",
       "      <td>2017</td>\n",
       "    </tr>\n",
       "    <tr>\n",
       "      <th>45209</th>\n",
       "      <td>45210</td>\n",
       "      <td>57.0</td>\n",
       "      <td>20000.0</td>\n",
       "      <td>668</td>\n",
       "      <td>married</td>\n",
       "      <td>blue-collar,secondary</td>\n",
       "      <td>yes</td>\n",
       "      <td>no</td>\n",
       "      <td>no</td>\n",
       "      <td>no</td>\n",
       "      <td>...</td>\n",
       "      <td>4</td>\n",
       "      <td>-1</td>\n",
       "      <td>0</td>\n",
       "      <td>unknown</td>\n",
       "      <td>no</td>\n",
       "      <td>blue-collar</td>\n",
       "      <td>secondary</td>\n",
       "      <td>9</td>\n",
       "      <td>nov</td>\n",
       "      <td>2017</td>\n",
       "    </tr>\n",
       "    <tr>\n",
       "      <th>45210</th>\n",
       "      <td>45211</td>\n",
       "      <td>37.0</td>\n",
       "      <td>120000.0</td>\n",
       "      <td>2971</td>\n",
       "      <td>married</td>\n",
       "      <td>entrepreneur,secondary</td>\n",
       "      <td>yes</td>\n",
       "      <td>no</td>\n",
       "      <td>no</td>\n",
       "      <td>no</td>\n",
       "      <td>...</td>\n",
       "      <td>2</td>\n",
       "      <td>188</td>\n",
       "      <td>11</td>\n",
       "      <td>other</td>\n",
       "      <td>no</td>\n",
       "      <td>entrepreneur</td>\n",
       "      <td>secondary</td>\n",
       "      <td>7</td>\n",
       "      <td>nov</td>\n",
       "      <td>2017</td>\n",
       "    </tr>\n",
       "  </tbody>\n",
       "</table>\n",
       "<p>45211 rows × 24 columns</p>\n",
       "</div>"
      ],
      "text/plain": [
       "       customerid   age    salary  balance   marital                  jobedu  \\\n",
       "0               1  58.0  100000.0     2143   married     management,tertiary   \n",
       "1               2  44.0   60000.0       29    single    technician,secondary   \n",
       "2               3  33.0  120000.0        2   married  entrepreneur,secondary   \n",
       "3               4  47.0   20000.0     1506   married     blue-collar,unknown   \n",
       "4               5  33.0       0.0        1    single         unknown,unknown   \n",
       "...           ...   ...       ...      ...       ...                     ...   \n",
       "45206       45207  51.0   60000.0      825   married     technician,tertiary   \n",
       "45207       45208  71.0   55000.0     1729  divorced         retired,primary   \n",
       "45208       45209  72.0   55000.0     5715   married       retired,secondary   \n",
       "45209       45210  57.0   20000.0      668   married   blue-collar,secondary   \n",
       "45210       45211  37.0  120000.0     2971   married  entrepreneur,secondary   \n",
       "\n",
       "      targeted default housing loan  ... campaign  pdays previous poutcome  \\\n",
       "0          yes      no     yes   no  ...        1     -1        0  unknown   \n",
       "1          yes      no     yes   no  ...        1     -1        0  unknown   \n",
       "2          yes      no     yes  yes  ...        1     -1        0  unknown   \n",
       "3           no      no     yes   no  ...        1     -1        0  unknown   \n",
       "4           no      no      no   no  ...        1     -1        0  unknown   \n",
       "...        ...     ...     ...  ...  ...      ...    ...      ...      ...   \n",
       "45206      yes      no      no   no  ...        3     -1        0  unknown   \n",
       "45207      yes      no      no   no  ...        2     -1        0  unknown   \n",
       "45208      yes      no      no   no  ...        5    184        3  success   \n",
       "45209      yes      no      no   no  ...        4     -1        0  unknown   \n",
       "45210      yes      no      no   no  ...        2    188       11    other   \n",
       "\n",
       "       response           job  education Duration months   year  \n",
       "0            no    management   tertiary        5    may   2017  \n",
       "1            no    technician  secondary        3    may   2017  \n",
       "2            no  entrepreneur  secondary        2    may   2017  \n",
       "3            no   blue-collar    unknown        2    may   2017  \n",
       "4            no       unknown    unknown        4    may   2017  \n",
       "...         ...           ...        ...      ...    ...    ...  \n",
       "45206       yes    technician   tertiary       17    nov   2017  \n",
       "45207       yes       retired    primary        8    nov   2017  \n",
       "45208       yes       retired  secondary       19    nov   2017  \n",
       "45209        no   blue-collar  secondary        9    nov   2017  \n",
       "45210        no  entrepreneur  secondary        7    nov   2017  \n",
       "\n",
       "[45211 rows x 24 columns]"
      ]
     },
     "execution_count": 18,
     "metadata": {},
     "output_type": "execute_result"
    }
   ],
   "source": [
    "data"
   ]
  },
  {
   "cell_type": "markdown",
   "id": "6a81d467",
   "metadata": {},
   "source": [
    "## DATA ANALYSIS"
   ]
  },
  {
   "cell_type": "markdown",
   "id": "bd908f42",
   "metadata": {},
   "source": [
    "## UNIVARIATE ANALYSIS"
   ]
  },
  {
   "cell_type": "markdown",
   "id": "268cd960",
   "metadata": {},
   "source": [
    "### CATEGORICAL DATA"
   ]
  },
  {
   "cell_type": "code",
   "execution_count": 19,
   "id": "234ef76b",
   "metadata": {},
   "outputs": [],
   "source": [
    "data.drop(['jobedu', 'month', 'duration'], axis = 1, inplace = True)"
   ]
  },
  {
   "cell_type": "code",
   "execution_count": 20,
   "id": "b67999bb",
   "metadata": {},
   "outputs": [
    {
     "data": {
      "text/plain": [
       "Index(['marital', 'targeted', 'default', 'housing', 'loan', 'contact',\n",
       "       'poutcome', 'response', 'job', 'education', 'months', 'year'],\n",
       "      dtype='object')"
      ]
     },
     "execution_count": 20,
     "metadata": {},
     "output_type": "execute_result"
    }
   ],
   "source": [
    "objects = [\"object\"]\n",
    "df_o = data.select_dtypes(include=objects)\n",
    "df_o.columns"
   ]
  },
  {
   "cell_type": "markdown",
   "id": "d6631d62",
   "metadata": {},
   "source": [
    "## marital"
   ]
  },
  {
   "cell_type": "code",
   "execution_count": 21,
   "id": "29909395",
   "metadata": {},
   "outputs": [
    {
     "name": "stdout",
     "output_type": "stream",
     "text": [
      "count       45211\n",
      "unique          3\n",
      "top       married\n",
      "freq        27214\n",
      "Name: marital, dtype: object\n",
      "*-------------------------------------*\n",
      "married     27214\n",
      "single      12790\n",
      "divorced     5207\n",
      "Name: marital, dtype: int64\n",
      "*-------------------------------------*\n"
     ]
    },
    {
     "data": {
      "text/plain": [
       "<AxesSubplot:xlabel='marital', ylabel='count'>"
      ]
     },
     "execution_count": 21,
     "metadata": {},
     "output_type": "execute_result"
    },
    {
     "data": {
      "image/png": "[encoded data removed]",
      "text/plain": [
       "<Figure size 432x288 with 1 Axes>"
      ]
     },
     "metadata": {
      "needs_background": "light"
     },
     "output_type": "display_data"
    }
   ],
   "source": [
    "print(data[\"marital\"].describe())\n",
    "print(\"*-------------------------------------*\")\n",
    "print(data[\"marital\"].value_counts())\n",
    "print(\"*-------------------------------------*\")\n",
    "sns.countplot(x= \"marital\", data = data)"
   ]
  },
  {
   "cell_type": "markdown",
   "id": "b7dadc81",
   "metadata": {},
   "source": [
    "## targeted"
   ]
  },
  {
   "cell_type": "code",
   "execution_count": 93,
   "id": "21201008",
   "metadata": {},
   "outputs": [
    {
     "name": "stdout",
     "output_type": "stream",
     "text": [
      "count     45211\n",
      "unique        2\n",
      "top         yes\n",
      "freq      37091\n",
      "Name: targeted, dtype: object\n",
      "*-------------------------------------*\n",
      "yes    37091\n",
      "no      8120\n",
      "Name: targeted, dtype: int64\n",
      "*-------------------------------------*\n"
     ]
    },
    {
     "data": {
      "text/plain": [
       "<AxesSubplot:ylabel='targeted'>"
      ]
     },
     "execution_count": 93,
     "metadata": {},
     "output_type": "execute_result"
    },
    {
     "data": {
      "image/png": "[encoded data removed]",
      "text/plain": [
       "<Figure size 432x288 with 1 Axes>"
      ]
     },
     "metadata": {},
     "output_type": "display_data"
    }
   ],
   "source": [
    "print(data[\"targeted\"].describe())\n",
    "print(\"*-------------------------------------*\")\n",
    "print(data[\"targeted\"].value_counts())\n",
    "print(\"*-------------------------------------*\")\n",
    "data['targeted'].value_counts().plot.pie(explode=[0.1,0],autopct='%1.1f%%',shadow=True)"
   ]
  },
  {
   "cell_type": "markdown",
   "id": "bbe12e1a",
   "metadata": {},
   "source": [
    "## default"
   ]
  },
  {
   "cell_type": "code",
   "execution_count": 23,
   "id": "43fb8ba1",
   "metadata": {},
   "outputs": [
    {
     "name": "stdout",
     "output_type": "stream",
     "text": [
      "count     45211\n",
      "unique        2\n",
      "top          no\n",
      "freq      44396\n",
      "Name: default, dtype: object\n",
      "*-------------------------------------*\n",
      "no     44396\n",
      "yes      815\n",
      "Name: default, dtype: int64\n",
      "*-------------------------------------*\n"
     ]
    },
    {
     "data": {
      "text/plain": [
       "<AxesSubplot:xlabel='default', ylabel='count'>"
      ]
     },
     "execution_count": 23,
     "metadata": {},
     "output_type": "execute_result"
    },
    {
     "data": {
      "image/png": "[encoded data removed]",
      "text/plain": [
       "<Figure size 432x288 with 1 Axes>"
      ]
     },
     "metadata": {
      "needs_background": "light"
     },
     "output_type": "display_data"
    }
   ],
   "source": [
    "print(data[\"default\"].describe())\n",
    "print(\"*-------------------------------------*\")\n",
    "print(data[\"default\"].value_counts())\n",
    "print(\"*-------------------------------------*\")\n",
    "sns.countplot(x= \"default\", data = data)"
   ]
  },
  {
   "cell_type": "markdown",
   "id": "3d7ca45e",
   "metadata": {},
   "source": [
    "## housing"
   ]
  },
  {
   "cell_type": "code",
   "execution_count": 24,
   "id": "82354fb3",
   "metadata": {},
   "outputs": [
    {
     "name": "stdout",
     "output_type": "stream",
     "text": [
      "count     45211\n",
      "unique        2\n",
      "top         yes\n",
      "freq      25130\n",
      "Name: housing, dtype: object\n",
      "*-------------------------------------*\n",
      "yes    25130\n",
      "no     20081\n",
      "Name: housing, dtype: int64\n",
      "*-------------------------------------*\n"
     ]
    },
    {
     "data": {
      "text/plain": [
       "<AxesSubplot:xlabel='housing', ylabel='count'>"
      ]
     },
     "execution_count": 24,
     "metadata": {},
     "output_type": "execute_result"
    },
    {
     "data": {
      "image/png": "[encoded data removed]",
      "text/plain": [
       "<Figure size 432x288 with 1 Axes>"
      ]
     },
     "metadata": {
      "needs_background": "light"
     },
     "output_type": "display_data"
    }
   ],
   "source": [
    "print(data[\"housing\"].describe())\n",
    "print(\"*-------------------------------------*\")\n",
    "print(data[\"housing\"].value_counts())\n",
    "print(\"*-------------------------------------*\")\n",
    "sns.countplot(x= \"housing\", data = data)"
   ]
  },
  {
   "cell_type": "markdown",
   "id": "2c2fb4db",
   "metadata": {},
   "source": [
    "## loan"
   ]
  },
  {
   "cell_type": "code",
   "execution_count": 94,
   "id": "df0dc6a1",
   "metadata": {},
   "outputs": [
    {
     "name": "stdout",
     "output_type": "stream",
     "text": [
      "count     45211\n",
      "unique        2\n",
      "top          no\n",
      "freq      37967\n",
      "Name: loan, dtype: object\n",
      "*-------------------------------------*\n",
      "no     37967\n",
      "yes     7244\n",
      "Name: loan, dtype: int64\n",
      "*-------------------------------------*\n"
     ]
    },
    {
     "data": {
      "text/plain": [
       "<AxesSubplot:ylabel='loan'>"
      ]
     },
     "execution_count": 94,
     "metadata": {},
     "output_type": "execute_result"
    },
    {
     "data": {
      "image/png": "[encoded data removed]",
      "text/plain": [
       "<Figure size 432x288 with 1 Axes>"
      ]
     },
     "metadata": {},
     "output_type": "display_data"
    }
   ],
   "source": [
    "\n",
    "print(data[\"loan\"].describe())\n",
    "print(\"*-------------------------------------*\")\n",
    "print(data[\"loan\"].value_counts())\n",
    "print(\"*-------------------------------------*\")\n",
    "data['loan'].value_counts().plot.pie(explode=[0.1,0],autopct='%1.1f%%',shadow=True)"
   ]
  },
  {
   "cell_type": "markdown",
   "id": "39810dc7",
   "metadata": {},
   "source": [
    "## contact"
   ]
  },
  {
   "cell_type": "code",
   "execution_count": 26,
   "id": "38707432",
   "metadata": {},
   "outputs": [
    {
     "name": "stdout",
     "output_type": "stream",
     "text": [
      "count        45211\n",
      "unique           3\n",
      "top       cellular\n",
      "freq         29285\n",
      "Name: contact, dtype: object\n",
      "*-------------------------------------*\n",
      "cellular     29285\n",
      "unknown      13020\n",
      "telephone     2906\n",
      "Name: contact, dtype: int64\n",
      "*-------------------------------------*\n"
     ]
    },
    {
     "data": {
      "text/plain": [
       "<AxesSubplot:xlabel='contact', ylabel='count'>"
      ]
     },
     "execution_count": 26,
     "metadata": {},
     "output_type": "execute_result"
    },
    {
     "data": {
      "image/png": "[encoded data removed]",
      "text/plain": [
       "<Figure size 432x288 with 1 Axes>"
      ]
     },
     "metadata": {
      "needs_background": "light"
     },
     "output_type": "display_data"
    }
   ],
   "source": [
    "print(data[\"contact\"].describe())\n",
    "print(\"*-------------------------------------*\")\n",
    "print(data[\"contact\"].value_counts())\n",
    "print(\"*-------------------------------------*\")\n",
    "sns.countplot(x= \"contact\", data = data)"
   ]
  },
  {
   "cell_type": "markdown",
   "id": "445a91fc",
   "metadata": {},
   "source": [
    "## poutcome"
   ]
  },
  {
   "cell_type": "code",
   "execution_count": 27,
   "id": "70228184",
   "metadata": {},
   "outputs": [
    {
     "name": "stdout",
     "output_type": "stream",
     "text": [
      "count       45211\n",
      "unique          4\n",
      "top       unknown\n",
      "freq        36959\n",
      "Name: poutcome, dtype: object\n",
      "*-------------------------------------*\n",
      "unknown    36959\n",
      "failure     4901\n",
      "other       1840\n",
      "success     1511\n",
      "Name: poutcome, dtype: int64\n",
      "*-------------------------------------*\n"
     ]
    },
    {
     "data": {
      "text/plain": [
       "<AxesSubplot:xlabel='poutcome', ylabel='count'>"
      ]
     },
     "execution_count": 27,
     "metadata": {},
     "output_type": "execute_result"
    },
    {
     "data": {
      "image/png": "[encoded data removed]",
      "text/plain": [
       "<Figure size 432x288 with 1 Axes>"
      ]
     },
     "metadata": {
      "needs_background": "light"
     },
     "output_type": "display_data"
    }
   ],
   "source": [
    "print(data[\"poutcome\"].describe())\n",
    "print(\"*-------------------------------------*\")\n",
    "print(data[\"poutcome\"].value_counts())\n",
    "print(\"*-------------------------------------*\")\n",
    "sns.countplot(x= \"poutcome\", data = data)"
   ]
  },
  {
   "cell_type": "markdown",
   "id": "c0a410e3",
   "metadata": {},
   "source": [
    "## response"
   ]
  },
  {
   "cell_type": "code",
   "execution_count": 28,
   "id": "14e3e600",
   "metadata": {},
   "outputs": [
    {
     "name": "stdout",
     "output_type": "stream",
     "text": [
      "count     45211\n",
      "unique        2\n",
      "top          no\n",
      "freq      39919\n",
      "Name: response, dtype: object\n",
      "*-------------------------------------*\n",
      "no     39919\n",
      "yes     5292\n",
      "Name: response, dtype: int64\n",
      "*-------------------------------------*\n"
     ]
    },
    {
     "data": {
      "text/plain": [
       "<AxesSubplot:xlabel='response', ylabel='count'>"
      ]
     },
     "execution_count": 28,
     "metadata": {},
     "output_type": "execute_result"
    },
    {
     "data": {
      "image/png": "[encoded data removed]",
      "text/plain": [
       "<Figure size 432x288 with 1 Axes>"
      ]
     },
     "metadata": {
      "needs_background": "light"
     },
     "output_type": "display_data"
    }
   ],
   "source": [
    "print(data[\"response\"].describe())\n",
    "print(\"*-------------------------------------*\")\n",
    "print(data[\"response\"].value_counts())\n",
    "print(\"*-------------------------------------*\")\n",
    "sns.countplot(x= \"response\", data = data)"
   ]
  },
  {
   "cell_type": "markdown",
   "id": "acb00886",
   "metadata": {},
   "source": [
    "## job "
   ]
  },
  {
   "cell_type": "code",
   "execution_count": 29,
   "id": "22f46a90",
   "metadata": {},
   "outputs": [
    {
     "name": "stdout",
     "output_type": "stream",
     "text": [
      "count           45211\n",
      "unique             12\n",
      "top       blue-collar\n",
      "freq             9732\n",
      "Name: job, dtype: object\n",
      "*-------------------------------------*\n",
      "blue-collar      9732\n",
      "management       9458\n",
      "technician       7597\n",
      "admin.           5171\n",
      "services         4154\n",
      "retired          2264\n",
      "self-employed    1579\n",
      "entrepreneur     1487\n",
      "unemployed       1303\n",
      "housemaid        1240\n",
      "student           938\n",
      "unknown           288\n",
      "Name: job, dtype: int64\n",
      "*-------------------------------------*\n"
     ]
    },
    {
     "data": {
      "image/png": "[encoded data removed]",
      "text/plain": [
       "<Figure size 432x288 with 1 Axes>"
      ]
     },
     "metadata": {
      "needs_background": "light"
     },
     "output_type": "display_data"
    }
   ],
   "source": [
    "print(data[\"job\"].describe())\n",
    "print(\"*-------------------------------------*\")\n",
    "print(data[\"job\"].value_counts())\n",
    "print(\"*-------------------------------------*\")\n",
    "sns.countplot(x= \"job\", data = data)\n",
    "plt.xticks(rotation = 90)\n",
    "plt.show()"
   ]
  },
  {
   "cell_type": "markdown",
   "id": "17cddc59",
   "metadata": {},
   "source": [
    "## education"
   ]
  },
  {
   "cell_type": "code",
   "execution_count": 30,
   "id": "3888c6e6",
   "metadata": {},
   "outputs": [
    {
     "name": "stdout",
     "output_type": "stream",
     "text": [
      "count         45211\n",
      "unique            4\n",
      "top       secondary\n",
      "freq          23202\n",
      "Name: education, dtype: object\n",
      "*-------------------------------------*\n",
      "secondary    23202\n",
      "tertiary     13301\n",
      "primary       6851\n",
      "unknown       1857\n",
      "Name: education, dtype: int64\n",
      "*-------------------------------------*\n"
     ]
    },
    {
     "data": {
      "text/plain": [
       "<AxesSubplot:xlabel='education', ylabel='count'>"
      ]
     },
     "execution_count": 30,
     "metadata": {},
     "output_type": "execute_result"
    },
    {
     "data": {
      "image/png": "[encoded data removed]",
      "text/plain": [
       "<Figure size 432x288 with 1 Axes>"
      ]
     },
     "metadata": {
      "needs_background": "light"
     },
     "output_type": "display_data"
    }
   ],
   "source": [
    "print(data[\"education\"].describe())\n",
    "print(\"*-------------------------------------*\")\n",
    "print(data[\"education\"].value_counts())\n",
    "print(\"*-------------------------------------*\")\n",
    "sns.countplot(x= \"education\", data = data)"
   ]
  },
  {
   "cell_type": "markdown",
   "id": "dafc57a2",
   "metadata": {},
   "source": [
    "## months"
   ]
  },
  {
   "cell_type": "code",
   "execution_count": 31,
   "id": "35bc235e",
   "metadata": {},
   "outputs": [
    {
     "name": "stdout",
     "output_type": "stream",
     "text": [
      "count     45211\n",
      "unique       12\n",
      "top         may\n",
      "freq      13766\n",
      "Name: months, dtype: object\n",
      "*-------------------------------------*\n",
      "may    13766\n",
      "jul     6895\n",
      "aug     6247\n",
      "jun     5341\n",
      "nov     3970\n",
      "apr     2932\n",
      "feb     2649\n",
      "jan     1403\n",
      "oct      738\n",
      "sep      579\n",
      "mar      477\n",
      "dec      214\n",
      "Name: months, dtype: int64\n",
      "*-------------------------------------*\n"
     ]
    },
    {
     "data": {
      "text/plain": [
       "<AxesSubplot:xlabel='months', ylabel='count'>"
      ]
     },
     "execution_count": 31,
     "metadata": {},
     "output_type": "execute_result"
    },
    {
     "data": {
      "image/png": "[encoded data removed]",
      "text/plain": [
       "<Figure size 432x288 with 1 Axes>"
      ]
     },
     "metadata": {
      "needs_background": "light"
     },
     "output_type": "display_data"
    }
   ],
   "source": [
    "print(data[\"months\"].describe())\n",
    "print(\"*-------------------------------------*\")\n",
    "print(data[\"months\"].value_counts())\n",
    "print(\"*-------------------------------------*\")\n",
    "sns.countplot(x= \"months\", data = data)"
   ]
  },
  {
   "cell_type": "markdown",
   "id": "cb3a0aef",
   "metadata": {},
   "source": [
    "## year"
   ]
  },
  {
   "cell_type": "code",
   "execution_count": 32,
   "id": "fe2d8859",
   "metadata": {},
   "outputs": [
    {
     "name": "stdout",
     "output_type": "stream",
     "text": [
      "count     45211\n",
      "unique        1\n",
      "top        2017\n",
      "freq      45211\n",
      "Name: year, dtype: object\n",
      "*-------------------------------------*\n",
      " 2017    45211\n",
      "Name: year, dtype: int64\n",
      "*-------------------------------------*\n"
     ]
    },
    {
     "data": {
      "text/plain": [
       "<AxesSubplot:xlabel='year', ylabel='count'>"
      ]
     },
     "execution_count": 32,
     "metadata": {},
     "output_type": "execute_result"
    },
    {
     "data": {
      "image/png": "[encoded data removed]",
      "text/plain": [
       "<Figure size 432x288 with 1 Axes>"
      ]
     },
     "metadata": {
      "needs_background": "light"
     },
     "output_type": "display_data"
    }
   ],
   "source": [
    "print(data[\"year\"].describe())\n",
    "print(\"*-------------------------------------*\")\n",
    "print(data[\"year\"].value_counts())\n",
    "print(\"*-------------------------------------*\")\n",
    "sns.countplot(x= \"year\", data = data)"
   ]
  },
  {
   "cell_type": "markdown",
   "id": "35c841f8",
   "metadata": {},
   "source": [
    "### NUMERICAL DATA"
   ]
  },
  {
   "cell_type": "code",
   "execution_count": 33,
   "id": "b2f57449",
   "metadata": {},
   "outputs": [
    {
     "data": {
      "text/plain": [
       "Index(['customerid', 'age', 'salary', 'balance', 'day', 'campaign', 'pdays',\n",
       "       'previous', 'Duration'],\n",
       "      dtype='object')"
      ]
     },
     "execution_count": 33,
     "metadata": {},
     "output_type": "execute_result"
    }
   ],
   "source": [
    "numerics = ['float64', 'int64','int32']\n",
    "df_n = data.select_dtypes(include=numerics)\n",
    "df_n.columns"
   ]
  },
  {
   "cell_type": "markdown",
   "id": "0f2e772c",
   "metadata": {},
   "source": [
    "## age"
   ]
  },
  {
   "cell_type": "code",
   "execution_count": 34,
   "id": "dfef177e",
   "metadata": {},
   "outputs": [
    {
     "name": "stdout",
     "output_type": "stream",
     "text": [
      "count    45211.000000\n",
      "mean        40.935651\n",
      "std         10.616848\n",
      "min         18.000000\n",
      "25%         33.000000\n",
      "50%         39.000000\n",
      "75%         48.000000\n",
      "max         95.000000\n",
      "Name: age, dtype: float64\n",
      "*-------------------------------------*\n"
     ]
    },
    {
     "data": {
      "text/plain": [
       "<AxesSubplot:xlabel='age', ylabel='Density'>"
      ]
     },
     "execution_count": 34,
     "metadata": {},
     "output_type": "execute_result"
    },
    {
     "data": {
      "image/png": "[encoded data removed]",
      "text/plain": [
       "<Figure size 432x288 with 1 Axes>"
      ]
     },
     "metadata": {
      "needs_background": "light"
     },
     "output_type": "display_data"
    }
   ],
   "source": [
    "print(data[\"age\"].describe())\n",
    "print(\"*-------------------------------------*\")\n",
    "sns.kdeplot(x= \"age\", data = data)"
   ]
  },
  {
   "cell_type": "markdown",
   "id": "b7b94064",
   "metadata": {},
   "source": [
    "## salary "
   ]
  },
  {
   "cell_type": "code",
   "execution_count": 35,
   "id": "b0d1de40",
   "metadata": {},
   "outputs": [
    {
     "name": "stdout",
     "output_type": "stream",
     "text": [
      "count     45211.000000\n",
      "mean      57084.453698\n",
      "std       32016.099611\n",
      "min           0.000000\n",
      "25%       20000.000000\n",
      "50%       60000.000000\n",
      "75%       70000.000000\n",
      "max      120000.000000\n",
      "Name: salary, dtype: float64\n",
      "*-------------------------------------*\n"
     ]
    },
    {
     "data": {
      "text/plain": [
       "<AxesSubplot:xlabel='salary'>"
      ]
     },
     "execution_count": 35,
     "metadata": {},
     "output_type": "execute_result"
    },
    {
     "data": {
      "image/png": "[encoded data removed]",
      "text/plain": [
       "<Figure size 432x288 with 1 Axes>"
      ]
     },
     "metadata": {
      "needs_background": "light"
     },
     "output_type": "display_data"
    }
   ],
   "source": [
    "print(data[\"salary\"].describe())\n",
    "print(\"*-------------------------------------*\")\n",
    "sns.boxplot(x= \"salary\", data = data)"
   ]
  },
  {
   "cell_type": "markdown",
   "id": "67efd8d3",
   "metadata": {},
   "source": [
    "## balance"
   ]
  },
  {
   "cell_type": "code",
   "execution_count": 36,
   "id": "efe4a44c",
   "metadata": {},
   "outputs": [
    {
     "name": "stdout",
     "output_type": "stream",
     "text": [
      "count     45211.000000\n",
      "mean       1362.272058\n",
      "std        3044.765829\n",
      "min       -8019.000000\n",
      "25%          72.000000\n",
      "50%         448.000000\n",
      "75%        1428.000000\n",
      "max      102127.000000\n",
      "Name: balance, dtype: float64\n",
      "*-------------------------------------*\n"
     ]
    },
    {
     "data": {
      "text/plain": [
       "<AxesSubplot:xlabel='balance', ylabel='Density'>"
      ]
     },
     "execution_count": 36,
     "metadata": {},
     "output_type": "execute_result"
    },
    {
     "data": {
      "image/png": "[encoded data removed]",
      "text/plain": [
       "<Figure size 432x288 with 1 Axes>"
      ]
     },
     "metadata": {
      "needs_background": "light"
     },
     "output_type": "display_data"
    }
   ],
   "source": [
    "print(data[\"balance\"].describe())\n",
    "print(\"*-------------------------------------*\")\n",
    "sns.kdeplot(x= \"balance\", data = data)"
   ]
  },
  {
   "cell_type": "markdown",
   "id": "5cba8026",
   "metadata": {},
   "source": [
    "## day"
   ]
  },
  {
   "cell_type": "code",
   "execution_count": 37,
   "id": "f66f356d",
   "metadata": {},
   "outputs": [
    {
     "name": "stdout",
     "output_type": "stream",
     "text": [
      "count    45211.000000\n",
      "mean        15.806419\n",
      "std          8.322476\n",
      "min          1.000000\n",
      "25%          8.000000\n",
      "50%         16.000000\n",
      "75%         21.000000\n",
      "max         31.000000\n",
      "Name: day, dtype: float64\n",
      "*-------------------------------------*\n"
     ]
    },
    {
     "data": {
      "text/plain": [
       "<AxesSubplot:xlabel='day'>"
      ]
     },
     "execution_count": 37,
     "metadata": {},
     "output_type": "execute_result"
    },
    {
     "data": {
      "image/png": "[encoded data removed]",
      "text/plain": [
       "<Figure size 432x288 with 1 Axes>"
      ]
     },
     "metadata": {
      "needs_background": "light"
     },
     "output_type": "display_data"
    }
   ],
   "source": [
    "print(data[\"day\"].describe())\n",
    "print(\"*-------------------------------------*\")\n",
    "sns.boxplot(x= \"day\", data = data)"
   ]
  },
  {
   "cell_type": "markdown",
   "id": "ae21e8f3",
   "metadata": {},
   "source": [
    "## campaign"
   ]
  },
  {
   "cell_type": "code",
   "execution_count": 38,
   "id": "917a4519",
   "metadata": {},
   "outputs": [
    {
     "name": "stdout",
     "output_type": "stream",
     "text": [
      "count    45211.000000\n",
      "mean         2.763841\n",
      "std          3.098021\n",
      "min          1.000000\n",
      "25%          1.000000\n",
      "50%          2.000000\n",
      "75%          3.000000\n",
      "max         63.000000\n",
      "Name: campaign, dtype: float64\n",
      "*-------------------------------------*\n"
     ]
    },
    {
     "data": {
      "text/plain": [
       "<AxesSubplot:xlabel='campaign'>"
      ]
     },
     "execution_count": 38,
     "metadata": {},
     "output_type": "execute_result"
    },
    {
     "data": {
      "image/png": "[encoded data removed]",
      "text/plain": [
       "<Figure size 432x288 with 1 Axes>"
      ]
     },
     "metadata": {
      "needs_background": "light"
     },
     "output_type": "display_data"
    }
   ],
   "source": [
    "print(data[\"campaign\"].describe())\n",
    "print(\"*-------------------------------------*\")\n",
    "sns.boxplot(x= \"campaign\", data = data)"
   ]
  },
  {
   "cell_type": "markdown",
   "id": "2b810eea",
   "metadata": {},
   "source": [
    "## pdays"
   ]
  },
  {
   "cell_type": "code",
   "execution_count": 39,
   "id": "6f202086",
   "metadata": {},
   "outputs": [
    {
     "name": "stdout",
     "output_type": "stream",
     "text": [
      "count    45211.000000\n",
      "mean        40.197828\n",
      "std        100.128746\n",
      "min         -1.000000\n",
      "25%         -1.000000\n",
      "50%         -1.000000\n",
      "75%         -1.000000\n",
      "max        871.000000\n",
      "Name: pdays, dtype: float64\n",
      "*-------------------------------------*\n"
     ]
    },
    {
     "data": {
      "text/plain": [
       "<AxesSubplot:xlabel='pdays', ylabel='Density'>"
      ]
     },
     "execution_count": 39,
     "metadata": {},
     "output_type": "execute_result"
    },
    {
     "data": {
      "image/png": "[encoded data removed]",
      "text/plain": [
       "<Figure size 432x288 with 1 Axes>"
      ]
     },
     "metadata": {
      "needs_background": "light"
     },
     "output_type": "display_data"
    }
   ],
   "source": [
    "print(data[\"pdays\"].describe())\n",
    "print(\"*-------------------------------------*\")\n",
    "sns.kdeplot(x= \"pdays\", data = data)"
   ]
  },
  {
   "cell_type": "markdown",
   "id": "36591f85",
   "metadata": {},
   "source": [
    "## previous"
   ]
  },
  {
   "cell_type": "code",
   "execution_count": 40,
   "id": "6e0452c0",
   "metadata": {},
   "outputs": [
    {
     "name": "stdout",
     "output_type": "stream",
     "text": [
      "count    45211.000000\n",
      "mean         0.580323\n",
      "std          2.303441\n",
      "min          0.000000\n",
      "25%          0.000000\n",
      "50%          0.000000\n",
      "75%          0.000000\n",
      "max        275.000000\n",
      "Name: previous, dtype: float64\n",
      "*-------------------------------------*\n"
     ]
    },
    {
     "data": {
      "text/plain": [
       "<AxesSubplot:xlabel='previous', ylabel='Density'>"
      ]
     },
     "execution_count": 40,
     "metadata": {},
     "output_type": "execute_result"
    },
    {
     "data": {
      "image/png": "[encoded data removed]",
      "text/plain": [
       "<Figure size 432x288 with 1 Axes>"
      ]
     },
     "metadata": {
      "needs_background": "light"
     },
     "output_type": "display_data"
    }
   ],
   "source": [
    "print(data[\"previous\"].describe())\n",
    "print(\"*-------------------------------------*\")\n",
    "sns.kdeplot(x= \"previous\", data = data)"
   ]
  },
  {
   "cell_type": "markdown",
   "id": "4ca94fcc",
   "metadata": {},
   "source": [
    "## Duration"
   ]
  },
  {
   "cell_type": "code",
   "execution_count": 41,
   "id": "400419ae",
   "metadata": {},
   "outputs": [
    {
     "name": "stdout",
     "output_type": "stream",
     "text": [
      "count    45211.000000\n",
      "mean         4.801884\n",
      "std          4.293688\n",
      "min          0.000000\n",
      "25%          2.000000\n",
      "50%          3.000000\n",
      "75%          6.000000\n",
      "max         82.000000\n",
      "Name: Duration, dtype: float64\n",
      "*-------------------------------------*\n"
     ]
    },
    {
     "data": {
      "text/plain": [
       "<AxesSubplot:xlabel='Duration', ylabel='Density'>"
      ]
     },
     "execution_count": 41,
     "metadata": {},
     "output_type": "execute_result"
    },
    {
     "data": {
      "image/png": "[encoded data removed]",
      "text/plain": [
       "<Figure size 432x288 with 1 Axes>"
      ]
     },
     "metadata": {
      "needs_background": "light"
     },
     "output_type": "display_data"
    }
   ],
   "source": [
    "print(data[\"Duration\"].describe())\n",
    "print(\"*-------------------------------------*\")\n",
    "sns.kdeplot(x= \"Duration\", data = data)"
   ]
  },
  {
   "cell_type": "markdown",
   "id": "19ce01d3",
   "metadata": {},
   "source": [
    "### Bi variate Analysis and mulivariate:\n",
    "- Numerical and Categorical variable\n",
    "    - barplot\n",
    "    - boxplot\n",
    "    - violinplot\n",
    "    - stirplot\n",
    "    - stripplot\n",
    "    - scatterplot"
   ]
  },
  {
   "cell_type": "code",
   "execution_count": 42,
   "id": "6764b7d1",
   "metadata": {},
   "outputs": [
    {
     "name": "stdout",
     "output_type": "stream",
     "text": [
      "Index(['customerid', 'age', 'salary', 'balance', 'day', 'campaign', 'pdays',\n",
      "       'previous', 'Duration'],\n",
      "      dtype='object')\n"
     ]
    },
    {
     "data": {
      "text/plain": [
       "Index(['marital', 'targeted', 'default', 'housing', 'loan', 'contact',\n",
       "       'poutcome', 'response', 'job', 'education', 'months', 'year'],\n",
       "      dtype='object')"
      ]
     },
     "execution_count": 42,
     "metadata": {},
     "output_type": "execute_result"
    }
   ],
   "source": [
    "print(df_n.columns)\n",
    "df_o.columns"
   ]
  },
  {
   "cell_type": "markdown",
   "id": "a4d4732e",
   "metadata": {},
   "source": [
    "#### age vs  marital\n",
    "#### salary vs marital\n",
    "#### balance vs marital\n",
    "#### Duration vs marital"
   ]
  },
  {
   "cell_type": "code",
   "execution_count": 43,
   "id": "f65c1880",
   "metadata": {},
   "outputs": [
    {
     "data": {
      "text/plain": [
       "<AxesSubplot:xlabel='marital', ylabel='Duration'>"
      ]
     },
     "execution_count": 43,
     "metadata": {},
     "output_type": "execute_result"
    },
    {
     "data": {
      "image/png": "[encoded data removed]",
      "text/plain": [
       "<Figure size 1080x720 with 4 Axes>"
      ]
     },
     "metadata": {
      "needs_background": "light"
     },
     "output_type": "display_data"
    }
   ],
   "source": [
    "fig, axs = plt.subplots(figsize=(15, 10),nrows=2,ncols=2)\n",
    "sns.barplot(x=data['marital'],y=data[\"age\"], ax=axs[0][0])\n",
    "sns.boxplot(x=data['marital'],y=data[\"salary\"], ax=axs[0][1])\n",
    "sns.barplot(x=data['marital'],y=data[\"balance\"], ax=axs[1][0])\n",
    "sns.barplot(x=data['marital'],y=data[\"Duration\"], ax=axs[1][1])"
   ]
  },
  {
   "cell_type": "code",
   "execution_count": 44,
   "id": "4d6eaa58",
   "metadata": {},
   "outputs": [
    {
     "data": {
      "text/plain": [
       "<AxesSubplot:xlabel='marital', ylabel='previous'>"
      ]
     },
     "execution_count": 44,
     "metadata": {},
     "output_type": "execute_result"
    },
    {
     "data": {
      "image/png": "[encoded data removed]",
      "text/plain": [
       "<Figure size 432x288 with 1 Axes>"
      ]
     },
     "metadata": {
      "needs_background": "light"
     },
     "output_type": "display_data"
    }
   ],
   "source": [
    "sns.barplot(x=data['marital'],y=data[\"previous\"])"
   ]
  },
  {
   "cell_type": "markdown",
   "id": "2d718f80",
   "metadata": {
    "scrolled": true
   },
   "source": [
    "campaign  vs housing\n",
    "\n",
    "salary vs housing\n",
    "\n",
    "balance vs housing\n",
    "\n",
    "previous vs housing"
   ]
  },
  {
   "cell_type": "code",
   "execution_count": 45,
   "id": "dccca629",
   "metadata": {},
   "outputs": [
    {
     "data": {
      "text/plain": [
       "<AxesSubplot:xlabel='housing', ylabel='Duration'>"
      ]
     },
     "execution_count": 45,
     "metadata": {},
     "output_type": "execute_result"
    },
    {
     "data": {
      "image/png": "[encoded data removed]",
      "text/plain": [
       "<Figure size 1080x720 with 4 Axes>"
      ]
     },
     "metadata": {
      "needs_background": "light"
     },
     "output_type": "display_data"
    }
   ],
   "source": [
    "fig, axs = plt.subplots(figsize=(15, 10),nrows=2,ncols=2)\n",
    "sns.barplot(x=data['housing'],y=data[\"campaign\"], ax=axs[0][0])\n",
    "sns.boxplot(x=data['housing'],y=data[\"salary\"], ax=axs[0][1])\n",
    "sns.barplot(x=data['housing'],y=data[\"balance\"], ax=axs[1][0])\n",
    "sns.barplot(x=data['housing'],y=data[\"Duration\"], ax=axs[1][1])"
   ]
  },
  {
   "cell_type": "code",
   "execution_count": 46,
   "id": "395a8a1b",
   "metadata": {},
   "outputs": [
    {
     "data": {
      "text/plain": [
       "<AxesSubplot:xlabel='housing', ylabel='previous'>"
      ]
     },
     "execution_count": 46,
     "metadata": {},
     "output_type": "execute_result"
    },
    {
     "data": {
      "image/png": "[encoded data removed]",
      "text/plain": [
       "<Figure size 432x288 with 1 Axes>"
      ]
     },
     "metadata": {
      "needs_background": "light"
     },
     "output_type": "display_data"
    }
   ],
   "source": [
    "sns.barplot(x=data['housing'],y=data[\"previous\"])"
   ]
  },
  {
   "cell_type": "markdown",
   "id": "9801ac4f",
   "metadata": {},
   "source": [
    "salary vs targeted\n",
    "\n",
    "balance vs targeted\n",
    "\n",
    "campaign vs  targeted\n",
    "\n",
    "previous vs  targeted\n",
    "\n",
    "Duration vs  targeted"
   ]
  },
  {
   "cell_type": "code",
   "execution_count": 47,
   "id": "ee631f15",
   "metadata": {},
   "outputs": [
    {
     "data": {
      "text/plain": [
       "<AxesSubplot:xlabel='targeted', ylabel='Duration'>"
      ]
     },
     "execution_count": 47,
     "metadata": {},
     "output_type": "execute_result"
    },
    {
     "data": {
      "image/png": "[encoded data removed]",
      "text/plain": [
       "<Figure size 1080x720 with 4 Axes>"
      ]
     },
     "metadata": {
      "needs_background": "light"
     },
     "output_type": "display_data"
    }
   ],
   "source": [
    "fig, axs = plt.subplots(figsize=(15, 10),nrows=2,ncols=2)\n",
    "sns.barplot(x=data['targeted'],y=data[\"campaign\"], ax=axs[0][0])\n",
    "sns.boxplot(x=data['targeted'],y=data[\"salary\"], ax=axs[0][1])\n",
    "sns.barplot(x=data['targeted'],y=data[\"balance\"], ax=axs[1][0])\n",
    "sns.barplot(x=data['targeted'],y=data[\"Duration\"], ax=axs[1][1])"
   ]
  },
  {
   "cell_type": "code",
   "execution_count": 48,
   "id": "f782b272",
   "metadata": {},
   "outputs": [
    {
     "data": {
      "text/plain": [
       "<AxesSubplot:xlabel='targeted', ylabel='previous'>"
      ]
     },
     "execution_count": 48,
     "metadata": {},
     "output_type": "execute_result"
    },
    {
     "data": {
      "image/png": "[encoded data removed]",
      "text/plain": [
       "<Figure size 432x288 with 1 Axes>"
      ]
     },
     "metadata": {
      "needs_background": "light"
     },
     "output_type": "display_data"
    }
   ],
   "source": [
    "sns.barplot(x=data['targeted'],y=data[\"previous\"])"
   ]
  },
  {
   "cell_type": "markdown",
   "id": "391551ed",
   "metadata": {},
   "source": [
    "age vs  loan\n",
    "\n",
    "salary vs loan\n",
    "\n",
    "balance vs loan\n",
    "\n",
    "campaign vs  loan\n",
    "\n",
    "previous vs  loan\n",
    "\n",
    "Duraytion vs  loan"
   ]
  },
  {
   "cell_type": "code",
   "execution_count": 49,
   "id": "b8a63b39",
   "metadata": {},
   "outputs": [
    {
     "data": {
      "text/plain": [
       "<AxesSubplot:xlabel='loan', ylabel='Duration'>"
      ]
     },
     "execution_count": 49,
     "metadata": {},
     "output_type": "execute_result"
    },
    {
     "data": {
      "image/png": "[encoded data removed]",
      "text/plain": [
       "<Figure size 1080x720 with 6 Axes>"
      ]
     },
     "metadata": {
      "needs_background": "light"
     },
     "output_type": "display_data"
    }
   ],
   "source": [
    "fig, axs = plt.subplots(figsize=(15, 10),nrows=3,ncols=2)\n",
    "sns.barplot(x=data['loan'],y=data[\"campaign\"], ax=axs[0][0])\n",
    "sns.boxplot(x=data['loan'],y=data[\"salary\"], ax=axs[0][1])\n",
    "sns.barplot(x=data['loan'],y=data[\"balance\"], ax=axs[1][0])\n",
    "sns.barplot(x=data['loan'],y=data[\"campaign\"], ax=axs[1][1])\n",
    "sns.barplot(x=data['loan'],y=data[\"previous\"], ax=axs[2][0])\n",
    "sns.barplot(x=data['loan'],y=data[\"Duration\"], ax=axs[2][1])"
   ]
  },
  {
   "cell_type": "markdown",
   "id": "7ec7de01",
   "metadata": {},
   "source": [
    "age vs  response\n",
    "\n",
    "salary vs response\n",
    "\n",
    "balance vs response\n",
    "\n",
    "campaign vs  response\n",
    "\n",
    "previous vs  response\n",
    "\n",
    "Duration vs  response"
   ]
  },
  {
   "cell_type": "code",
   "execution_count": 50,
   "id": "d36152cf",
   "metadata": {},
   "outputs": [
    {
     "data": {
      "text/plain": [
       "<AxesSubplot:xlabel='response', ylabel='Duration'>"
      ]
     },
     "execution_count": 50,
     "metadata": {},
     "output_type": "execute_result"
    },
    {
     "data": {
      "image/png": "[encoded data removed]",
      "text/plain": [
       "<Figure size 1080x720 with 6 Axes>"
      ]
     },
     "metadata": {
      "needs_background": "light"
     },
     "output_type": "display_data"
    }
   ],
   "source": [
    "fig, axs = plt.subplots(figsize=(15, 10),nrows=3,ncols=2)\n",
    "sns.barplot(x=data['response'],y=data[\"age\"], ax=axs[0][0])\n",
    "sns.boxplot(x=data['response'],y=data[\"salary\"], ax=axs[0][1])\n",
    "sns.barplot(x=data['response'],y=data[\"balance\"], ax=axs[1][0])\n",
    "sns.barplot(x=data['response'],y=data[\"campaign\"], ax=axs[1][1])\n",
    "sns.barplot(x=data['response'],y=data[\"previous\"], ax=axs[2][0])\n",
    "sns.barplot(x=data['response'],y=data[\"Duration\"], ax=axs[2][1])"
   ]
  },
  {
   "cell_type": "markdown",
   "id": "88415eae",
   "metadata": {},
   "source": [
    "age vs job\n",
    "\n",
    "salary vs job\n",
    "\n",
    "balance vs job\n",
    "\n",
    "campaign vs job\n",
    "\n",
    "previous vs job\n",
    "\n",
    "Duration vs job"
   ]
  },
  {
   "cell_type": "code",
   "execution_count": 51,
   "id": "18bc446f",
   "metadata": {},
   "outputs": [
    {
     "data": {
      "image/png": "[encoded data removed]",
      "text/plain": [
       "<Figure size 1080x720 with 6 Axes>"
      ]
     },
     "metadata": {
      "needs_background": "light"
     },
     "output_type": "display_data"
    }
   ],
   "source": [
    "fig, axs = plt.subplots(figsize=(15, 10),nrows=3,ncols=2)\n",
    "sns.barplot(x=data['job'],y=data[\"age\"], ax=axs[0][0])\n",
    "sns.barplot(x=data['job'],y=data[\"salary\"], ax=axs[0][1])\n",
    "sns.barplot(x=data['job'],y=data[\"balance\"], ax=axs[1][0])\n",
    "sns.barplot(x=data['job'],y=data[\"campaign\"], ax=axs[1][1])\n",
    "sns.barplot(x=data['job'],y=data[\"previous\"], ax=axs[2][0])\n",
    "sns.barplot(x=data['job'],y=data[\"Duration\"], ax=axs[2][1])\n",
    "plt.xticks(rotation = 90)\n",
    "plt.show()"
   ]
  },
  {
   "cell_type": "markdown",
   "id": "0f810e4b",
   "metadata": {},
   "source": [
    "age vs education\n",
    "\n",
    "salary vs education\n",
    "\n",
    "balance vs education\n",
    "\n",
    "campaign vs education\n",
    "\n",
    "previous vs education\n",
    "\n",
    "Duration vs education"
   ]
  },
  {
   "cell_type": "code",
   "execution_count": 52,
   "id": "e34725a0",
   "metadata": {},
   "outputs": [
    {
     "data": {
      "text/plain": [
       "<AxesSubplot:xlabel='education', ylabel='Duration'>"
      ]
     },
     "execution_count": 52,
     "metadata": {},
     "output_type": "execute_result"
    },
    {
     "data": {
      "image/png": "[encoded data removed]",
      "text/plain": [
       "<Figure size 1080x720 with 6 Axes>"
      ]
     },
     "metadata": {
      "needs_background": "light"
     },
     "output_type": "display_data"
    }
   ],
   "source": [
    "fig, axs = plt.subplots(figsize=(15, 10),nrows=3,ncols=2)\n",
    "sns.barplot(x=data['education'],y=data[\"age\"], ax=axs[0][0])\n",
    "sns.boxplot(x=data['education'],y=data[\"salary\"], ax=axs[0][1])\n",
    "sns.barplot(x=data['education'],y=data[\"balance\"], ax=axs[1][0])\n",
    "sns.barplot(x=data['education'],y=data[\"campaign\"], ax=axs[1][1])\n",
    "sns.barplot(x=data['education'],y=data[\"previous\"], ax=axs[2][0])\n",
    "sns.barplot(x=data['education'],y=data[\"Duration\"], ax=axs[2][1])"
   ]
  },
  {
   "cell_type": "markdown",
   "id": "c3918e85",
   "metadata": {},
   "source": [
    "## OUTLIER TREATMENT"
   ]
  },
  {
   "cell_type": "code",
   "execution_count": 53,
   "id": "de461d57",
   "metadata": {},
   "outputs": [
    {
     "data": {
      "text/html": [
       "<div>\n",
       "<style scoped>\n",
       "    .dataframe tbody tr th:only-of-type {\n",
       "        vertical-align: middle;\n",
       "    }\n",
       "\n",
       "    .dataframe tbody tr th {\n",
       "        vertical-align: top;\n",
       "    }\n",
       "\n",
       "    .dataframe thead th {\n",
       "        text-align: right;\n",
       "    }\n",
       "</style>\n",
       "<table border=\"1\" class=\"dataframe\">\n",
       "  <thead>\n",
       "    <tr style=\"text-align: right;\">\n",
       "      <th></th>\n",
       "      <th>customerid</th>\n",
       "      <th>age</th>\n",
       "      <th>salary</th>\n",
       "      <th>balance</th>\n",
       "      <th>day</th>\n",
       "      <th>campaign</th>\n",
       "      <th>pdays</th>\n",
       "      <th>previous</th>\n",
       "      <th>Duration</th>\n",
       "    </tr>\n",
       "  </thead>\n",
       "  <tbody>\n",
       "    <tr>\n",
       "      <th>0</th>\n",
       "      <td>1</td>\n",
       "      <td>58.0</td>\n",
       "      <td>100000.0</td>\n",
       "      <td>2143</td>\n",
       "      <td>5</td>\n",
       "      <td>1</td>\n",
       "      <td>-1</td>\n",
       "      <td>0</td>\n",
       "      <td>5</td>\n",
       "    </tr>\n",
       "    <tr>\n",
       "      <th>1</th>\n",
       "      <td>2</td>\n",
       "      <td>44.0</td>\n",
       "      <td>60000.0</td>\n",
       "      <td>29</td>\n",
       "      <td>5</td>\n",
       "      <td>1</td>\n",
       "      <td>-1</td>\n",
       "      <td>0</td>\n",
       "      <td>3</td>\n",
       "    </tr>\n",
       "    <tr>\n",
       "      <th>2</th>\n",
       "      <td>3</td>\n",
       "      <td>33.0</td>\n",
       "      <td>120000.0</td>\n",
       "      <td>2</td>\n",
       "      <td>5</td>\n",
       "      <td>1</td>\n",
       "      <td>-1</td>\n",
       "      <td>0</td>\n",
       "      <td>2</td>\n",
       "    </tr>\n",
       "    <tr>\n",
       "      <th>3</th>\n",
       "      <td>4</td>\n",
       "      <td>47.0</td>\n",
       "      <td>20000.0</td>\n",
       "      <td>1506</td>\n",
       "      <td>5</td>\n",
       "      <td>1</td>\n",
       "      <td>-1</td>\n",
       "      <td>0</td>\n",
       "      <td>2</td>\n",
       "    </tr>\n",
       "    <tr>\n",
       "      <th>4</th>\n",
       "      <td>5</td>\n",
       "      <td>33.0</td>\n",
       "      <td>0.0</td>\n",
       "      <td>1</td>\n",
       "      <td>5</td>\n",
       "      <td>1</td>\n",
       "      <td>-1</td>\n",
       "      <td>0</td>\n",
       "      <td>4</td>\n",
       "    </tr>\n",
       "    <tr>\n",
       "      <th>...</th>\n",
       "      <td>...</td>\n",
       "      <td>...</td>\n",
       "      <td>...</td>\n",
       "      <td>...</td>\n",
       "      <td>...</td>\n",
       "      <td>...</td>\n",
       "      <td>...</td>\n",
       "      <td>...</td>\n",
       "      <td>...</td>\n",
       "    </tr>\n",
       "    <tr>\n",
       "      <th>45206</th>\n",
       "      <td>45207</td>\n",
       "      <td>51.0</td>\n",
       "      <td>60000.0</td>\n",
       "      <td>825</td>\n",
       "      <td>17</td>\n",
       "      <td>3</td>\n",
       "      <td>-1</td>\n",
       "      <td>0</td>\n",
       "      <td>17</td>\n",
       "    </tr>\n",
       "    <tr>\n",
       "      <th>45207</th>\n",
       "      <td>45208</td>\n",
       "      <td>71.0</td>\n",
       "      <td>55000.0</td>\n",
       "      <td>1729</td>\n",
       "      <td>17</td>\n",
       "      <td>2</td>\n",
       "      <td>-1</td>\n",
       "      <td>0</td>\n",
       "      <td>8</td>\n",
       "    </tr>\n",
       "    <tr>\n",
       "      <th>45208</th>\n",
       "      <td>45209</td>\n",
       "      <td>72.0</td>\n",
       "      <td>55000.0</td>\n",
       "      <td>5715</td>\n",
       "      <td>17</td>\n",
       "      <td>5</td>\n",
       "      <td>184</td>\n",
       "      <td>3</td>\n",
       "      <td>19</td>\n",
       "    </tr>\n",
       "    <tr>\n",
       "      <th>45209</th>\n",
       "      <td>45210</td>\n",
       "      <td>57.0</td>\n",
       "      <td>20000.0</td>\n",
       "      <td>668</td>\n",
       "      <td>17</td>\n",
       "      <td>4</td>\n",
       "      <td>-1</td>\n",
       "      <td>0</td>\n",
       "      <td>9</td>\n",
       "    </tr>\n",
       "    <tr>\n",
       "      <th>45210</th>\n",
       "      <td>45211</td>\n",
       "      <td>37.0</td>\n",
       "      <td>120000.0</td>\n",
       "      <td>2971</td>\n",
       "      <td>17</td>\n",
       "      <td>2</td>\n",
       "      <td>188</td>\n",
       "      <td>11</td>\n",
       "      <td>7</td>\n",
       "    </tr>\n",
       "  </tbody>\n",
       "</table>\n",
       "<p>45211 rows × 9 columns</p>\n",
       "</div>"
      ],
      "text/plain": [
       "       customerid   age    salary  balance  day  campaign  pdays  previous  \\\n",
       "0               1  58.0  100000.0     2143    5         1     -1         0   \n",
       "1               2  44.0   60000.0       29    5         1     -1         0   \n",
       "2               3  33.0  120000.0        2    5         1     -1         0   \n",
       "3               4  47.0   20000.0     1506    5         1     -1         0   \n",
       "4               5  33.0       0.0        1    5         1     -1         0   \n",
       "...           ...   ...       ...      ...  ...       ...    ...       ...   \n",
       "45206       45207  51.0   60000.0      825   17         3     -1         0   \n",
       "45207       45208  71.0   55000.0     1729   17         2     -1         0   \n",
       "45208       45209  72.0   55000.0     5715   17         5    184         3   \n",
       "45209       45210  57.0   20000.0      668   17         4     -1         0   \n",
       "45210       45211  37.0  120000.0     2971   17         2    188        11   \n",
       "\n",
       "       Duration  \n",
       "0             5  \n",
       "1             3  \n",
       "2             2  \n",
       "3             2  \n",
       "4             4  \n",
       "...         ...  \n",
       "45206        17  \n",
       "45207         8  \n",
       "45208        19  \n",
       "45209         9  \n",
       "45210         7  \n",
       "\n",
       "[45211 rows x 9 columns]"
      ]
     },
     "execution_count": 53,
     "metadata": {},
     "output_type": "execute_result"
    }
   ],
   "source": [
    "numerics = ['float64', 'int64','int32']\n",
    "df = data.select_dtypes(include=numerics)\n",
    "df"
   ]
  },
  {
   "cell_type": "code",
   "execution_count": 54,
   "id": "7f0ae22f",
   "metadata": {},
   "outputs": [
    {
     "name": "stdout",
     "output_type": "stream",
     "text": [
      "customerid :-no\n",
      "*--------------*\n",
      "age :-yes\n",
      "*--------------*\n",
      "salary :-no\n",
      "*--------------*\n",
      "balance :-yes\n",
      "*--------------*\n",
      "day :-no\n",
      "*--------------*\n",
      "campaign :-yes\n",
      "*--------------*\n",
      "pdays :-yes\n",
      "*--------------*\n",
      "previous :-yes\n",
      "*--------------*\n",
      "Duration :-yes\n",
      "*--------------*\n"
     ]
    }
   ],
   "source": [
    "for feature in df:\n",
    "    \n",
    "    Q1 = data[feature].quantile(0.25)\n",
    "    Q3 = data[feature].quantile(0.75)\n",
    "    IQR = Q3-Q1\n",
    "    lower = Q1- 1.5*IQR\n",
    "    upper = Q3 + 1.5*IQR\n",
    "    \n",
    "    if data[(data[feature] > upper)].any(axis=None):\n",
    "        print(feature,\":-yes\")\n",
    "        print(\"*--------------*\")\n",
    "    else:\n",
    "        print(feature, \":-no\")\n",
    "        print(\"*--------------*\")"
   ]
  },
  {
   "cell_type": "code",
   "execution_count": 55,
   "id": "71d5710d",
   "metadata": {},
   "outputs": [
    {
     "data": {
      "text/plain": [
       "<AxesSubplot:xlabel='Duration'>"
      ]
     },
     "execution_count": 55,
     "metadata": {},
     "output_type": "execute_result"
    },
    {
     "data": {
      "image/png": "[encoded data removed]",
      "text/plain": [
       "<Figure size 720x1224 with 8 Axes>"
      ]
     },
     "metadata": {
      "needs_background": "light"
     },
     "output_type": "display_data"
    }
   ],
   "source": [
    "fig, axs = plt.subplots(figsize=(10, 17),nrows=4,ncols=2)\n",
    "sns.boxplot(x=data[\"customerid\"], ax=axs[0][0])\n",
    "sns.boxplot(x=data[\"age\"], ax=axs[0][1])\n",
    "sns.boxplot(x=data[\"salary\"], ax=axs[1][0])\n",
    "sns.boxplot(x=data[\"balance\"], ax=axs[1][1])\n",
    "sns.boxplot(x=data[\"day\"], ax=axs[2][0])\n",
    "sns.boxplot(x=data[\"campaign\"], ax=axs[2][1])\n",
    "sns.boxplot(x=data[\"previous\"], ax=axs[3][0])\n",
    "sns.boxplot(x=data[\"Duration\"], ax=axs[3][1])"
   ]
  },
  {
   "cell_type": "code",
   "execution_count": 56,
   "id": "04b9ae5e",
   "metadata": {},
   "outputs": [
    {
     "data": {
      "text/html": [
       "<style type=\"text/css\">\n",
       "#T_d35a8_row0_col0, #T_d35a8_row1_col1, #T_d35a8_row2_col2, #T_d35a8_row3_col3, #T_d35a8_row4_col4, #T_d35a8_row5_col5, #T_d35a8_row6_col6, #T_d35a8_row7_col7, #T_d35a8_row8_col8 {\n",
       "  background-color: #b40426;\n",
       "  color: #f1f1f1;\n",
       "}\n",
       "#T_d35a8_row0_col1, #T_d35a8_row4_col0, #T_d35a8_row7_col4, #T_d35a8_row8_col3 {\n",
       "  background-color: #455cce;\n",
       "  color: #f1f1f1;\n",
       "}\n",
       "#T_d35a8_row0_col2, #T_d35a8_row8_col4 {\n",
       "  background-color: #4b64d5;\n",
       "  color: #f1f1f1;\n",
       "}\n",
       "#T_d35a8_row0_col3, #T_d35a8_row0_col8, #T_d35a8_row3_col4, #T_d35a8_row3_col6 {\n",
       "  background-color: #5572df;\n",
       "  color: #f1f1f1;\n",
       "}\n",
       "#T_d35a8_row0_col4, #T_d35a8_row5_col1, #T_d35a8_row5_col2, #T_d35a8_row7_col2, #T_d35a8_row7_col3 {\n",
       "  background-color: #4358cb;\n",
       "  color: #f1f1f1;\n",
       "}\n",
       "#T_d35a8_row0_col5, #T_d35a8_row4_col6, #T_d35a8_row4_col7, #T_d35a8_row5_col0, #T_d35a8_row5_col3, #T_d35a8_row5_col8, #T_d35a8_row6_col1, #T_d35a8_row6_col2, #T_d35a8_row6_col4 {\n",
       "  background-color: #3b4cc0;\n",
       "  color: #f1f1f1;\n",
       "}\n",
       "#T_d35a8_row0_col6 {\n",
       "  background-color: #d9dce1;\n",
       "  color: #000000;\n",
       "}\n",
       "#T_d35a8_row0_col7 {\n",
       "  background-color: #a1c0ff;\n",
       "  color: #000000;\n",
       "}\n",
       "#T_d35a8_row1_col0, #T_d35a8_row2_col5 {\n",
       "  background-color: #5b7ae5;\n",
       "  color: #f1f1f1;\n",
       "}\n",
       "#T_d35a8_row1_col2, #T_d35a8_row4_col2 {\n",
       "  background-color: #465ecf;\n",
       "  color: #f1f1f1;\n",
       "}\n",
       "#T_d35a8_row1_col3, #T_d35a8_row2_col4 {\n",
       "  background-color: #5d7ce6;\n",
       "  color: #f1f1f1;\n",
       "}\n",
       "#T_d35a8_row1_col4, #T_d35a8_row6_col8, #T_d35a8_row7_col8 {\n",
       "  background-color: #516ddb;\n",
       "  color: #f1f1f1;\n",
       "}\n",
       "#T_d35a8_row1_col5 {\n",
       "  background-color: #5977e3;\n",
       "  color: #f1f1f1;\n",
       "}\n",
       "#T_d35a8_row1_col6, #T_d35a8_row2_col7, #T_d35a8_row3_col7, #T_d35a8_row7_col5 {\n",
       "  background-color: #4e68d8;\n",
       "  color: #f1f1f1;\n",
       "}\n",
       "#T_d35a8_row1_col7, #T_d35a8_row2_col1, #T_d35a8_row4_col8, #T_d35a8_row8_col7 {\n",
       "  background-color: #4961d2;\n",
       "  color: #f1f1f1;\n",
       "}\n",
       "#T_d35a8_row1_col8, #T_d35a8_row2_col6, #T_d35a8_row3_col2 {\n",
       "  background-color: #506bda;\n",
       "  color: #f1f1f1;\n",
       "}\n",
       "#T_d35a8_row2_col0 {\n",
       "  background-color: #6384eb;\n",
       "  color: #f1f1f1;\n",
       "}\n",
       "#T_d35a8_row2_col3, #T_d35a8_row2_col8 {\n",
       "  background-color: #4f69d9;\n",
       "  color: #f1f1f1;\n",
       "}\n",
       "#T_d35a8_row3_col0 {\n",
       "  background-color: #6c8ff1;\n",
       "  color: #f1f1f1;\n",
       "}\n",
       "#T_d35a8_row3_col1 {\n",
       "  background-color: #5f7fe8;\n",
       "  color: #f1f1f1;\n",
       "}\n",
       "#T_d35a8_row3_col5 {\n",
       "  background-color: #536edd;\n",
       "  color: #f1f1f1;\n",
       "}\n",
       "#T_d35a8_row3_col8 {\n",
       "  background-color: #5875e1;\n",
       "  color: #f1f1f1;\n",
       "}\n",
       "#T_d35a8_row4_col1, #T_d35a8_row6_col5 {\n",
       "  background-color: #3e51c5;\n",
       "  color: #f1f1f1;\n",
       "}\n",
       "#T_d35a8_row4_col3, #T_d35a8_row5_col7, #T_d35a8_row6_col3, #T_d35a8_row8_col1, #T_d35a8_row8_col5 {\n",
       "  background-color: #3f53c6;\n",
       "  color: #f1f1f1;\n",
       "}\n",
       "#T_d35a8_row4_col5 {\n",
       "  background-color: #89acfd;\n",
       "  color: #000000;\n",
       "}\n",
       "#T_d35a8_row5_col4 {\n",
       "  background-color: #86a9fc;\n",
       "  color: #f1f1f1;\n",
       "}\n",
       "#T_d35a8_row5_col6, #T_d35a8_row8_col2 {\n",
       "  background-color: #3c4ec2;\n",
       "  color: #f1f1f1;\n",
       "}\n",
       "#T_d35a8_row6_col0 {\n",
       "  background-color: #dadce0;\n",
       "  color: #000000;\n",
       "}\n",
       "#T_d35a8_row6_col7 {\n",
       "  background-color: #d8dce2;\n",
       "  color: #000000;\n",
       "}\n",
       "#T_d35a8_row7_col0 {\n",
       "  background-color: #abc8fd;\n",
       "  color: #000000;\n",
       "}\n",
       "#T_d35a8_row7_col1 {\n",
       "  background-color: #4257c9;\n",
       "  color: #f1f1f1;\n",
       "}\n",
       "#T_d35a8_row7_col6 {\n",
       "  background-color: #dddcdc;\n",
       "  color: #000000;\n",
       "}\n",
       "#T_d35a8_row8_col0 {\n",
       "  background-color: #5a78e4;\n",
       "  color: #f1f1f1;\n",
       "}\n",
       "#T_d35a8_row8_col6 {\n",
       "  background-color: #5470de;\n",
       "  color: #f1f1f1;\n",
       "}\n",
       "</style>\n",
       "<table id=\"T_d35a8_\">\n",
       "  <thead>\n",
       "    <tr>\n",
       "      <th class=\"blank level0\" >&nbsp;</th>\n",
       "      <th class=\"col_heading level0 col0\" >customerid</th>\n",
       "      <th class=\"col_heading level0 col1\" >age</th>\n",
       "      <th class=\"col_heading level0 col2\" >salary</th>\n",
       "      <th class=\"col_heading level0 col3\" >balance</th>\n",
       "      <th class=\"col_heading level0 col4\" >day</th>\n",
       "      <th class=\"col_heading level0 col5\" >campaign</th>\n",
       "      <th class=\"col_heading level0 col6\" >pdays</th>\n",
       "      <th class=\"col_heading level0 col7\" >previous</th>\n",
       "      <th class=\"col_heading level0 col8\" >Duration</th>\n",
       "    </tr>\n",
       "  </thead>\n",
       "  <tbody>\n",
       "    <tr>\n",
       "      <th id=\"T_d35a8_level0_row0\" class=\"row_heading level0 row0\" >customerid</th>\n",
       "      <td id=\"T_d35a8_row0_col0\" class=\"data row0 col0\" >1.000000</td>\n",
       "      <td id=\"T_d35a8_row0_col1\" class=\"data row0 col1\" >0.014902</td>\n",
       "      <td id=\"T_d35a8_row0_col2\" class=\"data row0 col2\" >0.040000</td>\n",
       "      <td id=\"T_d35a8_row0_col3\" class=\"data row0 col3\" >0.073639</td>\n",
       "      <td id=\"T_d35a8_row0_col4\" class=\"data row0 col4\" >-0.061465</td>\n",
       "      <td id=\"T_d35a8_row0_col5\" class=\"data row0 col5\" >-0.102884</td>\n",
       "      <td id=\"T_d35a8_row0_col6\" class=\"data row0 col6\" >0.437729</td>\n",
       "      <td id=\"T_d35a8_row0_col7\" class=\"data row0 col7\" >0.271098</td>\n",
       "      <td id=\"T_d35a8_row0_col8\" class=\"data row0 col8\" >0.013089</td>\n",
       "    </tr>\n",
       "    <tr>\n",
       "      <th id=\"T_d35a8_level0_row1\" class=\"row_heading level0 row1\" >age</th>\n",
       "      <td id=\"T_d35a8_row1_col0\" class=\"data row1 col0\" >0.014902</td>\n",
       "      <td id=\"T_d35a8_row1_col1\" class=\"data row1 col1\" >1.000000</td>\n",
       "      <td id=\"T_d35a8_row1_col2\" class=\"data row1 col2\" >0.026233</td>\n",
       "      <td id=\"T_d35a8_row1_col3\" class=\"data row1 col3\" >0.097744</td>\n",
       "      <td id=\"T_d35a8_row1_col4\" class=\"data row1 col4\" >-0.009182</td>\n",
       "      <td id=\"T_d35a8_row1_col5\" class=\"data row1 col5\" >0.004851</td>\n",
       "      <td id=\"T_d35a8_row1_col6\" class=\"data row1 col6\" >-0.023765</td>\n",
       "      <td id=\"T_d35a8_row1_col7\" class=\"data row1 col7\" >0.001329</td>\n",
       "      <td id=\"T_d35a8_row1_col8\" class=\"data row1 col8\" >-0.004845</td>\n",
       "    </tr>\n",
       "    <tr>\n",
       "      <th id=\"T_d35a8_level0_row2\" class=\"row_heading level0 row2\" >salary</th>\n",
       "      <td id=\"T_d35a8_row2_col0\" class=\"data row2 col0\" >0.040000</td>\n",
       "      <td id=\"T_d35a8_row2_col1\" class=\"data row2 col1\" >0.026233</td>\n",
       "      <td id=\"T_d35a8_row2_col2\" class=\"data row2 col2\" >1.000000</td>\n",
       "      <td id=\"T_d35a8_row2_col3\" class=\"data row2 col3\" >0.056322</td>\n",
       "      <td id=\"T_d35a8_row2_col4\" class=\"data row2 col4\" >0.027688</td>\n",
       "      <td id=\"T_d35a8_row2_col5\" class=\"data row2 col5\" >0.015300</td>\n",
       "      <td id=\"T_d35a8_row2_col6\" class=\"data row2 col6\" >-0.015560</td>\n",
       "      <td id=\"T_d35a8_row2_col7\" class=\"data row2 col7\" >0.014186</td>\n",
       "      <td id=\"T_d35a8_row2_col8\" class=\"data row2 col8\" >-0.009208</td>\n",
       "    </tr>\n",
       "    <tr>\n",
       "      <th id=\"T_d35a8_level0_row3\" class=\"row_heading level0 row3\" >balance</th>\n",
       "      <td id=\"T_d35a8_row3_col0\" class=\"data row3 col0\" >0.073639</td>\n",
       "      <td id=\"T_d35a8_row3_col1\" class=\"data row3 col1\" >0.097744</td>\n",
       "      <td id=\"T_d35a8_row3_col2\" class=\"data row3 col2\" >0.056322</td>\n",
       "      <td id=\"T_d35a8_row3_col3\" class=\"data row3 col3\" >1.000000</td>\n",
       "      <td id=\"T_d35a8_row3_col4\" class=\"data row3 col4\" >0.004503</td>\n",
       "      <td id=\"T_d35a8_row3_col5\" class=\"data row3 col5\" >-0.014578</td>\n",
       "      <td id=\"T_d35a8_row3_col6\" class=\"data row3 col6\" >0.003435</td>\n",
       "      <td id=\"T_d35a8_row3_col7\" class=\"data row3 col7\" >0.016674</td>\n",
       "      <td id=\"T_d35a8_row3_col8\" class=\"data row3 col8\" >0.021527</td>\n",
       "    </tr>\n",
       "    <tr>\n",
       "      <th id=\"T_d35a8_level0_row4\" class=\"row_heading level0 row4\" >day</th>\n",
       "      <td id=\"T_d35a8_row4_col0\" class=\"data row4 col0\" >-0.061465</td>\n",
       "      <td id=\"T_d35a8_row4_col1\" class=\"data row4 col1\" >-0.009182</td>\n",
       "      <td id=\"T_d35a8_row4_col2\" class=\"data row4 col2\" >0.027688</td>\n",
       "      <td id=\"T_d35a8_row4_col3\" class=\"data row4 col3\" >0.004503</td>\n",
       "      <td id=\"T_d35a8_row4_col4\" class=\"data row4 col4\" >1.000000</td>\n",
       "      <td id=\"T_d35a8_row4_col5\" class=\"data row4 col5\" >0.162490</td>\n",
       "      <td id=\"T_d35a8_row4_col6\" class=\"data row4 col6\" >-0.093044</td>\n",
       "      <td id=\"T_d35a8_row4_col7\" class=\"data row4 col7\" >-0.051710</td>\n",
       "      <td id=\"T_d35a8_row4_col8\" class=\"data row4 col8\" >-0.029670</td>\n",
       "    </tr>\n",
       "    <tr>\n",
       "      <th id=\"T_d35a8_level0_row5\" class=\"row_heading level0 row5\" >campaign</th>\n",
       "      <td id=\"T_d35a8_row5_col0\" class=\"data row5 col0\" >-0.102884</td>\n",
       "      <td id=\"T_d35a8_row5_col1\" class=\"data row5 col1\" >0.004851</td>\n",
       "      <td id=\"T_d35a8_row5_col2\" class=\"data row5 col2\" >0.015300</td>\n",
       "      <td id=\"T_d35a8_row5_col3\" class=\"data row5 col3\" >-0.014578</td>\n",
       "      <td id=\"T_d35a8_row5_col4\" class=\"data row5 col4\" >0.162490</td>\n",
       "      <td id=\"T_d35a8_row5_col5\" class=\"data row5 col5\" >1.000000</td>\n",
       "      <td id=\"T_d35a8_row5_col6\" class=\"data row5 col6\" >-0.088628</td>\n",
       "      <td id=\"T_d35a8_row5_col7\" class=\"data row5 col7\" >-0.032855</td>\n",
       "      <td id=\"T_d35a8_row5_col8\" class=\"data row5 col8\" >-0.081706</td>\n",
       "    </tr>\n",
       "    <tr>\n",
       "      <th id=\"T_d35a8_level0_row6\" class=\"row_heading level0 row6\" >pdays</th>\n",
       "      <td id=\"T_d35a8_row6_col0\" class=\"data row6 col0\" >0.437729</td>\n",
       "      <td id=\"T_d35a8_row6_col1\" class=\"data row6 col1\" >-0.023765</td>\n",
       "      <td id=\"T_d35a8_row6_col2\" class=\"data row6 col2\" >-0.015560</td>\n",
       "      <td id=\"T_d35a8_row6_col3\" class=\"data row6 col3\" >0.003435</td>\n",
       "      <td id=\"T_d35a8_row6_col4\" class=\"data row6 col4\" >-0.093044</td>\n",
       "      <td id=\"T_d35a8_row6_col5\" class=\"data row6 col5\" >-0.088628</td>\n",
       "      <td id=\"T_d35a8_row6_col6\" class=\"data row6 col6\" >1.000000</td>\n",
       "      <td id=\"T_d35a8_row6_col7\" class=\"data row6 col7\" >0.454820</td>\n",
       "      <td id=\"T_d35a8_row6_col8\" class=\"data row6 col8\" >-0.001104</td>\n",
       "    </tr>\n",
       "    <tr>\n",
       "      <th id=\"T_d35a8_level0_row7\" class=\"row_heading level0 row7\" >previous</th>\n",
       "      <td id=\"T_d35a8_row7_col0\" class=\"data row7 col0\" >0.271098</td>\n",
       "      <td id=\"T_d35a8_row7_col1\" class=\"data row7 col1\" >0.001329</td>\n",
       "      <td id=\"T_d35a8_row7_col2\" class=\"data row7 col2\" >0.014186</td>\n",
       "      <td id=\"T_d35a8_row7_col3\" class=\"data row7 col3\" >0.016674</td>\n",
       "      <td id=\"T_d35a8_row7_col4\" class=\"data row7 col4\" >-0.051710</td>\n",
       "      <td id=\"T_d35a8_row7_col5\" class=\"data row7 col5\" >-0.032855</td>\n",
       "      <td id=\"T_d35a8_row7_col6\" class=\"data row7 col6\" >0.454820</td>\n",
       "      <td id=\"T_d35a8_row7_col7\" class=\"data row7 col7\" >1.000000</td>\n",
       "      <td id=\"T_d35a8_row7_col8\" class=\"data row7 col8\" >0.001688</td>\n",
       "    </tr>\n",
       "    <tr>\n",
       "      <th id=\"T_d35a8_level0_row8\" class=\"row_heading level0 row8\" >Duration</th>\n",
       "      <td id=\"T_d35a8_row8_col0\" class=\"data row8 col0\" >0.013089</td>\n",
       "      <td id=\"T_d35a8_row8_col1\" class=\"data row8 col1\" >-0.004845</td>\n",
       "      <td id=\"T_d35a8_row8_col2\" class=\"data row8 col2\" >-0.009208</td>\n",
       "      <td id=\"T_d35a8_row8_col3\" class=\"data row8 col3\" >0.021527</td>\n",
       "      <td id=\"T_d35a8_row8_col4\" class=\"data row8 col4\" >-0.029670</td>\n",
       "      <td id=\"T_d35a8_row8_col5\" class=\"data row8 col5\" >-0.081706</td>\n",
       "      <td id=\"T_d35a8_row8_col6\" class=\"data row8 col6\" >-0.001104</td>\n",
       "      <td id=\"T_d35a8_row8_col7\" class=\"data row8 col7\" >0.001688</td>\n",
       "      <td id=\"T_d35a8_row8_col8\" class=\"data row8 col8\" >1.000000</td>\n",
       "    </tr>\n",
       "  </tbody>\n",
       "</table>\n"
      ],
      "text/plain": [
       "<pandas.io.formats.style.Styler at 0x2bf5ecd5790>"
      ]
     },
     "execution_count": 56,
     "metadata": {},
     "output_type": "execute_result"
    }
   ],
   "source": [
    "corr = data.corr()\n",
    "\n",
    "corr.style.background_gradient(cmap='coolwarm')"
   ]
  },
  {
   "cell_type": "markdown",
   "id": "a7533ca6",
   "metadata": {},
   "source": [
    "## Statistics Manipulations:\n"
   ]
  },
  {
   "cell_type": "markdown",
   "id": "31c13205",
   "metadata": {},
   "source": [
    "### 1. Find the correlation between the columns and draw the observations from it."
   ]
  },
  {
   "cell_type": "code",
   "execution_count": 57,
   "id": "cf2bdcc1",
   "metadata": {},
   "outputs": [
    {
     "data": {
      "text/plain": [
       "Text(0.5, 1.0, 'Features Correlation')"
      ]
     },
     "execution_count": 57,
     "metadata": {},
     "output_type": "execute_result"
    },
    {
     "data": {
      "image/png": "[encoded data removed]",
      "text/plain": [
       "<Figure size 1008x720 with 2 Axes>"
      ]
     },
     "metadata": {
      "needs_background": "light"
     },
     "output_type": "display_data"
    }
   ],
   "source": [
    "color = sns.diverging_palette(250, 6, as_cmap = True)\n",
    "\n",
    "plt.figure(figsize = (14, 10))\n",
    "sns.heatmap(data.corr(), cmap = color, annot = True)\n",
    "plt.title(\"Features Correlation\", fontsize = 15)"
   ]
  },
  {
   "cell_type": "markdown",
   "id": "e008b4a4",
   "metadata": {},
   "source": [
    "### 2. Find the mean of every column response wise and draw the observations.\n"
   ]
  },
  {
   "cell_type": "code",
   "execution_count": 58,
   "id": "c2a604bb",
   "metadata": {},
   "outputs": [],
   "source": [
    "data_mean = pd.DataFrame(data.mean(), columns=['response'])\n",
    "\n",
    "#create list of mean values\n",
    "mean_list = data.mean().to_list"
   ]
  },
  {
   "cell_type": "code",
   "execution_count": 59,
   "id": "d9ec93f0",
   "metadata": {},
   "outputs": [
    {
     "data": {
      "text/plain": [
       "<bound method IndexOpsMixin.tolist of customerid    22606.000000\n",
       "age              40.935651\n",
       "salary        57084.453698\n",
       "balance        1362.272058\n",
       "day              15.806419\n",
       "campaign          2.763841\n",
       "pdays            40.197828\n",
       "previous          0.580323\n",
       "Duration          4.801884\n",
       "dtype: float64>"
      ]
     },
     "execution_count": 59,
     "metadata": {},
     "output_type": "execute_result"
    }
   ],
   "source": [
    "mean_list"
   ]
  },
  {
   "cell_type": "code",
   "execution_count": null,
   "id": "cb1e5ee3",
   "metadata": {},
   "outputs": [],
   "source": []
  },
  {
   "cell_type": "markdown",
   "id": "9e5986ed",
   "metadata": {},
   "source": [
    "### 3. Find the Best features using correlation and Chi-square test.\n"
   ]
  },
  {
   "cell_type": "code",
   "execution_count": 60,
   "id": "22bee67d",
   "metadata": {},
   "outputs": [],
   "source": [
    "from scipy import stats"
   ]
  },
  {
   "cell_type": "code",
   "execution_count": 61,
   "id": "6cf590ac",
   "metadata": {},
   "outputs": [],
   "source": [
    "def chisquare_test_result(data,col):    \n",
    "    data_crosstab = pd.crosstab(data['response'],data[col])\n",
    "    stat,p,dof,exp = stats.chi2_contingency(data_crosstab)\n",
    "    print(colored('p-value: {}'.format(p),attrs=['bold']))\n",
    "    if p < 0.05:\n",
    "        #print('Reject H0: {} and response columns are dependent'.format(col))\n",
    "        print(colored('Reject H0: {} and response columns are dependent'.format(col), 'blue', attrs=['bold']))\n",
    "    else:\n",
    "        #print('Failed Reject H0: {} and response columns are independent'.format(col))\n",
    "        print(colored('Failed Reject H0: {} and response columns are independent'.format(col), 'green', attrs=['bold']))"
   ]
  },
  {
   "cell_type": "code",
   "execution_count": 62,
   "id": "b53ed397",
   "metadata": {},
   "outputs": [
    {
     "name": "stdout",
     "output_type": "stream",
     "text": [
      "\u001b[1mp-value: 0.49778882923322154\u001b[0m\n",
      "\u001b[1m\u001b[32mFailed Reject H0: customerid and response columns are independent\u001b[0m\n",
      "None\n",
      "\u001b[1mp-value: 2.8888596736141575e-291\u001b[0m\n",
      "\u001b[1m\u001b[34mReject H0: age and response columns are dependent\u001b[0m\n",
      "None\n",
      "\u001b[1mp-value: 1.5735225816063904e-173\u001b[0m\n",
      "\u001b[1m\u001b[34mReject H0: salary and response columns are dependent\u001b[0m\n",
      "None\n",
      "\u001b[1mp-value: 2.540495233843445e-97\u001b[0m\n",
      "\u001b[1m\u001b[34mReject H0: balance and response columns are dependent\u001b[0m\n",
      "None\n",
      "\u001b[1mp-value: 1.8681472648318553e-43\u001b[0m\n",
      "\u001b[1m\u001b[34mReject H0: marital and response columns are dependent\u001b[0m\n",
      "None\n",
      "\u001b[1mp-value: 9.381911967425468e-49\u001b[0m\n",
      "\u001b[1m\u001b[34mReject H0: targeted and response columns are dependent\u001b[0m\n",
      "None\n",
      "\u001b[1mp-value: 2.3968431957588926e-06\u001b[0m\n",
      "\u001b[1m\u001b[34mReject H0: default and response columns are dependent\u001b[0m\n",
      "None\n",
      "\u001b[1mp-value: 2.0228727874528705e-192\u001b[0m\n",
      "\u001b[1m\u001b[34mReject H0: housing and response columns are dependent\u001b[0m\n",
      "None\n",
      "\u001b[1mp-value: 2.36941212118494e-47\u001b[0m\n",
      "\u001b[1m\u001b[34mReject H0: loan and response columns are dependent\u001b[0m\n",
      "None\n",
      "\u001b[1mp-value: 1.8111970652423886e-225\u001b[0m\n",
      "\u001b[1m\u001b[34mReject H0: contact and response columns are dependent\u001b[0m\n",
      "None\n",
      "\u001b[1mp-value: 1.41698919630425e-102\u001b[0m\n",
      "\u001b[1m\u001b[34mReject H0: day and response columns are dependent\u001b[0m\n",
      "None\n",
      "\u001b[1mp-value: 1.2027922563409433e-49\u001b[0m\n",
      "\u001b[1m\u001b[34mReject H0: campaign and response columns are dependent\u001b[0m\n",
      "None\n",
      "\u001b[1mp-value: 0.0\u001b[0m\n",
      "\u001b[1m\u001b[34mReject H0: pdays and response columns are dependent\u001b[0m\n",
      "None\n",
      "\u001b[1mp-value: 2.15364204493888e-262\u001b[0m\n",
      "\u001b[1m\u001b[34mReject H0: previous and response columns are dependent\u001b[0m\n",
      "None\n",
      "\u001b[1mp-value: 0.0\u001b[0m\n",
      "\u001b[1m\u001b[34mReject H0: poutcome and response columns are dependent\u001b[0m\n",
      "None\n",
      "\u001b[1mp-value: 0.0\u001b[0m\n",
      "\u001b[1m\u001b[34mReject H0: response and response columns are dependent\u001b[0m\n",
      "None\n",
      "\u001b[1mp-value: 2.5565201264126892e-172\u001b[0m\n",
      "\u001b[1m\u001b[34mReject H0: job and response columns are dependent\u001b[0m\n",
      "None\n",
      "\u001b[1mp-value: 1.5613772297501723e-51\u001b[0m\n",
      "\u001b[1m\u001b[34mReject H0: education and response columns are dependent\u001b[0m\n",
      "None\n",
      "\u001b[1mp-value: 0.0\u001b[0m\n",
      "\u001b[1m\u001b[34mReject H0: Duration and response columns are dependent\u001b[0m\n",
      "None\n",
      "\u001b[1mp-value: 0.0\u001b[0m\n",
      "\u001b[1m\u001b[34mReject H0: months and response columns are dependent\u001b[0m\n",
      "None\n",
      "\u001b[1mp-value: 1.0\u001b[0m\n",
      "\u001b[1m\u001b[32mFailed Reject H0: year and response columns are independent\u001b[0m\n",
      "None\n"
     ]
    }
   ],
   "source": [
    "for col in data.columns:\n",
    "    print(chisquare_test_result(data,col))"
   ]
  },
  {
   "cell_type": "code",
   "execution_count": null,
   "id": "c95b96af",
   "metadata": {},
   "outputs": [],
   "source": []
  },
  {
   "cell_type": "code",
   "execution_count": null,
   "id": "3d5490b8",
   "metadata": {},
   "outputs": [],
   "source": []
  },
  {
   "cell_type": "markdown",
   "id": "26a9db7e",
   "metadata": {},
   "source": [
    "### 4. Find the relation of salary and age column using statistical tests and draw the observations from it.\n"
   ]
  },
  {
   "cell_type": "code",
   "execution_count": 63,
   "id": "bed23ca4",
   "metadata": {},
   "outputs": [],
   "source": [
    "new_age = []\n",
    "for i in data[\"age\"]:\n",
    "    if i<30.0:\n",
    "        new_age.append(\"18-29\")\n",
    "    elif i>=30.0 and i<50.0:\n",
    "        new_age.append(\"30-49\")\n",
    "    elif i>=50.0 and i<70.0:\n",
    "        new_age.append(\"50-69\")\n",
    "    elif i>=70.0 and i<90.0:\n",
    "        new_age.append(\"70-89\")\n",
    "    else:\n",
    "        new_age.append(\"90-95\")"
   ]
  },
  {
   "cell_type": "code",
   "execution_count": 64,
   "id": "332d3ff9",
   "metadata": {},
   "outputs": [],
   "source": [
    "data['age'].min(),data['age'].max()\n",
    "data[\"new_age\"] = new_age"
   ]
  },
  {
   "cell_type": "code",
   "execution_count": 65,
   "id": "31b26df2",
   "metadata": {},
   "outputs": [
    {
     "data": {
      "text/plain": [
       "dtype('O')"
      ]
     },
     "execution_count": 65,
     "metadata": {},
     "output_type": "execute_result"
    }
   ],
   "source": [
    "data[\"new_age\"].dtypes"
   ]
  },
  {
   "cell_type": "code",
   "execution_count": 66,
   "id": "60666415",
   "metadata": {},
   "outputs": [
    {
     "data": {
      "text/plain": [
       "(0.0, 120000.0)"
      ]
     },
     "execution_count": 66,
     "metadata": {},
     "output_type": "execute_result"
    }
   ],
   "source": [
    "data['salary'].min(),data['salary'].max()"
   ]
  },
  {
   "cell_type": "code",
   "execution_count": 67,
   "id": "98404b53",
   "metadata": {},
   "outputs": [],
   "source": [
    "new_salary = []\n",
    "for i in data[\"salary\"]:\n",
    "    if i> 0.0 and i<15000.0:\n",
    "        new_salary.append(\"0-15000\")\n",
    "    elif i>=15000.0 and i<30000.0:\n",
    "        new_salary.append(\"15000-30000\")\n",
    "    elif i>=30000.0 and i<60000.0:\n",
    "        new_salary.append(\"30000-60000\")\n",
    "    else:\n",
    "        new_salary.append(\"60000-120000\")\n",
    "data[\"new_salary\"] = new_salary"
   ]
  },
  {
   "cell_type": "code",
   "execution_count": 68,
   "id": "9f259326",
   "metadata": {},
   "outputs": [
    {
     "name": "stdout",
     "output_type": "stream",
     "text": [
      "\u001b[1m\u001b[34m+--------------+---------+---------+---------+---------+---------+\n",
      "| new_salary   |   18-29 |   30-49 |   50-69 |   70-89 |   90-95 |\n",
      "+==============+=========+=========+=========+=========+=========+\n",
      "| 0-15000      |     877 |    1064 |     300 |       0 |       0 |\n",
      "+--------------+---------+---------+---------+---------+---------+\n",
      "| 15000-30000  |    1188 |    7547 |    2216 |      21 |       0 |\n",
      "+--------------+---------+---------+---------+---------+---------+\n",
      "| 30000-60000  |     756 |    3698 |    2549 |     485 |       9 |\n",
      "+--------------+---------+---------+---------+---------+---------+\n",
      "| 60000-120000 |    2450 |   17443 |    4569 |      39 |       0 |\n",
      "+--------------+---------+---------+---------+---------+---------+\u001b[0m\n"
     ]
    }
   ],
   "source": [
    "crosstab = pd.crosstab(data['new_salary'],data['new_age'])\n",
    "#crosstab\n",
    "#print(tabulate(crosstab, headers = 'keys', tablefmt = 'grid'))\n",
    "print(colored(tabulate(crosstab, headers = 'keys', tablefmt = 'grid'), 'blue', attrs=['bold']))"
   ]
  },
  {
   "cell_type": "code",
   "execution_count": 69,
   "id": "cb1b9f1c",
   "metadata": {},
   "outputs": [
    {
     "data": {
      "text/html": [
       "<div>\n",
       "<style scoped>\n",
       "    .dataframe tbody tr th:only-of-type {\n",
       "        vertical-align: middle;\n",
       "    }\n",
       "\n",
       "    .dataframe tbody tr th {\n",
       "        vertical-align: top;\n",
       "    }\n",
       "\n",
       "    .dataframe thead th {\n",
       "        text-align: right;\n",
       "    }\n",
       "</style>\n",
       "<table border=\"1\" class=\"dataframe\">\n",
       "  <thead>\n",
       "    <tr style=\"text-align: right;\">\n",
       "      <th>new_age</th>\n",
       "      <th>18-29</th>\n",
       "      <th>30-49</th>\n",
       "      <th>50-69</th>\n",
       "      <th>70-89</th>\n",
       "      <th>90-95</th>\n",
       "    </tr>\n",
       "    <tr>\n",
       "      <th>new_salary</th>\n",
       "      <th></th>\n",
       "      <th></th>\n",
       "      <th></th>\n",
       "      <th></th>\n",
       "      <th></th>\n",
       "    </tr>\n",
       "  </thead>\n",
       "  <tbody>\n",
       "    <tr>\n",
       "      <th>0-15000</th>\n",
       "      <td>877</td>\n",
       "      <td>1064</td>\n",
       "      <td>300</td>\n",
       "      <td>0</td>\n",
       "      <td>0</td>\n",
       "    </tr>\n",
       "    <tr>\n",
       "      <th>15000-30000</th>\n",
       "      <td>1188</td>\n",
       "      <td>7547</td>\n",
       "      <td>2216</td>\n",
       "      <td>21</td>\n",
       "      <td>0</td>\n",
       "    </tr>\n",
       "    <tr>\n",
       "      <th>30000-60000</th>\n",
       "      <td>756</td>\n",
       "      <td>3698</td>\n",
       "      <td>2549</td>\n",
       "      <td>485</td>\n",
       "      <td>9</td>\n",
       "    </tr>\n",
       "    <tr>\n",
       "      <th>60000-120000</th>\n",
       "      <td>2450</td>\n",
       "      <td>17443</td>\n",
       "      <td>4569</td>\n",
       "      <td>39</td>\n",
       "      <td>0</td>\n",
       "    </tr>\n",
       "  </tbody>\n",
       "</table>\n",
       "</div>"
      ],
      "text/plain": [
       "new_age       18-29  30-49  50-69  70-89  90-95\n",
       "new_salary                                     \n",
       "0-15000         877   1064    300      0      0\n",
       "15000-30000    1188   7547   2216     21      0\n",
       "30000-60000     756   3698   2549    485      9\n",
       "60000-120000   2450  17443   4569     39      0"
      ]
     },
     "execution_count": 69,
     "metadata": {},
     "output_type": "execute_result"
    }
   ],
   "source": [
    "crosstab = pd.crosstab(data['new_salary'],data['new_age'])\n",
    "crosstab"
   ]
  },
  {
   "cell_type": "code",
   "execution_count": 70,
   "id": "25d62583",
   "metadata": {},
   "outputs": [
    {
     "data": {
      "image/png": "[encoded data removed]",
      "text/plain": [
       "<Figure size 432x288 with 1 Axes>"
      ]
     },
     "metadata": {
      "needs_background": "light"
     },
     "output_type": "display_data"
    }
   ],
   "source": [
    "crosstab.plot(kind=\"bar\", \n",
    "                 stacked=True)\n",
    "plt.ylabel(\"new_age\")\n",
    "plt.xticks(rotation = 45)\n",
    "plt.show()"
   ]
  },
  {
   "cell_type": "markdown",
   "id": "361d8bba",
   "metadata": {},
   "source": [
    "### 5. Using statistical analysis find that is age column is impacting the duration column or not.\n"
   ]
  },
  {
   "cell_type": "code",
   "execution_count": 71,
   "id": "743f9013",
   "metadata": {},
   "outputs": [
    {
     "data": {
      "text/html": [
       "<div>\n",
       "<style scoped>\n",
       "    .dataframe tbody tr th:only-of-type {\n",
       "        vertical-align: middle;\n",
       "    }\n",
       "\n",
       "    .dataframe tbody tr th {\n",
       "        vertical-align: top;\n",
       "    }\n",
       "\n",
       "    .dataframe thead th {\n",
       "        text-align: right;\n",
       "    }\n",
       "</style>\n",
       "<table border=\"1\" class=\"dataframe\">\n",
       "  <thead>\n",
       "    <tr style=\"text-align: right;\">\n",
       "      <th></th>\n",
       "      <th>age</th>\n",
       "      <th>Duration</th>\n",
       "    </tr>\n",
       "  </thead>\n",
       "  <tbody>\n",
       "    <tr>\n",
       "      <th>age</th>\n",
       "      <td>112.717471</td>\n",
       "      <td>-0.220866</td>\n",
       "    </tr>\n",
       "    <tr>\n",
       "      <th>Duration</th>\n",
       "      <td>-0.220866</td>\n",
       "      <td>18.435755</td>\n",
       "    </tr>\n",
       "  </tbody>\n",
       "</table>\n",
       "</div>"
      ],
      "text/plain": [
       "                 age   Duration\n",
       "age       112.717471  -0.220866\n",
       "Duration   -0.220866  18.435755"
      ]
     },
     "execution_count": 71,
     "metadata": {},
     "output_type": "execute_result"
    }
   ],
   "source": [
    "data[['age','Duration']].cov()"
   ]
  },
  {
   "cell_type": "code",
   "execution_count": 72,
   "id": "5fd5c35f",
   "metadata": {},
   "outputs": [
    {
     "data": {
      "image/png": "[encoded data removed]",
      "text/plain": [
       "<Figure size 432x288 with 1 Axes>"
      ]
     },
     "metadata": {
      "needs_background": "light"
     },
     "output_type": "display_data"
    }
   ],
   "source": [
    "sns.regplot(data['Duration'],data['age'])\n",
    "plt.show()"
   ]
  },
  {
   "cell_type": "code",
   "execution_count": 73,
   "id": "93d52f10",
   "metadata": {},
   "outputs": [
    {
     "data": {
      "image/png": "[encoded data removed]",
      "text/plain": [
       "<Figure size 432x288 with 2 Axes>"
      ]
     },
     "metadata": {
      "needs_background": "light"
     },
     "output_type": "display_data"
    }
   ],
   "source": [
    "sns.heatmap(data[['age','Duration']].corr(), annot=True)\n",
    "plt.show()"
   ]
  },
  {
   "cell_type": "code",
   "execution_count": null,
   "id": "88c0d929",
   "metadata": {},
   "outputs": [],
   "source": []
  },
  {
   "cell_type": "code",
   "execution_count": null,
   "id": "3862ad17",
   "metadata": {},
   "outputs": [],
   "source": []
  },
  {
   "cell_type": "markdown",
   "id": "0879117c",
   "metadata": {},
   "source": [
    "### 6. Show that the columns are following the Normal Distribution or not, if not following try to convert it non-normal to normal. (use transformation techniques)\n"
   ]
  },
  {
   "cell_type": "code",
   "execution_count": 74,
   "id": "25faa8e2",
   "metadata": {},
   "outputs": [
    {
     "data": {
      "image/png": "[encoded data removed]",
      "text/plain": [
       "<Figure size 432x288 with 1 Axes>"
      ]
     },
     "metadata": {
      "needs_background": "light"
     },
     "output_type": "display_data"
    }
   ],
   "source": [
    "stats.probplot(np.log(data['age']),plot = plt);"
   ]
  },
  {
   "cell_type": "code",
   "execution_count": 75,
   "id": "54e7056a",
   "metadata": {},
   "outputs": [
    {
     "data": {
      "image/png": "[encoded data removed]",
      "text/plain": [
       "<Figure size 432x288 with 1 Axes>"
      ]
     },
     "metadata": {
      "needs_background": "light"
     },
     "output_type": "display_data"
    }
   ],
   "source": [
    "stats.probplot(np.log(data['day']),plot = plt);"
   ]
  },
  {
   "cell_type": "code",
   "execution_count": 76,
   "id": "839cff1c",
   "metadata": {},
   "outputs": [
    {
     "data": {
      "image/png": "[encoded data removed]",
      "text/plain": [
       "<Figure size 432x288 with 1 Axes>"
      ]
     },
     "metadata": {
      "needs_background": "light"
     },
     "output_type": "display_data"
    }
   ],
   "source": [
    "stats.probplot(np.log(data['campaign']),plot = plt);"
   ]
  },
  {
   "cell_type": "code",
   "execution_count": 77,
   "id": "e5a4054b",
   "metadata": {},
   "outputs": [
    {
     "data": {
      "image/png": "[encoded data removed]",
      "text/plain": [
       "<Figure size 432x288 with 1 Axes>"
      ]
     },
     "metadata": {
      "needs_background": "light"
     },
     "output_type": "display_data"
    }
   ],
   "source": [
    "stats.probplot(np.log(data['pdays']),plot = plt);"
   ]
  },
  {
   "cell_type": "code",
   "execution_count": 78,
   "id": "761d8065",
   "metadata": {},
   "outputs": [],
   "source": [
    "pdays = data['pdays'].values\n"
   ]
  },
  {
   "cell_type": "code",
   "execution_count": 79,
   "id": "47b25ca4",
   "metadata": {},
   "outputs": [
    {
     "data": {
      "image/png": "[encoded data removed]",
      "text/plain": [
       "<Figure size 576x288 with 1 Axes>"
      ]
     },
     "metadata": {
      "needs_background": "light"
     },
     "output_type": "display_data"
    }
   ],
   "source": [
    "fig, ax = plt.subplots(figsize=(8, 4))\n",
    "ax.hist(pdays, bins='auto', density=True)\n",
    "ax.set_xlabel('pdays')\n",
    "ax.set_ylabel('probability')\n",
    "ax.set_title('Non-normal Distribution of pdays');"
   ]
  },
  {
   "cell_type": "code",
   "execution_count": 80,
   "id": "4ea9586a",
   "metadata": {},
   "outputs": [
    {
     "data": {
      "image/png": "[encoded data removed]",
      "text/plain": [
       "<Figure size 432x288 with 1 Axes>"
      ]
     },
     "metadata": {
      "needs_background": "light"
     },
     "output_type": "display_data"
    }
   ],
   "source": [
    "stats.probplot(np.log(data['previous']),plot = plt);"
   ]
  },
  {
   "cell_type": "code",
   "execution_count": 81,
   "id": "07444dea",
   "metadata": {},
   "outputs": [
    {
     "data": {
      "image/png": "[encoded data removed]",
      "text/plain": [
       "<Figure size 432x288 with 1 Axes>"
      ]
     },
     "metadata": {
      "needs_background": "light"
     },
     "output_type": "display_data"
    }
   ],
   "source": [
    "stats.probplot(np.log(data['Duration']),plot = plt);"
   ]
  },
  {
   "cell_type": "markdown",
   "id": "336924de",
   "metadata": {},
   "source": [
    "### 7. Let’s check do we have any statistical patterns in the Data frame (using plots or analysis)"
   ]
  },
  {
   "cell_type": "code",
   "execution_count": 82,
   "id": "5602c131",
   "metadata": {},
   "outputs": [
    {
     "data": {
      "text/plain": [
       "60000-120000    24501\n",
       "15000-30000     10972\n",
       "30000-60000      7497\n",
       "0-15000          2241\n",
       "Name: new_salary, dtype: int64"
      ]
     },
     "execution_count": 82,
     "metadata": {},
     "output_type": "execute_result"
    }
   ],
   "source": [
    "data[\"new_salary\"].value_counts()"
   ]
  },
  {
   "cell_type": "code",
   "execution_count": 83,
   "id": "920c0eef",
   "metadata": {},
   "outputs": [
    {
     "data": {
      "text/plain": [
       "customerid      int64\n",
       "age           float64\n",
       "salary        float64\n",
       "balance         int64\n",
       "marital        object\n",
       "targeted       object\n",
       "default        object\n",
       "housing        object\n",
       "loan           object\n",
       "contact        object\n",
       "day             int64\n",
       "campaign        int64\n",
       "pdays           int64\n",
       "previous        int64\n",
       "poutcome       object\n",
       "response       object\n",
       "job            object\n",
       "education      object\n",
       "Duration        int64\n",
       "months         object\n",
       "year           object\n",
       "new_age        object\n",
       "new_salary     object\n",
       "dtype: object"
      ]
     },
     "execution_count": 83,
     "metadata": {},
     "output_type": "execute_result"
    }
   ],
   "source": [
    "data.dtypes"
   ]
  },
  {
   "cell_type": "code",
   "execution_count": 84,
   "id": "90375d16",
   "metadata": {},
   "outputs": [
    {
     "data": {
      "text/html": [
       "<div>\n",
       "<style scoped>\n",
       "    .dataframe tbody tr th:only-of-type {\n",
       "        vertical-align: middle;\n",
       "    }\n",
       "\n",
       "    .dataframe tbody tr th {\n",
       "        vertical-align: top;\n",
       "    }\n",
       "\n",
       "    .dataframe thead th {\n",
       "        text-align: right;\n",
       "    }\n",
       "</style>\n",
       "<table border=\"1\" class=\"dataframe\">\n",
       "  <thead>\n",
       "    <tr style=\"text-align: right;\">\n",
       "      <th></th>\n",
       "      <th>customerid</th>\n",
       "      <th>age</th>\n",
       "      <th>salary</th>\n",
       "      <th>balance</th>\n",
       "      <th>marital</th>\n",
       "      <th>targeted</th>\n",
       "      <th>default</th>\n",
       "      <th>housing</th>\n",
       "      <th>loan</th>\n",
       "      <th>contact</th>\n",
       "      <th>...</th>\n",
       "      <th>previous</th>\n",
       "      <th>poutcome</th>\n",
       "      <th>response</th>\n",
       "      <th>job</th>\n",
       "      <th>education</th>\n",
       "      <th>Duration</th>\n",
       "      <th>months</th>\n",
       "      <th>year</th>\n",
       "      <th>new_age</th>\n",
       "      <th>new_salary</th>\n",
       "    </tr>\n",
       "  </thead>\n",
       "  <tbody>\n",
       "    <tr>\n",
       "      <th>0</th>\n",
       "      <td>1</td>\n",
       "      <td>58.0</td>\n",
       "      <td>100000.0</td>\n",
       "      <td>2143</td>\n",
       "      <td>married</td>\n",
       "      <td>yes</td>\n",
       "      <td>no</td>\n",
       "      <td>yes</td>\n",
       "      <td>no</td>\n",
       "      <td>unknown</td>\n",
       "      <td>...</td>\n",
       "      <td>0</td>\n",
       "      <td>unknown</td>\n",
       "      <td>no</td>\n",
       "      <td>management</td>\n",
       "      <td>tertiary</td>\n",
       "      <td>5</td>\n",
       "      <td>may</td>\n",
       "      <td>2017</td>\n",
       "      <td>50-69</td>\n",
       "      <td>60000-120000</td>\n",
       "    </tr>\n",
       "    <tr>\n",
       "      <th>1</th>\n",
       "      <td>2</td>\n",
       "      <td>44.0</td>\n",
       "      <td>60000.0</td>\n",
       "      <td>29</td>\n",
       "      <td>single</td>\n",
       "      <td>yes</td>\n",
       "      <td>no</td>\n",
       "      <td>yes</td>\n",
       "      <td>no</td>\n",
       "      <td>unknown</td>\n",
       "      <td>...</td>\n",
       "      <td>0</td>\n",
       "      <td>unknown</td>\n",
       "      <td>no</td>\n",
       "      <td>technician</td>\n",
       "      <td>secondary</td>\n",
       "      <td>3</td>\n",
       "      <td>may</td>\n",
       "      <td>2017</td>\n",
       "      <td>30-49</td>\n",
       "      <td>60000-120000</td>\n",
       "    </tr>\n",
       "  </tbody>\n",
       "</table>\n",
       "<p>2 rows × 23 columns</p>\n",
       "</div>"
      ],
      "text/plain": [
       "   customerid   age    salary  balance  marital targeted default housing loan  \\\n",
       "0           1  58.0  100000.0     2143  married      yes      no     yes   no   \n",
       "1           2  44.0   60000.0       29   single      yes      no     yes   no   \n",
       "\n",
       "   contact  ...  previous  poutcome  response         job  education Duration  \\\n",
       "0  unknown  ...         0   unknown        no  management   tertiary        5   \n",
       "1  unknown  ...         0   unknown        no  technician  secondary        3   \n",
       "\n",
       "  months   year  new_age    new_salary  \n",
       "0    may   2017    50-69  60000-120000  \n",
       "1    may   2017    30-49  60000-120000  \n",
       "\n",
       "[2 rows x 23 columns]"
      ]
     },
     "execution_count": 84,
     "metadata": {},
     "output_type": "execute_result"
    }
   ],
   "source": [
    "data.head(2)"
   ]
  },
  {
   "cell_type": "code",
   "execution_count": 85,
   "id": "bce0ee01",
   "metadata": {},
   "outputs": [
    {
     "data": {
      "text/plain": [
       "<AxesSubplot:xlabel='poutcome', ylabel='age'>"
      ]
     },
     "execution_count": 85,
     "metadata": {},
     "output_type": "execute_result"
    },
    {
     "data": {
      "image/png": "[encoded data removed]",
      "text/plain": [
       "<Figure size 432x288 with 1 Axes>"
      ]
     },
     "metadata": {
      "needs_background": "light"
     },
     "output_type": "display_data"
    }
   ],
   "source": [
    "sns.barplot(x = \"poutcome\", y =\"age\", data = data)"
   ]
  },
  {
   "cell_type": "code",
   "execution_count": 86,
   "id": "33efde37",
   "metadata": {},
   "outputs": [
    {
     "data": {
      "text/plain": [
       "unknown    36959\n",
       "failure     4901\n",
       "other       1840\n",
       "success     1511\n",
       "Name: poutcome, dtype: int64"
      ]
     },
     "execution_count": 86,
     "metadata": {},
     "output_type": "execute_result"
    }
   ],
   "source": [
    "data[\"poutcome\"].value_counts()"
   ]
  },
  {
   "cell_type": "code",
   "execution_count": 87,
   "id": "5375553a",
   "metadata": {},
   "outputs": [
    {
     "data": {
      "text/plain": [
       "no     39919\n",
       "yes     5292\n",
       "Name: response, dtype: int64"
      ]
     },
     "execution_count": 87,
     "metadata": {},
     "output_type": "execute_result"
    }
   ],
   "source": [
    "data[\"response\"].value_counts()"
   ]
  },
  {
   "cell_type": "code",
   "execution_count": 88,
   "id": "43f32618",
   "metadata": {},
   "outputs": [
    {
     "name": "stdout",
     "output_type": "stream",
     "text": [
      "\u001b[1m\u001b[34m+------------+-----------+---------------+---------------+----------------+\n",
      "| poutcome   |   0-15000 |   15000-30000 |   30000-60000 |   60000-120000 |\n",
      "+============+===========+===============+===============+================+\n",
      "| failure    |       229 |          1165 |           876 |           2631 |\n",
      "+------------+-----------+---------------+---------------+----------------+\n",
      "| other      |       118 |           427 |           324 |            971 |\n",
      "+------------+-----------+---------------+---------------+----------------+\n",
      "| success    |       151 |           177 |           380 |            803 |\n",
      "+------------+-----------+---------------+---------------+----------------+\n",
      "| unknown    |      1743 |          9203 |          5917 |          20096 |\n",
      "+------------+-----------+---------------+---------------+----------------+\u001b[0m\n"
     ]
    },
    {
     "data": {
      "image/png": "[encoded data removed]",
      "text/plain": [
       "<Figure size 432x288 with 1 Axes>"
      ]
     },
     "metadata": {
      "needs_background": "light"
     },
     "output_type": "display_data"
    }
   ],
   "source": [
    "crosstab = pd.crosstab(data['poutcome'],data['new_salary'])\n",
    "print(colored(tabulate(crosstab, headers = 'keys', tablefmt = 'grid'), 'blue', attrs=['bold']))\n",
    "crosstab.plot(kind=\"bar\", \n",
    "                 stacked=True)\n",
    "plt.ylabel(\"new_salary\")\n",
    "#plt.ylim(0,5000)\n",
    "plt.xticks(rotation = 45)\n",
    "plt.show()"
   ]
  },
  {
   "cell_type": "code",
   "execution_count": 89,
   "id": "4f62beb7",
   "metadata": {},
   "outputs": [
    {
     "data": {
      "image/png": "[encoded data removed]",
      "text/plain": [
       "<Figure size 432x288 with 1 Axes>"
      ]
     },
     "metadata": {
      "needs_background": "light"
     },
     "output_type": "display_data"
    }
   ],
   "source": [
    "crosstab.plot(kind=\"bar\", \n",
    "                 stacked=True)\n",
    "plt.ylabel(\"new_salary\")\n",
    "plt.ylim(0,3000)\n",
    "plt.xticks(rotation = 45)\n",
    "plt.show()"
   ]
  },
  {
   "cell_type": "code",
   "execution_count": 90,
   "id": "9694cb09",
   "metadata": {},
   "outputs": [
    {
     "ename": "NameError",
     "evalue": "name 'jon' is not defined",
     "output_type": "error",
     "traceback": [
      "\u001b[1;31m---------------------------------------------------------------------------\u001b[0m",
      "\u001b[1;31mNameError\u001b[0m                                 Traceback (most recent call last)",
      "\u001b[1;32m~\\AppData\\Local\\Temp/ipykernel_2064/838884447.py\u001b[0m in \u001b[0;36m<module>\u001b[1;34m\u001b[0m\n\u001b[0;32m      1\u001b[0m \u001b[0mjob1\u001b[0m \u001b[1;33m=\u001b[0m \u001b[0mdata\u001b[0m\u001b[1;33m[\u001b[0m\u001b[1;34m\"job\"\u001b[0m\u001b[1;33m]\u001b[0m\u001b[1;33m.\u001b[0m\u001b[0miloc\u001b[0m\u001b[1;33m[\u001b[0m\u001b[1;36m0\u001b[0m\u001b[1;33m:\u001b[0m\u001b[1;36m6\u001b[0m\u001b[1;33m]\u001b[0m\u001b[1;33m\u001b[0m\u001b[1;33m\u001b[0m\u001b[0m\n\u001b[1;32m----> 2\u001b[1;33m \u001b[0mjon\u001b[0m\u001b[1;33m\u001b[0m\u001b[1;33m\u001b[0m\u001b[0m\n\u001b[0m",
      "\u001b[1;31mNameError\u001b[0m: name 'jon' is not defined"
     ]
    }
   ],
   "source": [
    "job1 = data[\"job\"].iloc[0:6]\n",
    "jon"
   ]
  },
  {
   "cell_type": "code",
   "execution_count": null,
   "id": "26e7a91b",
   "metadata": {},
   "outputs": [],
   "source": [
    "crosstab = pd.crosstab(data['response'],data['education'])\n",
    "print(colored(tabulate(crosstab, headers = 'keys', tablefmt = 'grid'), 'blue', attrs=['bold']))\n",
    "crosstab.plot(kind=\"bar\", \n",
    "                 stacked=True)\n",
    "plt.ylabel(\"education\")\n",
    "#plt.ylim(0,6000)\n",
    "plt.xticks(rotation = 45)\n",
    "plt.show()"
   ]
  },
  {
   "cell_type": "code",
   "execution_count": null,
   "id": "ef42a4e0",
   "metadata": {},
   "outputs": [],
   "source": []
  },
  {
   "cell_type": "code",
   "execution_count": null,
   "id": "6e43f822",
   "metadata": {
    "scrolled": true
   },
   "outputs": [],
   "source": [
    "crosstab = pd.crosstab(data['response'],data['poutcome'])\n",
    "print(colored(tabulate(crosstab, headers = 'keys', tablefmt = 'grid'), 'blue', attrs=['bold']))\n",
    "crosstab.plot(kind=\"bar\", \n",
    "                 stacked=True)\n",
    "plt.ylabel(\"job\")\n",
    "#plt.ylim(0,6000)\n",
    "plt.xticks(rotation = 45)\n",
    "plt.show()"
   ]
  },
  {
   "cell_type": "code",
   "execution_count": null,
   "id": "939961b6",
   "metadata": {},
   "outputs": [],
   "source": [
    "data[\"response\"].value_counts(),len(data),data[\"targeted\"].value_counts() "
   ]
  },
  {
   "cell_type": "code",
   "execution_count": null,
   "id": "7937328c",
   "metadata": {},
   "outputs": [],
   "source": []
  }
 ],
 "metadata": {
  "kernelspec": {
   "display_name": "Python 3 (ipykernel)",
   "language": "python",
   "name": "python3"
  },
  "language_info": {
   "codemirror_mode": {
    "name": "ipython",
    "version": 3
   },
   "file_extension": ".py",
   "mimetype": "text/x-python",
   "name": "python",
   "nbconvert_exporter": "python",
   "pygments_lexer": "ipython3",
   "version": "3.9.7"
  }
 },
 "nbformat": 4,
 "nbformat_minor": 5
}
